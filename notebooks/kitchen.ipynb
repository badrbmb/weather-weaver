{
 "cells": [
  {
   "cell_type": "code",
   "execution_count": 1,
   "metadata": {},
   "outputs": [],
   "source": [
    "%load_ext autoreload\n",
    "%autoreload 2"
   ]
  },
  {
   "cell_type": "code",
   "execution_count": 2,
   "metadata": {},
   "outputs": [],
   "source": [
    "import datetime as dt\n",
    "\n",
    "import dask.dataframe as dd\n",
    "import pandas as pd\n",
    "import plotly.express as px\n",
    "import xarray as xr\n",
    "\n",
    "from weather_weaver.utils import load_world_countries\n",
    "from weather_weaver.inputs.ecmwf.constants import ENTSO_E_ISO3_LIST\n",
    "\n",
    "from weather_weaver.inputs.ecmwf.open_data import (\n",
    "    ECMWFOpenDataFetcher,\n",
    "    ECMWFOpenDataRequest,\n",
    "    EMCWFOpenDataProcessor,\n",
    "    GeoFilterModel,\n",
    "    StreamType,\n",
    "    RunTime,\n",
    "    RequestType,\n",
    ")\n",
    "\n",
    "pd.set_option(\"display.max_columns\", 500)"
   ]
  },
  {
   "cell_type": "code",
   "execution_count": 3,
   "metadata": {},
   "outputs": [],
   "source": [
    "world = load_world_countries()"
   ]
  },
  {
   "cell_type": "code",
   "execution_count": 4,
   "metadata": {},
   "outputs": [],
   "source": [
    "geo_filter_df = world[world[\"country_iso3\"].isin(ENTSO_E_ISO3_LIST)].copy()\n",
    "\n",
    "# define the geo filter model\n",
    "geo_filter = GeoFilterModel(filter_df=geo_filter_df, method=\"within\")"
   ]
  },
  {
   "cell_type": "code",
   "execution_count": 7,
   "metadata": {},
   "outputs": [],
   "source": [
    "run_date = dt.date(2024, 1, 1)\n",
    "run_time = RunTime.H00\n",
    "stream =  StreamType.OPER\n",
    "request_type = RequestType.FORECAST\n",
    "\n",
    "data_request = ECMWFOpenDataRequest(\n",
    "    run_date=run_date,\n",
    "    run_time=run_time,\n",
    "    stream=stream,\n",
    "    request_type=request_type,\n",
    ")"
   ]
  },
  {
   "cell_type": "code",
   "execution_count": 8,
   "metadata": {},
   "outputs": [
    {
     "name": "stdout",
     "output_type": "stream",
     "text": [
      "\u001b[2m2024-01-04 17:11:19\u001b[0m [\u001b[32m\u001b[1mdebug    \u001b[0m] \u001b[1mInit fetcher                  \u001b[0m \u001b[36mdata_dir\u001b[0m=\u001b[35mPosixPath('/Users/badrbenmbarek/Documents/work/git/weather-weaver/data/ecmwf/raw')\u001b[0m \u001b[36mdata_source\u001b[0m=\u001b[35mazure\u001b[0m \u001b[36msource\u001b[0m=\u001b[35mECMWF\u001b[0m\n"
     ]
    }
   ],
   "source": [
    "fetcher = ECMWFOpenDataFetcher()"
   ]
  },
  {
   "cell_type": "code",
   "execution_count": 9,
   "metadata": {},
   "outputs": [
    {
     "name": "stdout",
     "output_type": "stream",
     "text": [
      "\u001b[2m2024-01-04 17:11:19\u001b[0m [\u001b[32m\u001b[1mdebug    \u001b[0m] \u001b[1mDownload raw files skipped.   \u001b[0m \u001b[36mdata_source\u001b[0m=\u001b[35mazure\u001b[0m \u001b[36mdestination_path\u001b[0m=\u001b[35mPosixPath('/Users/badrbenmbarek/Documents/work/git/weather-weaver/data/ecmwf/raw/oper/20240101_00z_0-90_oper_fc.grib2')\u001b[0m \u001b[36mfetcher\u001b[0m=\u001b[35mECMWFOpenDataFetcher\u001b[0m \u001b[36mrequest\u001b[0m=\u001b[35mECMWFOpenDataRequest(run_date=datetime.date(2024, 1, 1), run_time=<RunTime.H00: 0>, stream=<StreamType.OPER: 'oper'>, request_type=<RequestType.FORECAST: 'fc'>, nwp_parameters=['2t', 'tp', '10u', '10v'], forecast_steps=[0, 3, 6, 9, 12, 15, 18, 21, 24, 27, 30, 33, 36, 39, 42, 45, 48, 51, 54, 57, 60, 63, 66, 69, 72, 75, 78, 81, 84, 87, 90])\u001b[0m\n"
     ]
    }
   ],
   "source": [
    "out_path = fetcher.download_raw_files(data_request)"
   ]
  },
  {
   "cell_type": "code",
   "execution_count": 10,
   "metadata": {},
   "outputs": [],
   "source": [
    "processor = EMCWFOpenDataProcessor()"
   ]
  },
  {
   "cell_type": "code",
   "execution_count": 11,
   "metadata": {},
   "outputs": [],
   "source": [
    "ddf = processor.transform(raw_path=out_path, request=data_request, filter_model=geo_filter)"
   ]
  },
  {
   "cell_type": "code",
   "execution_count": null,
   "metadata": {},
   "outputs": [],
   "source": [
    "ddf.to_parquet(PROCESSED_STREAM_PATH / f\"{file_name}.parquet\")"
   ]
  },
  {
   "cell_type": "code",
   "execution_count": null,
   "metadata": {},
   "outputs": [],
   "source": [
    "# read back saved parquet file"
   ]
  },
  {
   "cell_type": "code",
   "execution_count": null,
   "metadata": {},
   "outputs": [],
   "source": [
    "test_df = dd.read_parquet(RAW_STREAM_PATH / f\"{file_name}.parquet\")"
   ]
  },
  {
   "cell_type": "code",
   "execution_count": null,
   "metadata": {},
   "outputs": [],
   "source": [
    "tt = test_df.groupby([\"value_datetime\", \"NAME\", \"variable\"]).agg({\"value\": \"mean\"})"
   ]
  },
  {
   "cell_type": "code",
   "execution_count": null,
   "metadata": {},
   "outputs": [],
   "source": [
    "ttt = tt.compute()"
   ]
  },
  {
   "cell_type": "code",
   "execution_count": null,
   "metadata": {},
   "outputs": [],
   "source": [
    "fig = px.line(ttt.reset_index(), x=\"value_datetime\", y=\"value\", color=\"NAME\", facet_col=\"variable\")\n",
    "fig.show()"
   ]
  },
  {
   "cell_type": "code",
   "execution_count": null,
   "metadata": {},
   "outputs": [],
   "source": []
  },
  {
   "cell_type": "code",
   "execution_count": null,
   "metadata": {},
   "outputs": [],
   "source": [
    "path = \"/Users/badrbenmbarek/Downloads/ECMWF_HRES_06Z_20190101.nc\""
   ]
  },
  {
   "cell_type": "code",
   "execution_count": null,
   "metadata": {},
   "outputs": [],
   "source": [
    "dds = xr.open_dataset(path)\n",
    "dds."
   ]
  },
  {
   "cell_type": "code",
   "execution_count": null,
   "metadata": {},
   "outputs": [],
   "source": []
  },
  {
   "cell_type": "code",
   "execution_count": null,
   "metadata": {},
   "outputs": [],
   "source": []
  },
  {
   "cell_type": "code",
   "execution_count": null,
   "metadata": {},
   "outputs": [],
   "source": []
  },
  {
   "cell_type": "code",
   "execution_count": null,
   "metadata": {},
   "outputs": [],
   "source": [
    "area: str = \"uk\"\n",
    "hours: int = 48\n",
    "param_group: str = \"basic\"\n",
    "\n",
    "start = dt.date(2023, 12, 26)\n",
    "end = dt.date(2023, 12, 27)"
   ]
  },
  {
   "cell_type": "code",
   "execution_count": null,
   "metadata": {},
   "outputs": [],
   "source": [
    "match param_group:\n",
    "    case \"basic\":\n",
    "        parameters = [\"167.128/169.128\"]  # 2 Metre Temperature, Dswrf\n",
    "    case _:\n",
    "        parameters = list(PARAMETER_ECMWFCODE_MAP.keys())"
   ]
  },
  {
   "cell_type": "code",
   "execution_count": null,
   "metadata": {},
   "outputs": [],
   "source": [
    "all_init_times: list[dt.datetime] = [\n",
    "    pdt.to_pydatetime()\n",
    "    for pdt in pd.date_range(\n",
    "        start=start,\n",
    "        end=end + dt.timedelta(days=1),\n",
    "        inclusive=\"left\",\n",
    "        freq=\"H\",\n",
    "        tz=dt.UTC,\n",
    "    ).tolist()\n",
    "    if pdt.hour in [0, 6, 12, 18]\n",
    "]"
   ]
  },
  {
   "cell_type": "code",
   "execution_count": null,
   "metadata": {},
   "outputs": [],
   "source": [
    "for init_time in all_init_times:\n",
    "    mars_request = buildMarsRequest(parameters=parameters, hours=hours, area=area, it=init_time, list_only=True, target=\"test.txt\")\n",
    "    break"
   ]
  },
  {
   "cell_type": "code",
   "execution_count": null,
   "metadata": {},
   "outputs": [],
   "source": [
    "print(mars_request)"
   ]
  },
  {
   "cell_type": "code",
   "execution_count": null,
   "metadata": {},
   "outputs": [],
   "source": [
    "server.execute(mars_request, target=\"test.txt\")"
   ]
  },
  {
   "cell_type": "code",
   "execution_count": null,
   "metadata": {},
   "outputs": [],
   "source": []
  }
 ],
 "metadata": {
  "kernelspec": {
   "display_name": ".venv",
   "language": "python",
   "name": "python3"
  },
  "language_info": {
   "codemirror_mode": {
    "name": "ipython",
    "version": 3
   },
   "file_extension": ".py",
   "mimetype": "text/x-python",
   "name": "python",
   "nbconvert_exporter": "python",
   "pygments_lexer": "ipython3",
   "version": "3.12.0"
  }
 },
 "nbformat": 4,
 "nbformat_minor": 2
}
