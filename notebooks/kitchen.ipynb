{
 "cells": [
  {
   "cell_type": "code",
   "execution_count": 1,
   "metadata": {},
   "outputs": [],
   "source": [
    "%load_ext autoreload\n",
    "%autoreload 2"
   ]
  },
  {
   "cell_type": "markdown",
   "metadata": {},
   "source": [
    "# Filter model"
   ]
  },
  {
   "cell_type": "code",
   "execution_count": null,
   "metadata": {},
   "outputs": [],
   "source": [
    "from weather_weaver.models.geo import BoundingBox, GeoFilterModel\n",
    "from weather_weaver.constants import EUROPE_BOUNDING_BOX_STR, ENTSO_E_ISO3_LIST\n",
    "import pandas as pd\n",
    "pd.set_option(\"display.max_columns\", 500)"
   ]
  },
  {
   "cell_type": "code",
   "execution_count": null,
   "metadata": {},
   "outputs": [],
   "source": [
    "bb = BoundingBox.from_str(EUROPE_BOUNDING_BOX_STR)"
   ]
  },
  {
   "cell_type": "code",
   "execution_count": null,
   "metadata": {},
   "outputs": [],
   "source": [
    "geofilter = GeoFilterModel.from_bounding_box(bb)\n",
    "geofilter = geofilter.filter_iso3s(list_iso3s=ENTSO_E_ISO3_LIST)"
   ]
  },
  {
   "cell_type": "code",
   "execution_count": null,
   "metadata": {},
   "outputs": [],
   "source": [
    "gdf = geofilter.filter_df"
   ]
  },
  {
   "cell_type": "code",
   "execution_count": null,
   "metadata": {},
   "outputs": [],
   "source": [
    "gdf.query(\"country_name in ['France', 'Portugal']\")"
   ]
  },
  {
   "cell_type": "code",
   "execution_count": null,
   "metadata": {},
   "outputs": [],
   "source": [
    "gdf.explore()"
   ]
  },
  {
   "cell_type": "markdown",
   "metadata": {},
   "source": [
    "# ERA5 download"
   ]
  },
  {
   "cell_type": "code",
   "execution_count": 43,
   "metadata": {},
   "outputs": [
    {
     "data": {
      "text/plain": [
       "'N: 73.5 W: -27 S: 33 E: 45'"
      ]
     },
     "execution_count": 43,
     "metadata": {},
     "output_type": "execute_result"
    }
   ],
   "source": [
    "EUROPE_BOUNDING_BOX_STR"
   ]
  },
  {
   "cell_type": "code",
   "execution_count": 44,
   "metadata": {},
   "outputs": [],
   "source": [
    "import cdsapi\n",
    "\n",
    "from weather_weaver.models.geo import BoundingBox, GeoFilterModel\n",
    "from weather_weaver.constants import EUROPE_BOUNDING_BOX_STR, ENTSO_E_ISO3_LIST"
   ]
  },
  {
   "cell_type": "code",
   "execution_count": 45,
   "metadata": {},
   "outputs": [
    {
     "data": {
      "text/plain": [
       "{'min_lon': -24.326184047939336,\n",
       " 'min_lat': 34.57186941175544,\n",
       " 'max_lon': 34.00488081232004,\n",
       " 'max_lat': 71.18547435168055}"
      ]
     },
     "execution_count": 45,
     "metadata": {},
     "output_type": "execute_result"
    }
   ],
   "source": [
    "c = cdsapi.Client()\n",
    "\n",
    "bb = BoundingBox.from_str(EUROPE_BOUNDING_BOX_STR)\n",
    "\n",
    "geofilter = GeoFilterModel.from_bounding_box(bb)\n",
    "geofilter = geofilter.filter_iso3s(list_iso3s=ENTSO_E_ISO3_LIST)\n",
    "latlon_bounds = geofilter.bounds\n",
    "latlon_bounds"
   ]
  },
  {
   "cell_type": "code",
   "execution_count": 46,
   "metadata": {},
   "outputs": [
    {
     "name": "stderr",
     "output_type": "stream",
     "text": [
      "2024-01-10 13:52:45,650 INFO Welcome to the CDS\n",
      "2024-01-10 13:52:45,651 INFO Sending request to https://cds.climate.copernicus.eu/api/v2/resources/reanalysis-era5-single-levels\n",
      "2024-01-10 13:52:45,733 INFO Request is queued\n"
     ]
    },
    {
     "ename": "KeyboardInterrupt",
     "evalue": "",
     "output_type": "error",
     "traceback": [
      "\u001b[0;31m---------------------------------------------------------------------------\u001b[0m",
      "\u001b[0;31mKeyboardInterrupt\u001b[0m                         Traceback (most recent call last)",
      "Cell \u001b[0;32mIn[46], line 1\u001b[0m\n\u001b[0;32m----> 1\u001b[0m \u001b[43mc\u001b[49m\u001b[38;5;241;43m.\u001b[39;49m\u001b[43mretrieve\u001b[49m\u001b[43m(\u001b[49m\n\u001b[1;32m      2\u001b[0m \u001b[43m    \u001b[49m\u001b[38;5;124;43m'\u001b[39;49m\u001b[38;5;124;43mreanalysis-era5-single-levels\u001b[39;49m\u001b[38;5;124;43m'\u001b[39;49m\u001b[43m,\u001b[49m\n\u001b[1;32m      3\u001b[0m \u001b[43m    \u001b[49m\u001b[43m{\u001b[49m\n\u001b[1;32m      4\u001b[0m \u001b[43m        \u001b[49m\u001b[38;5;124;43m'\u001b[39;49m\u001b[38;5;124;43mproduct_type\u001b[39;49m\u001b[38;5;124;43m'\u001b[39;49m\u001b[43m:\u001b[49m\u001b[43m \u001b[49m\u001b[38;5;124;43m'\u001b[39;49m\u001b[38;5;124;43mreanalysis\u001b[39;49m\u001b[38;5;124;43m'\u001b[39;49m\u001b[43m,\u001b[49m\n\u001b[1;32m      5\u001b[0m \u001b[43m        \u001b[49m\u001b[38;5;124;43m'\u001b[39;49m\u001b[38;5;124;43mformat\u001b[39;49m\u001b[38;5;124;43m'\u001b[39;49m\u001b[43m:\u001b[49m\u001b[43m \u001b[49m\u001b[38;5;124;43m'\u001b[39;49m\u001b[38;5;124;43mgrib\u001b[39;49m\u001b[38;5;124;43m'\u001b[39;49m\u001b[43m,\u001b[49m\n\u001b[1;32m      6\u001b[0m \u001b[43m        \u001b[49m\u001b[38;5;124;43m'\u001b[39;49m\u001b[38;5;124;43mvariable\u001b[39;49m\u001b[38;5;124;43m'\u001b[39;49m\u001b[43m:\u001b[49m\u001b[43m \u001b[49m\u001b[43m[\u001b[49m\n\u001b[1;32m      7\u001b[0m \u001b[43m            \u001b[49m\u001b[38;5;124;43m'\u001b[39;49m\u001b[38;5;124;43m10m_u_component_of_wind\u001b[39;49m\u001b[38;5;124;43m'\u001b[39;49m\u001b[43m,\u001b[49m\u001b[43m \u001b[49m\u001b[38;5;124;43m'\u001b[39;49m\u001b[38;5;124;43m10m_v_component_of_wind\u001b[39;49m\u001b[38;5;124;43m'\u001b[39;49m\u001b[43m,\u001b[49m\u001b[43m \u001b[49m\u001b[38;5;124;43m'\u001b[39;49m\u001b[38;5;124;43m2m_temperature\u001b[39;49m\u001b[38;5;124;43m'\u001b[39;49m\u001b[43m,\u001b[49m\n\u001b[1;32m      8\u001b[0m \u001b[43m            \u001b[49m\u001b[38;5;124;43m'\u001b[39;49m\u001b[38;5;124;43mtotal_precipitation\u001b[39;49m\u001b[38;5;124;43m'\u001b[39;49m\u001b[43m,\u001b[49m\n\u001b[1;32m      9\u001b[0m \u001b[43m        \u001b[49m\u001b[43m]\u001b[49m\u001b[43m,\u001b[49m\n\u001b[1;32m     10\u001b[0m \u001b[43m        \u001b[49m\u001b[38;5;124;43m'\u001b[39;49m\u001b[38;5;124;43myear\u001b[39;49m\u001b[38;5;124;43m'\u001b[39;49m\u001b[43m:\u001b[49m\u001b[43m \u001b[49m\u001b[43m[\u001b[49m\n\u001b[1;32m     11\u001b[0m \u001b[43m            \u001b[49m\u001b[38;5;124;43m'\u001b[39;49m\u001b[38;5;124;43m2020\u001b[39;49m\u001b[38;5;124;43m'\u001b[39;49m\u001b[43m,\u001b[49m\u001b[43m \u001b[49m\u001b[38;5;124;43m'\u001b[39;49m\u001b[38;5;124;43m2021\u001b[39;49m\u001b[38;5;124;43m'\u001b[39;49m\u001b[43m,\u001b[49m\u001b[43m \u001b[49m\u001b[38;5;124;43m'\u001b[39;49m\u001b[38;5;124;43m2022\u001b[39;49m\u001b[38;5;124;43m'\u001b[39;49m\u001b[43m,\u001b[49m\n\u001b[1;32m     12\u001b[0m \u001b[43m        \u001b[49m\u001b[43m]\u001b[49m\u001b[43m,\u001b[49m\n\u001b[1;32m     13\u001b[0m \u001b[43m        \u001b[49m\u001b[38;5;124;43m'\u001b[39;49m\u001b[38;5;124;43mmonth\u001b[39;49m\u001b[38;5;124;43m'\u001b[39;49m\u001b[43m:\u001b[49m\u001b[43m \u001b[49m\u001b[43m[\u001b[49m\n\u001b[1;32m     14\u001b[0m \u001b[43m            \u001b[49m\u001b[38;5;124;43m'\u001b[39;49m\u001b[38;5;124;43m01\u001b[39;49m\u001b[38;5;124;43m'\u001b[39;49m\u001b[43m,\u001b[49m\u001b[43m \u001b[49m\u001b[38;5;124;43m'\u001b[39;49m\u001b[38;5;124;43m02\u001b[39;49m\u001b[38;5;124;43m'\u001b[39;49m\u001b[43m,\u001b[49m\u001b[43m \u001b[49m\u001b[38;5;124;43m'\u001b[39;49m\u001b[38;5;124;43m03\u001b[39;49m\u001b[38;5;124;43m'\u001b[39;49m\u001b[43m,\u001b[49m\n\u001b[1;32m     15\u001b[0m \u001b[43m            \u001b[49m\u001b[38;5;124;43m'\u001b[39;49m\u001b[38;5;124;43m04\u001b[39;49m\u001b[38;5;124;43m'\u001b[39;49m\u001b[43m,\u001b[49m\u001b[43m \u001b[49m\u001b[38;5;124;43m'\u001b[39;49m\u001b[38;5;124;43m05\u001b[39;49m\u001b[38;5;124;43m'\u001b[39;49m\u001b[43m,\u001b[49m\u001b[43m \u001b[49m\u001b[38;5;124;43m'\u001b[39;49m\u001b[38;5;124;43m06\u001b[39;49m\u001b[38;5;124;43m'\u001b[39;49m\u001b[43m,\u001b[49m\n\u001b[1;32m     16\u001b[0m \u001b[43m            \u001b[49m\u001b[38;5;124;43m'\u001b[39;49m\u001b[38;5;124;43m07\u001b[39;49m\u001b[38;5;124;43m'\u001b[39;49m\u001b[43m,\u001b[49m\u001b[43m \u001b[49m\u001b[38;5;124;43m'\u001b[39;49m\u001b[38;5;124;43m08\u001b[39;49m\u001b[38;5;124;43m'\u001b[39;49m\u001b[43m,\u001b[49m\u001b[43m \u001b[49m\u001b[38;5;124;43m'\u001b[39;49m\u001b[38;5;124;43m09\u001b[39;49m\u001b[38;5;124;43m'\u001b[39;49m\u001b[43m,\u001b[49m\n\u001b[1;32m     17\u001b[0m \u001b[43m            \u001b[49m\u001b[38;5;124;43m'\u001b[39;49m\u001b[38;5;124;43m10\u001b[39;49m\u001b[38;5;124;43m'\u001b[39;49m\u001b[43m,\u001b[49m\u001b[43m \u001b[49m\u001b[38;5;124;43m'\u001b[39;49m\u001b[38;5;124;43m11\u001b[39;49m\u001b[38;5;124;43m'\u001b[39;49m\u001b[43m,\u001b[49m\u001b[43m \u001b[49m\u001b[38;5;124;43m'\u001b[39;49m\u001b[38;5;124;43m12\u001b[39;49m\u001b[38;5;124;43m'\u001b[39;49m\u001b[43m,\u001b[49m\n\u001b[1;32m     18\u001b[0m \u001b[43m        \u001b[49m\u001b[43m]\u001b[49m\u001b[43m,\u001b[49m\n\u001b[1;32m     19\u001b[0m \u001b[43m        \u001b[49m\u001b[38;5;124;43m'\u001b[39;49m\u001b[38;5;124;43mday\u001b[39;49m\u001b[38;5;124;43m'\u001b[39;49m\u001b[43m:\u001b[49m\u001b[43m \u001b[49m\u001b[43m[\u001b[49m\n\u001b[1;32m     20\u001b[0m \u001b[43m            \u001b[49m\u001b[38;5;124;43m'\u001b[39;49m\u001b[38;5;124;43m01\u001b[39;49m\u001b[38;5;124;43m'\u001b[39;49m\u001b[43m,\u001b[49m\u001b[43m \u001b[49m\u001b[38;5;124;43m'\u001b[39;49m\u001b[38;5;124;43m02\u001b[39;49m\u001b[38;5;124;43m'\u001b[39;49m\u001b[43m,\u001b[49m\u001b[43m \u001b[49m\u001b[38;5;124;43m'\u001b[39;49m\u001b[38;5;124;43m03\u001b[39;49m\u001b[38;5;124;43m'\u001b[39;49m\u001b[43m,\u001b[49m\n\u001b[1;32m     21\u001b[0m \u001b[43m            \u001b[49m\u001b[38;5;124;43m'\u001b[39;49m\u001b[38;5;124;43m04\u001b[39;49m\u001b[38;5;124;43m'\u001b[39;49m\u001b[43m,\u001b[49m\u001b[43m \u001b[49m\u001b[38;5;124;43m'\u001b[39;49m\u001b[38;5;124;43m05\u001b[39;49m\u001b[38;5;124;43m'\u001b[39;49m\u001b[43m,\u001b[49m\u001b[43m \u001b[49m\u001b[38;5;124;43m'\u001b[39;49m\u001b[38;5;124;43m06\u001b[39;49m\u001b[38;5;124;43m'\u001b[39;49m\u001b[43m,\u001b[49m\n\u001b[1;32m     22\u001b[0m \u001b[43m            \u001b[49m\u001b[38;5;124;43m'\u001b[39;49m\u001b[38;5;124;43m07\u001b[39;49m\u001b[38;5;124;43m'\u001b[39;49m\u001b[43m,\u001b[49m\u001b[43m \u001b[49m\u001b[38;5;124;43m'\u001b[39;49m\u001b[38;5;124;43m08\u001b[39;49m\u001b[38;5;124;43m'\u001b[39;49m\u001b[43m,\u001b[49m\u001b[43m \u001b[49m\u001b[38;5;124;43m'\u001b[39;49m\u001b[38;5;124;43m09\u001b[39;49m\u001b[38;5;124;43m'\u001b[39;49m\u001b[43m,\u001b[49m\n\u001b[1;32m     23\u001b[0m \u001b[43m            \u001b[49m\u001b[38;5;124;43m'\u001b[39;49m\u001b[38;5;124;43m10\u001b[39;49m\u001b[38;5;124;43m'\u001b[39;49m\u001b[43m,\u001b[49m\u001b[43m \u001b[49m\u001b[38;5;124;43m'\u001b[39;49m\u001b[38;5;124;43m11\u001b[39;49m\u001b[38;5;124;43m'\u001b[39;49m\u001b[43m,\u001b[49m\u001b[43m \u001b[49m\u001b[38;5;124;43m'\u001b[39;49m\u001b[38;5;124;43m12\u001b[39;49m\u001b[38;5;124;43m'\u001b[39;49m\u001b[43m,\u001b[49m\n\u001b[1;32m     24\u001b[0m \u001b[43m            \u001b[49m\u001b[38;5;124;43m'\u001b[39;49m\u001b[38;5;124;43m13\u001b[39;49m\u001b[38;5;124;43m'\u001b[39;49m\u001b[43m,\u001b[49m\u001b[43m \u001b[49m\u001b[38;5;124;43m'\u001b[39;49m\u001b[38;5;124;43m14\u001b[39;49m\u001b[38;5;124;43m'\u001b[39;49m\u001b[43m,\u001b[49m\u001b[43m \u001b[49m\u001b[38;5;124;43m'\u001b[39;49m\u001b[38;5;124;43m15\u001b[39;49m\u001b[38;5;124;43m'\u001b[39;49m\u001b[43m,\u001b[49m\n\u001b[1;32m     25\u001b[0m \u001b[43m            \u001b[49m\u001b[38;5;124;43m'\u001b[39;49m\u001b[38;5;124;43m16\u001b[39;49m\u001b[38;5;124;43m'\u001b[39;49m\u001b[43m,\u001b[49m\u001b[43m \u001b[49m\u001b[38;5;124;43m'\u001b[39;49m\u001b[38;5;124;43m17\u001b[39;49m\u001b[38;5;124;43m'\u001b[39;49m\u001b[43m,\u001b[49m\u001b[43m \u001b[49m\u001b[38;5;124;43m'\u001b[39;49m\u001b[38;5;124;43m18\u001b[39;49m\u001b[38;5;124;43m'\u001b[39;49m\u001b[43m,\u001b[49m\n\u001b[1;32m     26\u001b[0m \u001b[43m            \u001b[49m\u001b[38;5;124;43m'\u001b[39;49m\u001b[38;5;124;43m19\u001b[39;49m\u001b[38;5;124;43m'\u001b[39;49m\u001b[43m,\u001b[49m\u001b[43m \u001b[49m\u001b[38;5;124;43m'\u001b[39;49m\u001b[38;5;124;43m20\u001b[39;49m\u001b[38;5;124;43m'\u001b[39;49m\u001b[43m,\u001b[49m\u001b[43m \u001b[49m\u001b[38;5;124;43m'\u001b[39;49m\u001b[38;5;124;43m21\u001b[39;49m\u001b[38;5;124;43m'\u001b[39;49m\u001b[43m,\u001b[49m\n\u001b[1;32m     27\u001b[0m \u001b[43m            \u001b[49m\u001b[38;5;124;43m'\u001b[39;49m\u001b[38;5;124;43m22\u001b[39;49m\u001b[38;5;124;43m'\u001b[39;49m\u001b[43m,\u001b[49m\u001b[43m \u001b[49m\u001b[38;5;124;43m'\u001b[39;49m\u001b[38;5;124;43m23\u001b[39;49m\u001b[38;5;124;43m'\u001b[39;49m\u001b[43m,\u001b[49m\u001b[43m \u001b[49m\u001b[38;5;124;43m'\u001b[39;49m\u001b[38;5;124;43m24\u001b[39;49m\u001b[38;5;124;43m'\u001b[39;49m\u001b[43m,\u001b[49m\n\u001b[1;32m     28\u001b[0m \u001b[43m            \u001b[49m\u001b[38;5;124;43m'\u001b[39;49m\u001b[38;5;124;43m25\u001b[39;49m\u001b[38;5;124;43m'\u001b[39;49m\u001b[43m,\u001b[49m\u001b[43m \u001b[49m\u001b[38;5;124;43m'\u001b[39;49m\u001b[38;5;124;43m26\u001b[39;49m\u001b[38;5;124;43m'\u001b[39;49m\u001b[43m,\u001b[49m\u001b[43m \u001b[49m\u001b[38;5;124;43m'\u001b[39;49m\u001b[38;5;124;43m27\u001b[39;49m\u001b[38;5;124;43m'\u001b[39;49m\u001b[43m,\u001b[49m\n\u001b[1;32m     29\u001b[0m \u001b[43m            \u001b[49m\u001b[38;5;124;43m'\u001b[39;49m\u001b[38;5;124;43m28\u001b[39;49m\u001b[38;5;124;43m'\u001b[39;49m\u001b[43m,\u001b[49m\u001b[43m \u001b[49m\u001b[38;5;124;43m'\u001b[39;49m\u001b[38;5;124;43m29\u001b[39;49m\u001b[38;5;124;43m'\u001b[39;49m\u001b[43m,\u001b[49m\u001b[43m \u001b[49m\u001b[38;5;124;43m'\u001b[39;49m\u001b[38;5;124;43m30\u001b[39;49m\u001b[38;5;124;43m'\u001b[39;49m\u001b[43m,\u001b[49m\n\u001b[1;32m     30\u001b[0m \u001b[43m            \u001b[49m\u001b[38;5;124;43m'\u001b[39;49m\u001b[38;5;124;43m31\u001b[39;49m\u001b[38;5;124;43m'\u001b[39;49m\u001b[43m,\u001b[49m\n\u001b[1;32m     31\u001b[0m \u001b[43m        \u001b[49m\u001b[43m]\u001b[49m\u001b[43m,\u001b[49m\n\u001b[1;32m     32\u001b[0m \u001b[43m        \u001b[49m\u001b[38;5;124;43m'\u001b[39;49m\u001b[38;5;124;43mtime\u001b[39;49m\u001b[38;5;124;43m'\u001b[39;49m\u001b[43m:\u001b[49m\u001b[43m \u001b[49m\u001b[43m[\u001b[49m\n\u001b[1;32m     33\u001b[0m \u001b[43m            \u001b[49m\u001b[38;5;124;43m'\u001b[39;49m\u001b[38;5;124;43m00:00\u001b[39;49m\u001b[38;5;124;43m'\u001b[39;49m\u001b[43m,\u001b[49m\u001b[43m \u001b[49m\u001b[38;5;124;43m'\u001b[39;49m\u001b[38;5;124;43m01:00\u001b[39;49m\u001b[38;5;124;43m'\u001b[39;49m\u001b[43m,\u001b[49m\u001b[43m \u001b[49m\u001b[38;5;124;43m'\u001b[39;49m\u001b[38;5;124;43m02:00\u001b[39;49m\u001b[38;5;124;43m'\u001b[39;49m\u001b[43m,\u001b[49m\n\u001b[1;32m     34\u001b[0m \u001b[43m            \u001b[49m\u001b[38;5;124;43m'\u001b[39;49m\u001b[38;5;124;43m03:00\u001b[39;49m\u001b[38;5;124;43m'\u001b[39;49m\u001b[43m,\u001b[49m\u001b[43m \u001b[49m\u001b[38;5;124;43m'\u001b[39;49m\u001b[38;5;124;43m04:00\u001b[39;49m\u001b[38;5;124;43m'\u001b[39;49m\u001b[43m,\u001b[49m\u001b[43m \u001b[49m\u001b[38;5;124;43m'\u001b[39;49m\u001b[38;5;124;43m05:00\u001b[39;49m\u001b[38;5;124;43m'\u001b[39;49m\u001b[43m,\u001b[49m\n\u001b[1;32m     35\u001b[0m \u001b[43m            \u001b[49m\u001b[38;5;124;43m'\u001b[39;49m\u001b[38;5;124;43m06:00\u001b[39;49m\u001b[38;5;124;43m'\u001b[39;49m\u001b[43m,\u001b[49m\u001b[43m \u001b[49m\u001b[38;5;124;43m'\u001b[39;49m\u001b[38;5;124;43m07:00\u001b[39;49m\u001b[38;5;124;43m'\u001b[39;49m\u001b[43m,\u001b[49m\u001b[43m \u001b[49m\u001b[38;5;124;43m'\u001b[39;49m\u001b[38;5;124;43m08:00\u001b[39;49m\u001b[38;5;124;43m'\u001b[39;49m\u001b[43m,\u001b[49m\n\u001b[1;32m     36\u001b[0m \u001b[43m            \u001b[49m\u001b[38;5;124;43m'\u001b[39;49m\u001b[38;5;124;43m09:00\u001b[39;49m\u001b[38;5;124;43m'\u001b[39;49m\u001b[43m,\u001b[49m\u001b[43m \u001b[49m\u001b[38;5;124;43m'\u001b[39;49m\u001b[38;5;124;43m10:00\u001b[39;49m\u001b[38;5;124;43m'\u001b[39;49m\u001b[43m,\u001b[49m\u001b[43m \u001b[49m\u001b[38;5;124;43m'\u001b[39;49m\u001b[38;5;124;43m11:00\u001b[39;49m\u001b[38;5;124;43m'\u001b[39;49m\u001b[43m,\u001b[49m\n\u001b[1;32m     37\u001b[0m \u001b[43m            \u001b[49m\u001b[38;5;124;43m'\u001b[39;49m\u001b[38;5;124;43m12:00\u001b[39;49m\u001b[38;5;124;43m'\u001b[39;49m\u001b[43m,\u001b[49m\u001b[43m \u001b[49m\u001b[38;5;124;43m'\u001b[39;49m\u001b[38;5;124;43m13:00\u001b[39;49m\u001b[38;5;124;43m'\u001b[39;49m\u001b[43m,\u001b[49m\u001b[43m \u001b[49m\u001b[38;5;124;43m'\u001b[39;49m\u001b[38;5;124;43m14:00\u001b[39;49m\u001b[38;5;124;43m'\u001b[39;49m\u001b[43m,\u001b[49m\n\u001b[1;32m     38\u001b[0m \u001b[43m            \u001b[49m\u001b[38;5;124;43m'\u001b[39;49m\u001b[38;5;124;43m15:00\u001b[39;49m\u001b[38;5;124;43m'\u001b[39;49m\u001b[43m,\u001b[49m\u001b[43m \u001b[49m\u001b[38;5;124;43m'\u001b[39;49m\u001b[38;5;124;43m16:00\u001b[39;49m\u001b[38;5;124;43m'\u001b[39;49m\u001b[43m,\u001b[49m\u001b[43m \u001b[49m\u001b[38;5;124;43m'\u001b[39;49m\u001b[38;5;124;43m17:00\u001b[39;49m\u001b[38;5;124;43m'\u001b[39;49m\u001b[43m,\u001b[49m\n\u001b[1;32m     39\u001b[0m \u001b[43m            \u001b[49m\u001b[38;5;124;43m'\u001b[39;49m\u001b[38;5;124;43m18:00\u001b[39;49m\u001b[38;5;124;43m'\u001b[39;49m\u001b[43m,\u001b[49m\u001b[43m \u001b[49m\u001b[38;5;124;43m'\u001b[39;49m\u001b[38;5;124;43m19:00\u001b[39;49m\u001b[38;5;124;43m'\u001b[39;49m\u001b[43m,\u001b[49m\u001b[43m \u001b[49m\u001b[38;5;124;43m'\u001b[39;49m\u001b[38;5;124;43m20:00\u001b[39;49m\u001b[38;5;124;43m'\u001b[39;49m\u001b[43m,\u001b[49m\n\u001b[1;32m     40\u001b[0m \u001b[43m            \u001b[49m\u001b[38;5;124;43m'\u001b[39;49m\u001b[38;5;124;43m21:00\u001b[39;49m\u001b[38;5;124;43m'\u001b[39;49m\u001b[43m,\u001b[49m\u001b[43m \u001b[49m\u001b[38;5;124;43m'\u001b[39;49m\u001b[38;5;124;43m22:00\u001b[39;49m\u001b[38;5;124;43m'\u001b[39;49m\u001b[43m,\u001b[49m\u001b[43m \u001b[49m\u001b[38;5;124;43m'\u001b[39;49m\u001b[38;5;124;43m23:00\u001b[39;49m\u001b[38;5;124;43m'\u001b[39;49m\u001b[43m,\u001b[49m\n\u001b[1;32m     41\u001b[0m \u001b[43m        \u001b[49m\u001b[43m]\u001b[49m\u001b[43m,\u001b[49m\n\u001b[1;32m     42\u001b[0m \u001b[43m        \u001b[49m\u001b[38;5;124;43m'\u001b[39;49m\u001b[38;5;124;43marea\u001b[39;49m\u001b[38;5;124;43m'\u001b[39;49m\u001b[43m:\u001b[49m\u001b[43m \u001b[49m\u001b[43m[\u001b[49m\n\u001b[1;32m     43\u001b[0m \u001b[43m            \u001b[49m\u001b[43mlatlon_bounds\u001b[49m\u001b[43m[\u001b[49m\u001b[38;5;124;43m\"\u001b[39;49m\u001b[38;5;124;43mmax_lat\u001b[39;49m\u001b[38;5;124;43m\"\u001b[39;49m\u001b[43m]\u001b[49m\u001b[43m,\u001b[49m\n\u001b[1;32m     44\u001b[0m \u001b[43m            \u001b[49m\u001b[43mlatlon_bounds\u001b[49m\u001b[43m[\u001b[49m\u001b[38;5;124;43m\"\u001b[39;49m\u001b[38;5;124;43mmin_lon\u001b[39;49m\u001b[38;5;124;43m\"\u001b[39;49m\u001b[43m]\u001b[49m\u001b[43m,\u001b[49m\n\u001b[1;32m     45\u001b[0m \u001b[43m            \u001b[49m\u001b[43mlatlon_bounds\u001b[49m\u001b[43m[\u001b[49m\u001b[38;5;124;43m\"\u001b[39;49m\u001b[38;5;124;43mmin_lat\u001b[39;49m\u001b[38;5;124;43m\"\u001b[39;49m\u001b[43m]\u001b[49m\u001b[43m,\u001b[49m\n\u001b[1;32m     46\u001b[0m \u001b[43m            \u001b[49m\u001b[43mlatlon_bounds\u001b[49m\u001b[43m[\u001b[49m\u001b[38;5;124;43m\"\u001b[39;49m\u001b[38;5;124;43mmax_lon\u001b[39;49m\u001b[38;5;124;43m\"\u001b[39;49m\u001b[43m]\u001b[49m\u001b[43m,\u001b[49m\n\u001b[1;32m     47\u001b[0m \u001b[43m        \u001b[49m\u001b[43m]\u001b[49m\u001b[43m,\u001b[49m\n\u001b[1;32m     48\u001b[0m \u001b[43m    \u001b[49m\u001b[43m}\u001b[49m\u001b[43m,\u001b[49m\n\u001b[1;32m     49\u001b[0m \u001b[43m    \u001b[49m\u001b[38;5;124;43m'\u001b[39;49m\u001b[38;5;124;43mhistorical_reanalysis_era5.grib\u001b[39;49m\u001b[38;5;124;43m'\u001b[39;49m\u001b[43m)\u001b[49m\n",
      "File \u001b[0;32m~/Documents/work/git/weather-weaver/.venv/lib/python3.12/site-packages/cdsapi/api.py:364\u001b[0m, in \u001b[0;36mClient.retrieve\u001b[0;34m(self, name, request, target)\u001b[0m\n\u001b[1;32m    363\u001b[0m \u001b[38;5;28;01mdef\u001b[39;00m \u001b[38;5;21mretrieve\u001b[39m(\u001b[38;5;28mself\u001b[39m, name, request, target\u001b[38;5;241m=\u001b[39m\u001b[38;5;28;01mNone\u001b[39;00m):\n\u001b[0;32m--> 364\u001b[0m     result \u001b[38;5;241m=\u001b[39m \u001b[38;5;28;43mself\u001b[39;49m\u001b[38;5;241;43m.\u001b[39;49m\u001b[43m_api\u001b[49m\u001b[43m(\u001b[49m\u001b[38;5;124;43m\"\u001b[39;49m\u001b[38;5;132;43;01m%s\u001b[39;49;00m\u001b[38;5;124;43m/resources/\u001b[39;49m\u001b[38;5;132;43;01m%s\u001b[39;49;00m\u001b[38;5;124;43m\"\u001b[39;49m\u001b[43m \u001b[49m\u001b[38;5;241;43m%\u001b[39;49m\u001b[43m \u001b[49m\u001b[43m(\u001b[49m\u001b[38;5;28;43mself\u001b[39;49m\u001b[38;5;241;43m.\u001b[39;49m\u001b[43murl\u001b[49m\u001b[43m,\u001b[49m\u001b[43m \u001b[49m\u001b[43mname\u001b[49m\u001b[43m)\u001b[49m\u001b[43m,\u001b[49m\u001b[43m \u001b[49m\u001b[43mrequest\u001b[49m\u001b[43m,\u001b[49m\u001b[43m \u001b[49m\u001b[38;5;124;43m\"\u001b[39;49m\u001b[38;5;124;43mPOST\u001b[39;49m\u001b[38;5;124;43m\"\u001b[39;49m\u001b[43m)\u001b[49m\n\u001b[1;32m    365\u001b[0m     \u001b[38;5;28;01mif\u001b[39;00m target \u001b[38;5;129;01mis\u001b[39;00m \u001b[38;5;129;01mnot\u001b[39;00m \u001b[38;5;28;01mNone\u001b[39;00m:\n\u001b[1;32m    366\u001b[0m         result\u001b[38;5;241m.\u001b[39mdownload(target)\n",
      "File \u001b[0;32m~/Documents/work/git/weather-weaver/.venv/lib/python3.12/site-packages/cdsapi/api.py:492\u001b[0m, in \u001b[0;36mClient._api\u001b[0;34m(self, url, request, method)\u001b[0m\n\u001b[1;32m    489\u001b[0m rid \u001b[38;5;241m=\u001b[39m reply[\u001b[38;5;124m\"\u001b[39m\u001b[38;5;124mrequest_id\u001b[39m\u001b[38;5;124m\"\u001b[39m]\n\u001b[1;32m    491\u001b[0m \u001b[38;5;28mself\u001b[39m\u001b[38;5;241m.\u001b[39mdebug(\u001b[38;5;124m\"\u001b[39m\u001b[38;5;124mRequest ID is \u001b[39m\u001b[38;5;132;01m%s\u001b[39;00m\u001b[38;5;124m, sleep \u001b[39m\u001b[38;5;132;01m%s\u001b[39;00m\u001b[38;5;124m\"\u001b[39m, rid, sleep)\n\u001b[0;32m--> 492\u001b[0m \u001b[43mtime\u001b[49m\u001b[38;5;241;43m.\u001b[39;49m\u001b[43msleep\u001b[49m\u001b[43m(\u001b[49m\u001b[43msleep\u001b[49m\u001b[43m)\u001b[49m\n\u001b[1;32m    493\u001b[0m sleep \u001b[38;5;241m*\u001b[39m\u001b[38;5;241m=\u001b[39m \u001b[38;5;241m1.5\u001b[39m\n\u001b[1;32m    494\u001b[0m \u001b[38;5;28;01mif\u001b[39;00m sleep \u001b[38;5;241m>\u001b[39m \u001b[38;5;28mself\u001b[39m\u001b[38;5;241m.\u001b[39msleep_max:\n",
      "\u001b[0;31mKeyboardInterrupt\u001b[0m: "
     ]
    }
   ],
   "source": [
    "c.retrieve(\n",
    "    'reanalysis-era5-single-levels',\n",
    "    {\n",
    "        'product_type': 'reanalysis',\n",
    "        'format': 'grib',\n",
    "        'variable': [\n",
    "            '10m_u_component_of_wind', '10m_v_component_of_wind', '2m_temperature',\n",
    "            'total_precipitation',\n",
    "        ],\n",
    "        'year': [\n",
    "            '2020', '2021', '2022',\n",
    "        ],\n",
    "        'month': [\n",
    "            '01', '02', '03',\n",
    "            '04', '05', '06',\n",
    "            '07', '08', '09',\n",
    "            '10', '11', '12',\n",
    "        ],\n",
    "        'day': [\n",
    "            '01', '02', '03',\n",
    "            '04', '05', '06',\n",
    "            '07', '08', '09',\n",
    "            '10', '11', '12',\n",
    "            '13', '14', '15',\n",
    "            '16', '17', '18',\n",
    "            '19', '20', '21',\n",
    "            '22', '23', '24',\n",
    "            '25', '26', '27',\n",
    "            '28', '29', '30',\n",
    "            '31',\n",
    "        ],\n",
    "        'time': [\n",
    "            '00:00', '01:00', '02:00',\n",
    "            '03:00', '04:00', '05:00',\n",
    "            '06:00', '07:00', '08:00',\n",
    "            '09:00', '10:00', '11:00',\n",
    "            '12:00', '13:00', '14:00',\n",
    "            '15:00', '16:00', '17:00',\n",
    "            '18:00', '19:00', '20:00',\n",
    "            '21:00', '22:00', '23:00',\n",
    "        ],\n",
    "        'area': [\n",
    "            latlon_bounds[\"max_lat\"],\n",
    "            latlon_bounds[\"min_lon\"],\n",
    "            latlon_bounds[\"min_lat\"],\n",
    "            latlon_bounds[\"max_lon\"],\n",
    "        ],\n",
    "    },\n",
    "    'historical_reanalysis_era5.grib')"
   ]
  },
  {
   "cell_type": "code",
   "execution_count": 48,
   "metadata": {},
   "outputs": [],
   "source": [
    "import os\n",
    "folder_path = \"../data/ecmwf/processed/oper\"\n",
    "for filename in os.listdir(folder_path):\n",
    "    if filename.endswith(\".parquet\") and \"2t-tp-10u-10v\" not in filename:\n",
    "        new_filename = filename.replace(\"_fc.parquet\", \"_2t-tp-10u-10v_fc.parquet\")\n",
    "        os.rename(os.path.join(folder_path, filename), os.path.join(folder_path, new_filename))"
   ]
  },
  {
   "cell_type": "code",
   "execution_count": null,
   "metadata": {},
   "outputs": [],
   "source": []
  },
  {
   "cell_type": "code",
   "execution_count": null,
   "metadata": {},
   "outputs": [],
   "source": []
  },
  {
   "cell_type": "code",
   "execution_count": null,
   "metadata": {},
   "outputs": [],
   "source": []
  },
  {
   "cell_type": "code",
   "execution_count": 19,
   "metadata": {},
   "outputs": [],
   "source": [
    "from weather_weaver.inputs.ecmwf.processor import EMCWFProcessor"
   ]
  },
  {
   "cell_type": "code",
   "execution_count": 30,
   "metadata": {},
   "outputs": [],
   "source": [
    "path = \"test.grib\"\n",
    "\n",
    "processor = EMCWFProcessor()\n",
    "\n",
    "dd = processor.transform(path, geo_filter=geofilter)"
   ]
  },
  {
   "cell_type": "code",
   "execution_count": 35,
   "metadata": {},
   "outputs": [],
   "source": [
    "ddf = dd.groupby([\"run_time\", \"timestamp\", \"country_name\"]).agg({\"t2m\": \"mean\"}).compute()"
   ]
  },
  {
   "cell_type": "code",
   "execution_count": 39,
   "metadata": {},
   "outputs": [],
   "source": [
    "ddf_plot = ddf.reset_index()\n",
    "ddf_plot = ddf_plot.query(\"country_name in ['Norway', 'France']\")"
   ]
  },
  {
   "cell_type": "code",
   "execution_count": 40,
   "metadata": {},
   "outputs": [],
   "source": [
    "import plotly.express as px"
   ]
  },
  {
   "cell_type": "code",
   "execution_count": 41,
   "metadata": {},
   "outputs": [
    {
     "data": {
      "application/vnd.plotly.v1+json": {
       "config": {
        "plotlyServerURL": "https://plot.ly"
       },
       "data": [
        {
         "hovertemplate": "run_time=2020-12-31 18:00:00<br>country_name=Norway<br>timestamp=%{x}<br>t2m=%{y}<extra></extra>",
         "legendgroup": "2020-12-31 18:00:00",
         "line": {
          "color": "#636efa",
          "dash": "solid"
         },
         "marker": {
          "symbol": "circle"
         },
         "mode": "lines",
         "name": "2020-12-31 18:00:00",
         "orientation": "v",
         "showlegend": true,
         "type": "scatter",
         "x": [
          "2020-12-31T19:00:00",
          "2020-12-31T20:00:00",
          "2020-12-31T21:00:00",
          "2020-12-31T22:00:00",
          "2020-12-31T23:00:00",
          "2021-01-01T00:00:00",
          "2021-01-01T01:00:00",
          "2021-01-01T02:00:00",
          "2021-01-01T03:00:00",
          "2021-01-01T04:00:00",
          "2021-01-01T05:00:00",
          "2021-01-01T06:00:00"
         ],
         "xaxis": "x2",
         "y": [
          null,
          null,
          null,
          null,
          null,
          null,
          null,
          null,
          null,
          null,
          null,
          null
         ],
         "yaxis": "y2"
        },
        {
         "hovertemplate": "run_time=2020-12-31 18:00:00<br>country_name=France<br>timestamp=%{x}<br>t2m=%{y}<extra></extra>",
         "legendgroup": "2020-12-31 18:00:00",
         "line": {
          "color": "#636efa",
          "dash": "solid"
         },
         "marker": {
          "symbol": "circle"
         },
         "mode": "lines",
         "name": "2020-12-31 18:00:00",
         "orientation": "v",
         "showlegend": false,
         "type": "scatter",
         "x": [
          "2020-12-31T19:00:00",
          "2020-12-31T20:00:00",
          "2020-12-31T21:00:00",
          "2020-12-31T22:00:00",
          "2020-12-31T23:00:00",
          "2021-01-01T00:00:00",
          "2021-01-01T01:00:00",
          "2021-01-01T02:00:00",
          "2021-01-01T03:00:00",
          "2021-01-01T04:00:00",
          "2021-01-01T05:00:00",
          "2021-01-01T06:00:00"
         ],
         "xaxis": "x",
         "y": [
          null,
          null,
          null,
          null,
          null,
          null,
          null,
          null,
          null,
          null,
          null,
          null
         ],
         "yaxis": "y"
        },
        {
         "hovertemplate": "run_time=2021-01-01 00:00:00<br>country_name=Norway<br>timestamp=%{x}<br>t2m=%{y}<extra></extra>",
         "legendgroup": "2021-01-01 00:00:00",
         "line": {
          "color": "#EF553B",
          "dash": "solid"
         },
         "marker": {
          "symbol": "circle"
         },
         "mode": "lines",
         "name": "2021-01-01 00:00:00",
         "orientation": "v",
         "showlegend": true,
         "type": "scatter",
         "x": [
          "2021-01-01T01:00:00",
          "2021-01-01T02:00:00",
          "2021-01-01T03:00:00",
          "2021-01-01T04:00:00",
          "2021-01-01T05:00:00",
          "2021-01-01T06:00:00",
          "2021-01-01T07:00:00",
          "2021-01-01T08:00:00",
          "2021-01-01T09:00:00",
          "2021-01-01T10:00:00",
          "2021-01-01T11:00:00",
          "2021-01-01T12:00:00"
         ],
         "xaxis": "x2",
         "y": [
          269.1509146341463,
          269.1509146341463,
          269.1509146341463,
          269.1509146341463,
          269.1509146341463,
          269.1509146341463,
          269.1509146341463,
          269.1509146341463,
          269.1509146341463,
          269.1509146341463,
          269.1509146341463,
          269.1509146341463
         ],
         "yaxis": "y2"
        },
        {
         "hovertemplate": "run_time=2021-01-01 00:00:00<br>country_name=France<br>timestamp=%{x}<br>t2m=%{y}<extra></extra>",
         "legendgroup": "2021-01-01 00:00:00",
         "line": {
          "color": "#EF553B",
          "dash": "solid"
         },
         "marker": {
          "symbol": "circle"
         },
         "mode": "lines",
         "name": "2021-01-01 00:00:00",
         "orientation": "v",
         "showlegend": false,
         "type": "scatter",
         "x": [
          "2021-01-01T01:00:00",
          "2021-01-01T02:00:00",
          "2021-01-01T03:00:00",
          "2021-01-01T04:00:00",
          "2021-01-01T05:00:00",
          "2021-01-01T06:00:00",
          "2021-01-01T07:00:00",
          "2021-01-01T08:00:00",
          "2021-01-01T09:00:00",
          "2021-01-01T10:00:00",
          "2021-01-01T11:00:00",
          "2021-01-01T12:00:00"
         ],
         "xaxis": "x",
         "y": [
          274.3326063575526,
          274.3326063575526,
          274.3326063575526,
          274.3326063575526,
          274.3326063575526,
          274.3326063575526,
          274.3326063575526,
          274.3326063575526,
          274.3326063575526,
          274.3326063575526,
          274.3326063575526,
          274.3326063575526
         ],
         "yaxis": "y"
        },
        {
         "hovertemplate": "run_time=2021-01-01 01:00:00<br>country_name=Norway<br>timestamp=%{x}<br>t2m=%{y}<extra></extra>",
         "legendgroup": "2021-01-01 01:00:00",
         "line": {
          "color": "#00cc96",
          "dash": "solid"
         },
         "marker": {
          "symbol": "circle"
         },
         "mode": "lines",
         "name": "2021-01-01 01:00:00",
         "orientation": "v",
         "showlegend": true,
         "type": "scatter",
         "x": [
          "2021-01-01T02:00:00",
          "2021-01-01T03:00:00",
          "2021-01-01T04:00:00",
          "2021-01-01T05:00:00",
          "2021-01-01T06:00:00",
          "2021-01-01T07:00:00",
          "2021-01-01T08:00:00",
          "2021-01-01T09:00:00",
          "2021-01-01T10:00:00",
          "2021-01-01T11:00:00",
          "2021-01-01T12:00:00",
          "2021-01-01T13:00:00"
         ],
         "xaxis": "x2",
         "y": [
          269.0016196646341,
          269.0016196646341,
          269.0016196646341,
          269.0016196646341,
          269.0016196646341,
          269.0016196646341,
          269.0016196646341,
          269.0016196646341,
          269.0016196646341,
          269.0016196646341,
          269.0016196646341,
          269.0016196646341
         ],
         "yaxis": "y2"
        },
        {
         "hovertemplate": "run_time=2021-01-01 01:00:00<br>country_name=France<br>timestamp=%{x}<br>t2m=%{y}<extra></extra>",
         "legendgroup": "2021-01-01 01:00:00",
         "line": {
          "color": "#00cc96",
          "dash": "solid"
         },
         "marker": {
          "symbol": "circle"
         },
         "mode": "lines",
         "name": "2021-01-01 01:00:00",
         "orientation": "v",
         "showlegend": false,
         "type": "scatter",
         "x": [
          "2021-01-01T02:00:00",
          "2021-01-01T03:00:00",
          "2021-01-01T04:00:00",
          "2021-01-01T05:00:00",
          "2021-01-01T06:00:00",
          "2021-01-01T07:00:00",
          "2021-01-01T08:00:00",
          "2021-01-01T09:00:00",
          "2021-01-01T10:00:00",
          "2021-01-01T11:00:00",
          "2021-01-01T12:00:00",
          "2021-01-01T13:00:00"
         ],
         "xaxis": "x",
         "y": [
          274.1189053537285,
          274.1189053537285,
          274.1189053537285,
          274.1189053537285,
          274.1189053537285,
          274.1189053537285,
          274.1189053537285,
          274.1189053537285,
          274.1189053537285,
          274.1189053537285,
          274.1189053537285,
          274.1189053537285
         ],
         "yaxis": "y"
        },
        {
         "hovertemplate": "run_time=2021-01-01 02:00:00<br>country_name=Norway<br>timestamp=%{x}<br>t2m=%{y}<extra></extra>",
         "legendgroup": "2021-01-01 02:00:00",
         "line": {
          "color": "#ab63fa",
          "dash": "solid"
         },
         "marker": {
          "symbol": "circle"
         },
         "mode": "lines",
         "name": "2021-01-01 02:00:00",
         "orientation": "v",
         "showlegend": true,
         "type": "scatter",
         "x": [
          "2021-01-01T03:00:00",
          "2021-01-01T04:00:00",
          "2021-01-01T05:00:00",
          "2021-01-01T06:00:00",
          "2021-01-01T07:00:00",
          "2021-01-01T08:00:00",
          "2021-01-01T09:00:00",
          "2021-01-01T10:00:00",
          "2021-01-01T11:00:00",
          "2021-01-01T12:00:00",
          "2021-01-01T13:00:00",
          "2021-01-01T14:00:00"
         ],
         "xaxis": "x2",
         "y": [
          268.9636369410569,
          268.9636369410569,
          268.9636369410569,
          268.9636369410569,
          268.9636369410569,
          268.9636369410569,
          268.9636369410569,
          268.9636369410569,
          268.9636369410569,
          268.9636369410569,
          268.9636369410569,
          268.9636369410569
         ],
         "yaxis": "y2"
        },
        {
         "hovertemplate": "run_time=2021-01-01 02:00:00<br>country_name=France<br>timestamp=%{x}<br>t2m=%{y}<extra></extra>",
         "legendgroup": "2021-01-01 02:00:00",
         "line": {
          "color": "#ab63fa",
          "dash": "solid"
         },
         "marker": {
          "symbol": "circle"
         },
         "mode": "lines",
         "name": "2021-01-01 02:00:00",
         "orientation": "v",
         "showlegend": false,
         "type": "scatter",
         "x": [
          "2021-01-01T03:00:00",
          "2021-01-01T04:00:00",
          "2021-01-01T05:00:00",
          "2021-01-01T06:00:00",
          "2021-01-01T07:00:00",
          "2021-01-01T08:00:00",
          "2021-01-01T09:00:00",
          "2021-01-01T10:00:00",
          "2021-01-01T11:00:00",
          "2021-01-01T12:00:00",
          "2021-01-01T13:00:00",
          "2021-01-01T14:00:00"
         ],
         "xaxis": "x",
         "y": [
          273.9403083173996,
          273.9403083173996,
          273.9403083173996,
          273.9403083173996,
          273.9403083173996,
          273.9403083173996,
          273.9403083173996,
          273.9403083173996,
          273.9403083173996,
          273.9403083173996,
          273.9403083173996,
          273.9403083173996
         ],
         "yaxis": "y"
        },
        {
         "hovertemplate": "run_time=2021-01-01 03:00:00<br>country_name=Norway<br>timestamp=%{x}<br>t2m=%{y}<extra></extra>",
         "legendgroup": "2021-01-01 03:00:00",
         "line": {
          "color": "#FFA15A",
          "dash": "solid"
         },
         "marker": {
          "symbol": "circle"
         },
         "mode": "lines",
         "name": "2021-01-01 03:00:00",
         "orientation": "v",
         "showlegend": true,
         "type": "scatter",
         "x": [
          "2021-01-01T04:00:00",
          "2021-01-01T05:00:00",
          "2021-01-01T06:00:00",
          "2021-01-01T07:00:00",
          "2021-01-01T08:00:00",
          "2021-01-01T09:00:00",
          "2021-01-01T10:00:00",
          "2021-01-01T11:00:00",
          "2021-01-01T12:00:00",
          "2021-01-01T13:00:00",
          "2021-01-01T14:00:00",
          "2021-01-01T15:00:00"
         ],
         "xaxis": "x2",
         "y": [
          268.8810022865854,
          268.8810022865854,
          268.8810022865854,
          268.8810022865854,
          268.8810022865854,
          268.8810022865854,
          268.8810022865854,
          268.8810022865854,
          268.8810022865854,
          268.8810022865854,
          268.8810022865854,
          268.8810022865854
         ],
         "yaxis": "y2"
        },
        {
         "hovertemplate": "run_time=2021-01-01 03:00:00<br>country_name=France<br>timestamp=%{x}<br>t2m=%{y}<extra></extra>",
         "legendgroup": "2021-01-01 03:00:00",
         "line": {
          "color": "#FFA15A",
          "dash": "solid"
         },
         "marker": {
          "symbol": "circle"
         },
         "mode": "lines",
         "name": "2021-01-01 03:00:00",
         "orientation": "v",
         "showlegend": false,
         "type": "scatter",
         "x": [
          "2021-01-01T04:00:00",
          "2021-01-01T05:00:00",
          "2021-01-01T06:00:00",
          "2021-01-01T07:00:00",
          "2021-01-01T08:00:00",
          "2021-01-01T09:00:00",
          "2021-01-01T10:00:00",
          "2021-01-01T11:00:00",
          "2021-01-01T12:00:00",
          "2021-01-01T13:00:00",
          "2021-01-01T14:00:00",
          "2021-01-01T15:00:00"
         ],
         "xaxis": "x",
         "y": [
          273.8348769120459,
          273.8348769120459,
          273.8348769120459,
          273.8348769120459,
          273.8348769120459,
          273.8348769120459,
          273.8348769120459,
          273.8348769120459,
          273.8348769120459,
          273.8348769120459,
          273.8348769120459,
          273.8348769120459
         ],
         "yaxis": "y"
        },
        {
         "hovertemplate": "run_time=2021-01-01 04:00:00<br>country_name=Norway<br>timestamp=%{x}<br>t2m=%{y}<extra></extra>",
         "legendgroup": "2021-01-01 04:00:00",
         "line": {
          "color": "#19d3f3",
          "dash": "solid"
         },
         "marker": {
          "symbol": "circle"
         },
         "mode": "lines",
         "name": "2021-01-01 04:00:00",
         "orientation": "v",
         "showlegend": true,
         "type": "scatter",
         "x": [
          "2021-01-01T05:00:00",
          "2021-01-01T06:00:00",
          "2021-01-01T07:00:00",
          "2021-01-01T08:00:00",
          "2021-01-01T09:00:00",
          "2021-01-01T10:00:00",
          "2021-01-01T11:00:00",
          "2021-01-01T12:00:00",
          "2021-01-01T13:00:00",
          "2021-01-01T14:00:00",
          "2021-01-01T15:00:00",
          "2021-01-01T16:00:00"
         ],
         "xaxis": "x2",
         "y": [
          268.7921430386179,
          268.7921430386179,
          268.7921430386179,
          268.7921430386179,
          268.7921430386179,
          268.7921430386179,
          268.7921430386179,
          268.7921430386179,
          268.7921430386179,
          268.7921430386179,
          268.7921430386179,
          268.7921430386179
         ],
         "yaxis": "y2"
        },
        {
         "hovertemplate": "run_time=2021-01-01 04:00:00<br>country_name=France<br>timestamp=%{x}<br>t2m=%{y}<extra></extra>",
         "legendgroup": "2021-01-01 04:00:00",
         "line": {
          "color": "#19d3f3",
          "dash": "solid"
         },
         "marker": {
          "symbol": "circle"
         },
         "mode": "lines",
         "name": "2021-01-01 04:00:00",
         "orientation": "v",
         "showlegend": false,
         "type": "scatter",
         "x": [
          "2021-01-01T05:00:00",
          "2021-01-01T06:00:00",
          "2021-01-01T07:00:00",
          "2021-01-01T08:00:00",
          "2021-01-01T09:00:00",
          "2021-01-01T10:00:00",
          "2021-01-01T11:00:00",
          "2021-01-01T12:00:00",
          "2021-01-01T13:00:00",
          "2021-01-01T14:00:00",
          "2021-01-01T15:00:00",
          "2021-01-01T16:00:00"
         ],
         "xaxis": "x",
         "y": [
          273.69613408221795,
          273.69613408221795,
          273.69613408221795,
          273.69613408221795,
          273.69613408221795,
          273.69613408221795,
          273.69613408221795,
          273.69613408221795,
          273.69613408221795,
          273.69613408221795,
          273.69613408221795,
          273.69613408221795
         ],
         "yaxis": "y"
        },
        {
         "hovertemplate": "run_time=2021-01-01 05:00:00<br>country_name=Norway<br>timestamp=%{x}<br>t2m=%{y}<extra></extra>",
         "legendgroup": "2021-01-01 05:00:00",
         "line": {
          "color": "#FF6692",
          "dash": "solid"
         },
         "marker": {
          "symbol": "circle"
         },
         "mode": "lines",
         "name": "2021-01-01 05:00:00",
         "orientation": "v",
         "showlegend": true,
         "type": "scatter",
         "x": [
          "2021-01-01T06:00:00",
          "2021-01-01T07:00:00",
          "2021-01-01T08:00:00",
          "2021-01-01T09:00:00",
          "2021-01-01T10:00:00",
          "2021-01-01T11:00:00",
          "2021-01-01T12:00:00",
          "2021-01-01T13:00:00",
          "2021-01-01T14:00:00",
          "2021-01-01T15:00:00",
          "2021-01-01T16:00:00",
          "2021-01-01T17:00:00"
         ],
         "xaxis": "x2",
         "y": [
          268.6917238313008,
          268.6917238313008,
          268.6917238313008,
          268.6917238313008,
          268.6917238313008,
          268.6917238313008,
          268.6917238313008,
          268.6917238313008,
          268.6917238313008,
          268.6917238313008,
          268.6917238313008,
          268.6917238313008
         ],
         "yaxis": "y2"
        },
        {
         "hovertemplate": "run_time=2021-01-01 05:00:00<br>country_name=France<br>timestamp=%{x}<br>t2m=%{y}<extra></extra>",
         "legendgroup": "2021-01-01 05:00:00",
         "line": {
          "color": "#FF6692",
          "dash": "solid"
         },
         "marker": {
          "symbol": "circle"
         },
         "mode": "lines",
         "name": "2021-01-01 05:00:00",
         "orientation": "v",
         "showlegend": false,
         "type": "scatter",
         "x": [
          "2021-01-01T06:00:00",
          "2021-01-01T07:00:00",
          "2021-01-01T08:00:00",
          "2021-01-01T09:00:00",
          "2021-01-01T10:00:00",
          "2021-01-01T11:00:00",
          "2021-01-01T12:00:00",
          "2021-01-01T13:00:00",
          "2021-01-01T14:00:00",
          "2021-01-01T15:00:00",
          "2021-01-01T16:00:00",
          "2021-01-01T17:00:00"
         ],
         "xaxis": "x",
         "y": [
          273.57223948374764,
          273.57223948374764,
          273.57223948374764,
          273.57223948374764,
          273.57223948374764,
          273.57223948374764,
          273.57223948374764,
          273.57223948374764,
          273.57223948374764,
          273.57223948374764,
          273.57223948374764,
          273.57223948374764
         ],
         "yaxis": "y"
        },
        {
         "hovertemplate": "run_time=2021-01-01 06:00:00<br>country_name=Norway<br>timestamp=%{x}<br>t2m=%{y}<extra></extra>",
         "legendgroup": "2021-01-01 06:00:00",
         "line": {
          "color": "#B6E880",
          "dash": "solid"
         },
         "marker": {
          "symbol": "circle"
         },
         "mode": "lines",
         "name": "2021-01-01 06:00:00",
         "orientation": "v",
         "showlegend": true,
         "type": "scatter",
         "x": [
          "2021-01-01T07:00:00",
          "2021-01-01T08:00:00",
          "2021-01-01T09:00:00",
          "2021-01-01T10:00:00",
          "2021-01-01T11:00:00",
          "2021-01-01T12:00:00",
          "2021-01-01T13:00:00",
          "2021-01-01T14:00:00",
          "2021-01-01T15:00:00",
          "2021-01-01T16:00:00",
          "2021-01-01T17:00:00",
          "2021-01-01T18:00:00"
         ],
         "xaxis": "x2",
         "y": [
          268.6198234247967,
          268.6198234247967,
          268.6198234247967,
          268.6198234247967,
          268.6198234247967,
          268.6198234247967,
          268.6198234247967,
          268.6198234247967,
          268.6198234247967,
          268.6198234247967,
          268.6198234247967,
          268.6198234247967
         ],
         "yaxis": "y2"
        },
        {
         "hovertemplate": "run_time=2021-01-01 06:00:00<br>country_name=France<br>timestamp=%{x}<br>t2m=%{y}<extra></extra>",
         "legendgroup": "2021-01-01 06:00:00",
         "line": {
          "color": "#B6E880",
          "dash": "solid"
         },
         "marker": {
          "symbol": "circle"
         },
         "mode": "lines",
         "name": "2021-01-01 06:00:00",
         "orientation": "v",
         "showlegend": false,
         "type": "scatter",
         "x": [
          "2021-01-01T07:00:00",
          "2021-01-01T08:00:00",
          "2021-01-01T09:00:00",
          "2021-01-01T10:00:00",
          "2021-01-01T11:00:00",
          "2021-01-01T12:00:00",
          "2021-01-01T13:00:00",
          "2021-01-01T14:00:00",
          "2021-01-01T15:00:00",
          "2021-01-01T16:00:00",
          "2021-01-01T17:00:00",
          "2021-01-01T18:00:00"
         ],
         "xaxis": "x",
         "y": [
          273.53653800191205,
          273.53653800191205,
          273.53653800191205,
          273.53653800191205,
          273.53653800191205,
          273.53653800191205,
          273.53653800191205,
          273.53653800191205,
          273.53653800191205,
          273.53653800191205,
          273.53653800191205,
          273.53653800191205
         ],
         "yaxis": "y"
        },
        {
         "hovertemplate": "run_time=2021-01-01 07:00:00<br>country_name=Norway<br>timestamp=%{x}<br>t2m=%{y}<extra></extra>",
         "legendgroup": "2021-01-01 07:00:00",
         "line": {
          "color": "#FF97FF",
          "dash": "solid"
         },
         "marker": {
          "symbol": "circle"
         },
         "mode": "lines",
         "name": "2021-01-01 07:00:00",
         "orientation": "v",
         "showlegend": true,
         "type": "scatter",
         "x": [
          "2021-01-01T08:00:00",
          "2021-01-01T09:00:00",
          "2021-01-01T10:00:00",
          "2021-01-01T11:00:00",
          "2021-01-01T12:00:00",
          "2021-01-01T13:00:00",
          "2021-01-01T14:00:00",
          "2021-01-01T15:00:00",
          "2021-01-01T16:00:00",
          "2021-01-01T17:00:00",
          "2021-01-01T18:00:00",
          "2021-01-01T19:00:00"
         ],
         "xaxis": "x2",
         "y": [
          268.5156885162602,
          268.5156885162602,
          268.5156885162602,
          268.5156885162602,
          268.5156885162602,
          268.5156885162602,
          268.5156885162602,
          268.5156885162602,
          268.5156885162602,
          268.5156885162602,
          268.5156885162602,
          268.5156885162602
         ],
         "yaxis": "y2"
        },
        {
         "hovertemplate": "run_time=2021-01-01 07:00:00<br>country_name=France<br>timestamp=%{x}<br>t2m=%{y}<extra></extra>",
         "legendgroup": "2021-01-01 07:00:00",
         "line": {
          "color": "#FF97FF",
          "dash": "solid"
         },
         "marker": {
          "symbol": "circle"
         },
         "mode": "lines",
         "name": "2021-01-01 07:00:00",
         "orientation": "v",
         "showlegend": false,
         "type": "scatter",
         "x": [
          "2021-01-01T08:00:00",
          "2021-01-01T09:00:00",
          "2021-01-01T10:00:00",
          "2021-01-01T11:00:00",
          "2021-01-01T12:00:00",
          "2021-01-01T13:00:00",
          "2021-01-01T14:00:00",
          "2021-01-01T15:00:00",
          "2021-01-01T16:00:00",
          "2021-01-01T17:00:00",
          "2021-01-01T18:00:00",
          "2021-01-01T19:00:00"
         ],
         "xaxis": "x",
         "y": [
          273.4692578871893,
          273.4692578871893,
          273.4692578871893,
          273.4692578871893,
          273.4692578871893,
          273.4692578871893,
          273.4692578871893,
          273.4692578871893,
          273.4692578871893,
          273.4692578871893,
          273.4692578871893,
          273.4692578871893
         ],
         "yaxis": "y"
        },
        {
         "hovertemplate": "run_time=2021-01-01 08:00:00<br>country_name=Norway<br>timestamp=%{x}<br>t2m=%{y}<extra></extra>",
         "legendgroup": "2021-01-01 08:00:00",
         "line": {
          "color": "#FECB52",
          "dash": "solid"
         },
         "marker": {
          "symbol": "circle"
         },
         "mode": "lines",
         "name": "2021-01-01 08:00:00",
         "orientation": "v",
         "showlegend": true,
         "type": "scatter",
         "x": [
          "2021-01-01T09:00:00",
          "2021-01-01T10:00:00",
          "2021-01-01T11:00:00",
          "2021-01-01T12:00:00",
          "2021-01-01T13:00:00",
          "2021-01-01T14:00:00",
          "2021-01-01T15:00:00",
          "2021-01-01T16:00:00",
          "2021-01-01T17:00:00",
          "2021-01-01T18:00:00",
          "2021-01-01T19:00:00",
          "2021-01-01T20:00:00"
         ],
         "xaxis": "x2",
         "y": [
          268.5053036077236,
          268.5053036077236,
          268.5053036077236,
          268.5053036077236,
          268.5053036077236,
          268.5053036077236,
          268.5053036077236,
          268.5053036077236,
          268.5053036077236,
          268.5053036077236,
          268.5053036077236,
          268.5053036077236
         ],
         "yaxis": "y2"
        },
        {
         "hovertemplate": "run_time=2021-01-01 08:00:00<br>country_name=France<br>timestamp=%{x}<br>t2m=%{y}<extra></extra>",
         "legendgroup": "2021-01-01 08:00:00",
         "line": {
          "color": "#FECB52",
          "dash": "solid"
         },
         "marker": {
          "symbol": "circle"
         },
         "mode": "lines",
         "name": "2021-01-01 08:00:00",
         "orientation": "v",
         "showlegend": false,
         "type": "scatter",
         "x": [
          "2021-01-01T09:00:00",
          "2021-01-01T10:00:00",
          "2021-01-01T11:00:00",
          "2021-01-01T12:00:00",
          "2021-01-01T13:00:00",
          "2021-01-01T14:00:00",
          "2021-01-01T15:00:00",
          "2021-01-01T16:00:00",
          "2021-01-01T17:00:00",
          "2021-01-01T18:00:00",
          "2021-01-01T19:00:00",
          "2021-01-01T20:00:00"
         ],
         "xaxis": "x",
         "y": [
          273.3724306883365,
          273.3724306883365,
          273.3724306883365,
          273.3724306883365,
          273.3724306883365,
          273.3724306883365,
          273.3724306883365,
          273.3724306883365,
          273.3724306883365,
          273.3724306883365,
          273.3724306883365,
          273.3724306883365
         ],
         "yaxis": "y"
        },
        {
         "hovertemplate": "run_time=2021-01-01 09:00:00<br>country_name=Norway<br>timestamp=%{x}<br>t2m=%{y}<extra></extra>",
         "legendgroup": "2021-01-01 09:00:00",
         "line": {
          "color": "#636efa",
          "dash": "solid"
         },
         "marker": {
          "symbol": "circle"
         },
         "mode": "lines",
         "name": "2021-01-01 09:00:00",
         "orientation": "v",
         "showlegend": true,
         "type": "scatter",
         "x": [
          "2021-01-01T10:00:00",
          "2021-01-01T11:00:00",
          "2021-01-01T12:00:00",
          "2021-01-01T13:00:00",
          "2021-01-01T14:00:00",
          "2021-01-01T15:00:00",
          "2021-01-01T16:00:00",
          "2021-01-01T17:00:00",
          "2021-01-01T18:00:00",
          "2021-01-01T19:00:00",
          "2021-01-01T20:00:00",
          "2021-01-01T21:00:00"
         ],
         "xaxis": "x2",
         "y": [
          268.3797954776423,
          268.3797954776423,
          268.3797954776423,
          268.3797954776423,
          268.3797954776423,
          268.3797954776423,
          268.3797954776423,
          268.3797954776423,
          268.3797954776423,
          268.3797954776423,
          268.3797954776423,
          268.3797954776423
         ],
         "yaxis": "y2"
        },
        {
         "hovertemplate": "run_time=2021-01-01 09:00:00<br>country_name=France<br>timestamp=%{x}<br>t2m=%{y}<extra></extra>",
         "legendgroup": "2021-01-01 09:00:00",
         "line": {
          "color": "#636efa",
          "dash": "solid"
         },
         "marker": {
          "symbol": "circle"
         },
         "mode": "lines",
         "name": "2021-01-01 09:00:00",
         "orientation": "v",
         "showlegend": false,
         "type": "scatter",
         "x": [
          "2021-01-01T10:00:00",
          "2021-01-01T11:00:00",
          "2021-01-01T12:00:00",
          "2021-01-01T13:00:00",
          "2021-01-01T14:00:00",
          "2021-01-01T15:00:00",
          "2021-01-01T16:00:00",
          "2021-01-01T17:00:00",
          "2021-01-01T18:00:00",
          "2021-01-01T19:00:00",
          "2021-01-01T20:00:00",
          "2021-01-01T21:00:00"
         ],
         "xaxis": "x",
         "y": [
          273.9297024378585,
          273.9297024378585,
          273.9297024378585,
          273.9297024378585,
          273.9297024378585,
          273.9297024378585,
          273.9297024378585,
          273.9297024378585,
          273.9297024378585,
          273.9297024378585,
          273.9297024378585,
          273.9297024378585
         ],
         "yaxis": "y"
        },
        {
         "hovertemplate": "run_time=2021-01-01 10:00:00<br>country_name=Norway<br>timestamp=%{x}<br>t2m=%{y}<extra></extra>",
         "legendgroup": "2021-01-01 10:00:00",
         "line": {
          "color": "#EF553B",
          "dash": "solid"
         },
         "marker": {
          "symbol": "circle"
         },
         "mode": "lines",
         "name": "2021-01-01 10:00:00",
         "orientation": "v",
         "showlegend": true,
         "type": "scatter",
         "x": [
          "2021-01-01T11:00:00",
          "2021-01-01T12:00:00",
          "2021-01-01T13:00:00",
          "2021-01-01T14:00:00",
          "2021-01-01T15:00:00",
          "2021-01-01T16:00:00",
          "2021-01-01T17:00:00",
          "2021-01-01T18:00:00",
          "2021-01-01T19:00:00",
          "2021-01-01T20:00:00",
          "2021-01-01T21:00:00",
          "2021-01-01T22:00:00"
         ],
         "xaxis": "x2",
         "y": [
          268.6517721036585,
          268.6517721036585,
          268.6517721036585,
          268.6517721036585,
          268.6517721036585,
          268.6517721036585,
          268.6517721036585,
          268.6517721036585,
          268.6517721036585,
          268.6517721036585,
          268.6517721036585,
          268.6517721036585
         ],
         "yaxis": "y2"
        },
        {
         "hovertemplate": "run_time=2021-01-01 10:00:00<br>country_name=France<br>timestamp=%{x}<br>t2m=%{y}<extra></extra>",
         "legendgroup": "2021-01-01 10:00:00",
         "line": {
          "color": "#EF553B",
          "dash": "solid"
         },
         "marker": {
          "symbol": "circle"
         },
         "mode": "lines",
         "name": "2021-01-01 10:00:00",
         "orientation": "v",
         "showlegend": false,
         "type": "scatter",
         "x": [
          "2021-01-01T11:00:00",
          "2021-01-01T12:00:00",
          "2021-01-01T13:00:00",
          "2021-01-01T14:00:00",
          "2021-01-01T15:00:00",
          "2021-01-01T16:00:00",
          "2021-01-01T17:00:00",
          "2021-01-01T18:00:00",
          "2021-01-01T19:00:00",
          "2021-01-01T20:00:00",
          "2021-01-01T21:00:00",
          "2021-01-01T22:00:00"
         ],
         "xaxis": "x",
         "y": [
          274.58583293499044,
          274.58583293499044,
          274.58583293499044,
          274.58583293499044,
          274.58583293499044,
          274.58583293499044,
          274.58583293499044,
          274.58583293499044,
          274.58583293499044,
          274.58583293499044,
          274.58583293499044,
          274.58583293499044
         ],
         "yaxis": "y"
        },
        {
         "hovertemplate": "run_time=2021-01-01 11:00:00<br>country_name=Norway<br>timestamp=%{x}<br>t2m=%{y}<extra></extra>",
         "legendgroup": "2021-01-01 11:00:00",
         "line": {
          "color": "#00cc96",
          "dash": "solid"
         },
         "marker": {
          "symbol": "circle"
         },
         "mode": "lines",
         "name": "2021-01-01 11:00:00",
         "orientation": "v",
         "showlegend": true,
         "type": "scatter",
         "x": [
          "2021-01-01T12:00:00",
          "2021-01-01T13:00:00",
          "2021-01-01T14:00:00",
          "2021-01-01T15:00:00",
          "2021-01-01T16:00:00",
          "2021-01-01T17:00:00",
          "2021-01-01T18:00:00",
          "2021-01-01T19:00:00",
          "2021-01-01T20:00:00",
          "2021-01-01T21:00:00",
          "2021-01-01T22:00:00",
          "2021-01-01T23:00:00"
         ],
         "xaxis": "x2",
         "y": [
          268.7805830792683,
          268.7805830792683,
          268.7805830792683,
          268.7805830792683,
          268.7805830792683,
          268.7805830792683,
          268.7805830792683,
          268.7805830792683,
          268.7805830792683,
          268.7805830792683,
          268.7805830792683,
          268.7805830792683
         ],
         "yaxis": "y2"
        },
        {
         "hovertemplate": "run_time=2021-01-01 11:00:00<br>country_name=France<br>timestamp=%{x}<br>t2m=%{y}<extra></extra>",
         "legendgroup": "2021-01-01 11:00:00",
         "line": {
          "color": "#00cc96",
          "dash": "solid"
         },
         "marker": {
          "symbol": "circle"
         },
         "mode": "lines",
         "name": "2021-01-01 11:00:00",
         "orientation": "v",
         "showlegend": false,
         "type": "scatter",
         "x": [
          "2021-01-01T12:00:00",
          "2021-01-01T13:00:00",
          "2021-01-01T14:00:00",
          "2021-01-01T15:00:00",
          "2021-01-01T16:00:00",
          "2021-01-01T17:00:00",
          "2021-01-01T18:00:00",
          "2021-01-01T19:00:00",
          "2021-01-01T20:00:00",
          "2021-01-01T21:00:00",
          "2021-01-01T22:00:00",
          "2021-01-01T23:00:00"
         ],
         "xaxis": "x",
         "y": [
          275.30341778202677,
          275.30341778202677,
          275.30341778202677,
          275.30341778202677,
          275.30341778202677,
          275.30341778202677,
          275.30341778202677,
          275.30341778202677,
          275.30341778202677,
          275.30341778202677,
          275.30341778202677,
          275.30341778202677
         ],
         "yaxis": "y"
        },
        {
         "hovertemplate": "run_time=2021-01-01 12:00:00<br>country_name=Norway<br>timestamp=%{x}<br>t2m=%{y}<extra></extra>",
         "legendgroup": "2021-01-01 12:00:00",
         "line": {
          "color": "#ab63fa",
          "dash": "solid"
         },
         "marker": {
          "symbol": "circle"
         },
         "mode": "lines",
         "name": "2021-01-01 12:00:00",
         "orientation": "v",
         "showlegend": true,
         "type": "scatter",
         "x": [
          "2021-01-01T13:00:00",
          "2021-01-01T14:00:00",
          "2021-01-01T15:00:00",
          "2021-01-01T16:00:00",
          "2021-01-01T17:00:00",
          "2021-01-01T18:00:00",
          "2021-01-01T19:00:00",
          "2021-01-01T20:00:00",
          "2021-01-01T21:00:00",
          "2021-01-01T22:00:00",
          "2021-01-01T23:00:00",
          "2021-01-02T00:00:00"
         ],
         "xaxis": "x2",
         "y": [
          268.8447345020325,
          268.8447345020325,
          268.8447345020325,
          268.8447345020325,
          268.8447345020325,
          268.8447345020325,
          268.8447345020325,
          268.8447345020325,
          268.8447345020325,
          268.8447345020325,
          268.8447345020325,
          268.8447345020325
         ],
         "yaxis": "y2"
        },
        {
         "hovertemplate": "run_time=2021-01-01 12:00:00<br>country_name=France<br>timestamp=%{x}<br>t2m=%{y}<extra></extra>",
         "legendgroup": "2021-01-01 12:00:00",
         "line": {
          "color": "#ab63fa",
          "dash": "solid"
         },
         "marker": {
          "symbol": "circle"
         },
         "mode": "lines",
         "name": "2021-01-01 12:00:00",
         "orientation": "v",
         "showlegend": false,
         "type": "scatter",
         "x": [
          "2021-01-01T13:00:00",
          "2021-01-01T14:00:00",
          "2021-01-01T15:00:00",
          "2021-01-01T16:00:00",
          "2021-01-01T17:00:00",
          "2021-01-01T18:00:00",
          "2021-01-01T19:00:00",
          "2021-01-01T20:00:00",
          "2021-01-01T21:00:00",
          "2021-01-01T22:00:00",
          "2021-01-01T23:00:00",
          "2021-01-02T00:00:00"
         ],
         "xaxis": "x",
         "y": [
          275.95136233269596,
          275.95136233269596,
          275.95136233269596,
          275.95136233269596,
          275.95136233269596,
          275.95136233269596,
          275.95136233269596,
          275.95136233269596,
          275.95136233269596,
          275.95136233269596,
          275.95136233269596,
          275.95136233269596
         ],
         "yaxis": "y"
        },
        {
         "hovertemplate": "run_time=2021-01-01 13:00:00<br>country_name=Norway<br>timestamp=%{x}<br>t2m=%{y}<extra></extra>",
         "legendgroup": "2021-01-01 13:00:00",
         "line": {
          "color": "#FFA15A",
          "dash": "solid"
         },
         "marker": {
          "symbol": "circle"
         },
         "mode": "lines",
         "name": "2021-01-01 13:00:00",
         "orientation": "v",
         "showlegend": true,
         "type": "scatter",
         "x": [
          "2021-01-01T14:00:00",
          "2021-01-01T15:00:00",
          "2021-01-01T16:00:00",
          "2021-01-01T17:00:00",
          "2021-01-01T18:00:00",
          "2021-01-01T19:00:00",
          "2021-01-01T20:00:00",
          "2021-01-01T21:00:00",
          "2021-01-01T22:00:00",
          "2021-01-01T23:00:00",
          "2021-01-02T00:00:00",
          "2021-01-02T01:00:00"
         ],
         "xaxis": "x2",
         "y": [
          268.6991869918699,
          268.6991869918699,
          268.6991869918699,
          268.6991869918699,
          268.6991869918699,
          268.6991869918699,
          268.6991869918699,
          268.6991869918699,
          268.6991869918699,
          268.6991869918699,
          268.6991869918699,
          268.6991869918699
         ],
         "yaxis": "y2"
        },
        {
         "hovertemplate": "run_time=2021-01-01 13:00:00<br>country_name=France<br>timestamp=%{x}<br>t2m=%{y}<extra></extra>",
         "legendgroup": "2021-01-01 13:00:00",
         "line": {
          "color": "#FFA15A",
          "dash": "solid"
         },
         "marker": {
          "symbol": "circle"
         },
         "mode": "lines",
         "name": "2021-01-01 13:00:00",
         "orientation": "v",
         "showlegend": false,
         "type": "scatter",
         "x": [
          "2021-01-01T14:00:00",
          "2021-01-01T15:00:00",
          "2021-01-01T16:00:00",
          "2021-01-01T17:00:00",
          "2021-01-01T18:00:00",
          "2021-01-01T19:00:00",
          "2021-01-01T20:00:00",
          "2021-01-01T21:00:00",
          "2021-01-01T22:00:00",
          "2021-01-01T23:00:00",
          "2021-01-02T00:00:00",
          "2021-01-02T01:00:00"
         ],
         "xaxis": "x",
         "y": [
          276.3130078871893,
          276.3130078871893,
          276.3130078871893,
          276.3130078871893,
          276.3130078871893,
          276.3130078871893,
          276.3130078871893,
          276.3130078871893,
          276.3130078871893,
          276.3130078871893,
          276.3130078871893,
          276.3130078871893
         ],
         "yaxis": "y"
        },
        {
         "hovertemplate": "run_time=2021-01-01 14:00:00<br>country_name=Norway<br>timestamp=%{x}<br>t2m=%{y}<extra></extra>",
         "legendgroup": "2021-01-01 14:00:00",
         "line": {
          "color": "#19d3f3",
          "dash": "solid"
         },
         "marker": {
          "symbol": "circle"
         },
         "mode": "lines",
         "name": "2021-01-01 14:00:00",
         "orientation": "v",
         "showlegend": true,
         "type": "scatter",
         "x": [
          "2021-01-01T15:00:00",
          "2021-01-01T16:00:00",
          "2021-01-01T17:00:00",
          "2021-01-01T18:00:00",
          "2021-01-01T19:00:00",
          "2021-01-01T20:00:00",
          "2021-01-01T21:00:00",
          "2021-01-01T22:00:00",
          "2021-01-01T23:00:00",
          "2021-01-02T00:00:00",
          "2021-01-02T01:00:00",
          "2021-01-02T02:00:00"
         ],
         "xaxis": "x2",
         "y": [
          268.5263910060976,
          268.5263910060976,
          268.5263910060976,
          268.5263910060976,
          268.5263910060976,
          268.5263910060976,
          268.5263910060976,
          268.5263910060976,
          268.5263910060976,
          268.5263910060976,
          268.5263910060976,
          268.5263910060976
         ],
         "yaxis": "y2"
        },
        {
         "hovertemplate": "run_time=2021-01-01 14:00:00<br>country_name=France<br>timestamp=%{x}<br>t2m=%{y}<extra></extra>",
         "legendgroup": "2021-01-01 14:00:00",
         "line": {
          "color": "#19d3f3",
          "dash": "solid"
         },
         "marker": {
          "symbol": "circle"
         },
         "mode": "lines",
         "name": "2021-01-01 14:00:00",
         "orientation": "v",
         "showlegend": false,
         "type": "scatter",
         "x": [
          "2021-01-01T15:00:00",
          "2021-01-01T16:00:00",
          "2021-01-01T17:00:00",
          "2021-01-01T18:00:00",
          "2021-01-01T19:00:00",
          "2021-01-01T20:00:00",
          "2021-01-01T21:00:00",
          "2021-01-01T22:00:00",
          "2021-01-01T23:00:00",
          "2021-01-02T00:00:00",
          "2021-01-02T01:00:00",
          "2021-01-02T02:00:00"
         ],
         "xaxis": "x",
         "y": [
          276.35283221797323,
          276.35283221797323,
          276.35283221797323,
          276.35283221797323,
          276.35283221797323,
          276.35283221797323,
          276.35283221797323,
          276.35283221797323,
          276.35283221797323,
          276.35283221797323,
          276.35283221797323,
          276.35283221797323
         ],
         "yaxis": "y"
        },
        {
         "hovertemplate": "run_time=2021-01-01 15:00:00<br>country_name=Norway<br>timestamp=%{x}<br>t2m=%{y}<extra></extra>",
         "legendgroup": "2021-01-01 15:00:00",
         "line": {
          "color": "#FF6692",
          "dash": "solid"
         },
         "marker": {
          "symbol": "circle"
         },
         "mode": "lines",
         "name": "2021-01-01 15:00:00",
         "orientation": "v",
         "showlegend": true,
         "type": "scatter",
         "x": [
          "2021-01-01T16:00:00",
          "2021-01-01T17:00:00",
          "2021-01-01T18:00:00",
          "2021-01-01T19:00:00",
          "2021-01-01T20:00:00",
          "2021-01-01T21:00:00",
          "2021-01-01T22:00:00",
          "2021-01-01T23:00:00",
          "2021-01-02T00:00:00",
          "2021-01-02T01:00:00",
          "2021-01-02T02:00:00",
          "2021-01-02T03:00:00"
         ],
         "xaxis": "x2",
         "y": [
          268.3269817073171,
          268.3269817073171,
          268.3269817073171,
          268.3269817073171,
          268.3269817073171,
          268.3269817073171,
          268.3269817073171,
          268.3269817073171,
          268.3269817073171,
          268.3269817073171,
          268.3269817073171,
          268.3269817073171
         ],
         "yaxis": "y2"
        },
        {
         "hovertemplate": "run_time=2021-01-01 15:00:00<br>country_name=France<br>timestamp=%{x}<br>t2m=%{y}<extra></extra>",
         "legendgroup": "2021-01-01 15:00:00",
         "line": {
          "color": "#FF6692",
          "dash": "solid"
         },
         "marker": {
          "symbol": "circle"
         },
         "mode": "lines",
         "name": "2021-01-01 15:00:00",
         "orientation": "v",
         "showlegend": false,
         "type": "scatter",
         "x": [
          "2021-01-01T16:00:00",
          "2021-01-01T17:00:00",
          "2021-01-01T18:00:00",
          "2021-01-01T19:00:00",
          "2021-01-01T20:00:00",
          "2021-01-01T21:00:00",
          "2021-01-01T22:00:00",
          "2021-01-01T23:00:00",
          "2021-01-02T00:00:00",
          "2021-01-02T01:00:00",
          "2021-01-02T02:00:00",
          "2021-01-02T03:00:00"
         ],
         "xaxis": "x",
         "y": [
          276.2479983269599,
          276.2479983269599,
          276.2479983269599,
          276.2479983269599,
          276.2479983269599,
          276.2479983269599,
          276.2479983269599,
          276.2479983269599,
          276.2479983269599,
          276.2479983269599,
          276.2479983269599,
          276.2479983269599
         ],
         "yaxis": "y"
        },
        {
         "hovertemplate": "run_time=2021-01-01 16:00:00<br>country_name=Norway<br>timestamp=%{x}<br>t2m=%{y}<extra></extra>",
         "legendgroup": "2021-01-01 16:00:00",
         "line": {
          "color": "#B6E880",
          "dash": "solid"
         },
         "marker": {
          "symbol": "circle"
         },
         "mode": "lines",
         "name": "2021-01-01 16:00:00",
         "orientation": "v",
         "showlegend": true,
         "type": "scatter",
         "x": [
          "2021-01-01T17:00:00",
          "2021-01-01T18:00:00",
          "2021-01-01T19:00:00",
          "2021-01-01T20:00:00",
          "2021-01-01T21:00:00",
          "2021-01-01T22:00:00",
          "2021-01-01T23:00:00",
          "2021-01-02T00:00:00",
          "2021-01-02T01:00:00",
          "2021-01-02T02:00:00",
          "2021-01-02T03:00:00",
          "2021-01-02T04:00:00"
         ],
         "xaxis": "x2",
         "y": [
          268.1555830792683,
          268.1555830792683,
          268.1555830792683,
          268.1555830792683,
          268.1555830792683,
          268.1555830792683,
          268.1555830792683,
          268.1555830792683,
          268.1555830792683,
          268.1555830792683,
          268.1555830792683,
          268.1555830792683
         ],
         "yaxis": "y2"
        },
        {
         "hovertemplate": "run_time=2021-01-01 16:00:00<br>country_name=France<br>timestamp=%{x}<br>t2m=%{y}<extra></extra>",
         "legendgroup": "2021-01-01 16:00:00",
         "line": {
          "color": "#B6E880",
          "dash": "solid"
         },
         "marker": {
          "symbol": "circle"
         },
         "mode": "lines",
         "name": "2021-01-01 16:00:00",
         "orientation": "v",
         "showlegend": false,
         "type": "scatter",
         "x": [
          "2021-01-01T17:00:00",
          "2021-01-01T18:00:00",
          "2021-01-01T19:00:00",
          "2021-01-01T20:00:00",
          "2021-01-01T21:00:00",
          "2021-01-01T22:00:00",
          "2021-01-01T23:00:00",
          "2021-01-02T00:00:00",
          "2021-01-02T01:00:00",
          "2021-01-02T02:00:00",
          "2021-01-02T03:00:00",
          "2021-01-02T04:00:00"
         ],
         "xaxis": "x",
         "y": [
          275.54711400573615,
          275.54711400573615,
          275.54711400573615,
          275.54711400573615,
          275.54711400573615,
          275.54711400573615,
          275.54711400573615,
          275.54711400573615,
          275.54711400573615,
          275.54711400573615,
          275.54711400573615,
          275.54711400573615
         ],
         "yaxis": "y"
        },
        {
         "hovertemplate": "run_time=2021-01-01 17:00:00<br>country_name=Norway<br>timestamp=%{x}<br>t2m=%{y}<extra></extra>",
         "legendgroup": "2021-01-01 17:00:00",
         "line": {
          "color": "#FF97FF",
          "dash": "solid"
         },
         "marker": {
          "symbol": "circle"
         },
         "mode": "lines",
         "name": "2021-01-01 17:00:00",
         "orientation": "v",
         "showlegend": true,
         "type": "scatter",
         "x": [
          "2021-01-01T18:00:00",
          "2021-01-01T19:00:00",
          "2021-01-01T20:00:00",
          "2021-01-01T21:00:00",
          "2021-01-01T22:00:00",
          "2021-01-01T23:00:00",
          "2021-01-02T00:00:00",
          "2021-01-02T01:00:00",
          "2021-01-02T02:00:00",
          "2021-01-02T03:00:00",
          "2021-01-02T04:00:00",
          "2021-01-02T05:00:00"
         ],
         "xaxis": "x2",
         "y": [
          267.950393800813,
          267.950393800813,
          267.950393800813,
          267.950393800813,
          267.950393800813,
          267.950393800813,
          267.950393800813,
          267.950393800813,
          267.950393800813,
          267.950393800813,
          267.950393800813,
          267.950393800813
         ],
         "yaxis": "y2"
        },
        {
         "hovertemplate": "run_time=2021-01-01 17:00:00<br>country_name=France<br>timestamp=%{x}<br>t2m=%{y}<extra></extra>",
         "legendgroup": "2021-01-01 17:00:00",
         "line": {
          "color": "#FF97FF",
          "dash": "solid"
         },
         "marker": {
          "symbol": "circle"
         },
         "mode": "lines",
         "name": "2021-01-01 17:00:00",
         "orientation": "v",
         "showlegend": false,
         "type": "scatter",
         "x": [
          "2021-01-01T18:00:00",
          "2021-01-01T19:00:00",
          "2021-01-01T20:00:00",
          "2021-01-01T21:00:00",
          "2021-01-01T22:00:00",
          "2021-01-01T23:00:00",
          "2021-01-02T00:00:00",
          "2021-01-02T01:00:00",
          "2021-01-02T02:00:00",
          "2021-01-02T03:00:00",
          "2021-01-02T04:00:00",
          "2021-01-02T05:00:00"
         ],
         "xaxis": "x",
         "y": [
          274.7727055449331,
          274.7727055449331,
          274.7727055449331,
          274.7727055449331,
          274.7727055449331,
          274.7727055449331,
          274.7727055449331,
          274.7727055449331,
          274.7727055449331,
          274.7727055449331,
          274.7727055449331,
          274.7727055449331
         ],
         "yaxis": "y"
        },
        {
         "hovertemplate": "run_time=2021-01-01 18:00:00<br>country_name=Norway<br>timestamp=%{x}<br>t2m=%{y}<extra></extra>",
         "legendgroup": "2021-01-01 18:00:00",
         "line": {
          "color": "#FECB52",
          "dash": "solid"
         },
         "marker": {
          "symbol": "circle"
         },
         "mode": "lines",
         "name": "2021-01-01 18:00:00",
         "orientation": "v",
         "showlegend": true,
         "type": "scatter",
         "x": [
          "2021-01-01T19:00:00",
          "2021-01-01T20:00:00",
          "2021-01-01T21:00:00",
          "2021-01-01T22:00:00",
          "2021-01-01T23:00:00",
          "2021-01-02T00:00:00",
          "2021-01-02T01:00:00",
          "2021-01-02T02:00:00",
          "2021-01-02T03:00:00",
          "2021-01-02T04:00:00",
          "2021-01-02T05:00:00",
          "2021-01-02T06:00:00"
         ],
         "xaxis": "x2",
         "y": [
          267.9173971036585,
          267.9173971036585,
          267.9173971036585,
          267.9173971036585,
          267.9173971036585,
          267.9173971036585,
          267.9173971036585,
          267.9173971036585,
          267.9173971036585,
          267.9173971036585,
          267.9173971036585,
          267.9173971036585
         ],
         "yaxis": "y2"
        },
        {
         "hovertemplate": "run_time=2021-01-01 18:00:00<br>country_name=France<br>timestamp=%{x}<br>t2m=%{y}<extra></extra>",
         "legendgroup": "2021-01-01 18:00:00",
         "line": {
          "color": "#FECB52",
          "dash": "solid"
         },
         "marker": {
          "symbol": "circle"
         },
         "mode": "lines",
         "name": "2021-01-01 18:00:00",
         "orientation": "v",
         "showlegend": false,
         "type": "scatter",
         "x": [
          "2021-01-01T19:00:00",
          "2021-01-01T20:00:00",
          "2021-01-01T21:00:00",
          "2021-01-01T22:00:00",
          "2021-01-01T23:00:00",
          "2021-01-02T00:00:00",
          "2021-01-02T01:00:00",
          "2021-01-02T02:00:00",
          "2021-01-02T03:00:00",
          "2021-01-02T04:00:00",
          "2021-01-02T05:00:00",
          "2021-01-02T06:00:00"
         ],
         "xaxis": "x",
         "y": [
          274.2161806883365,
          274.2161806883365,
          274.2161806883365,
          274.2161806883365,
          274.2161806883365,
          274.2161806883365,
          274.2161806883365,
          274.2161806883365,
          274.2161806883365,
          274.2161806883365,
          274.2161806883365,
          274.2161806883365
         ],
         "yaxis": "y"
        },
        {
         "hovertemplate": "run_time=2021-01-01 19:00:00<br>country_name=Norway<br>timestamp=%{x}<br>t2m=%{y}<extra></extra>",
         "legendgroup": "2021-01-01 19:00:00",
         "line": {
          "color": "#636efa",
          "dash": "solid"
         },
         "marker": {
          "symbol": "circle"
         },
         "mode": "lines",
         "name": "2021-01-01 19:00:00",
         "orientation": "v",
         "showlegend": true,
         "type": "scatter",
         "x": [
          "2021-01-01T20:00:00",
          "2021-01-01T21:00:00",
          "2021-01-01T22:00:00",
          "2021-01-01T23:00:00",
          "2021-01-02T00:00:00",
          "2021-01-02T01:00:00",
          "2021-01-02T02:00:00",
          "2021-01-02T03:00:00",
          "2021-01-02T04:00:00",
          "2021-01-02T05:00:00",
          "2021-01-02T06:00:00",
          "2021-01-02T07:00:00"
         ],
         "xaxis": "x2",
         "y": [
          267.7834730691057,
          267.7834730691057,
          267.7834730691057,
          267.7834730691057,
          267.7834730691057,
          267.7834730691057,
          267.7834730691057,
          267.7834730691057,
          267.7834730691057,
          267.7834730691057,
          267.7834730691057,
          267.7834730691057
         ],
         "yaxis": "y2"
        },
        {
         "hovertemplate": "run_time=2021-01-01 19:00:00<br>country_name=France<br>timestamp=%{x}<br>t2m=%{y}<extra></extra>",
         "legendgroup": "2021-01-01 19:00:00",
         "line": {
          "color": "#636efa",
          "dash": "solid"
         },
         "marker": {
          "symbol": "circle"
         },
         "mode": "lines",
         "name": "2021-01-01 19:00:00",
         "orientation": "v",
         "showlegend": false,
         "type": "scatter",
         "x": [
          "2021-01-01T20:00:00",
          "2021-01-01T21:00:00",
          "2021-01-01T22:00:00",
          "2021-01-01T23:00:00",
          "2021-01-02T00:00:00",
          "2021-01-02T01:00:00",
          "2021-01-02T02:00:00",
          "2021-01-02T03:00:00",
          "2021-01-02T04:00:00",
          "2021-01-02T05:00:00",
          "2021-01-02T06:00:00",
          "2021-01-02T07:00:00"
         ],
         "xaxis": "x",
         "y": [
          273.9255795889101,
          273.9255795889101,
          273.9255795889101,
          273.9255795889101,
          273.9255795889101,
          273.9255795889101,
          273.9255795889101,
          273.9255795889101,
          273.9255795889101,
          273.9255795889101,
          273.9255795889101,
          273.9255795889101
         ],
         "yaxis": "y"
        },
        {
         "hovertemplate": "run_time=2021-01-01 20:00:00<br>country_name=Norway<br>timestamp=%{x}<br>t2m=%{y}<extra></extra>",
         "legendgroup": "2021-01-01 20:00:00",
         "line": {
          "color": "#EF553B",
          "dash": "solid"
         },
         "marker": {
          "symbol": "circle"
         },
         "mode": "lines",
         "name": "2021-01-01 20:00:00",
         "orientation": "v",
         "showlegend": true,
         "type": "scatter",
         "x": [
          "2021-01-01T21:00:00",
          "2021-01-01T22:00:00",
          "2021-01-01T23:00:00",
          "2021-01-02T00:00:00",
          "2021-01-02T01:00:00",
          "2021-01-02T02:00:00",
          "2021-01-02T03:00:00",
          "2021-01-02T04:00:00",
          "2021-01-02T05:00:00",
          "2021-01-02T06:00:00",
          "2021-01-02T07:00:00",
          "2021-01-02T08:00:00"
         ],
         "xaxis": "x2",
         "y": [
          267.719543953252,
          267.719543953252,
          267.719543953252,
          267.719543953252,
          267.719543953252,
          267.719543953252,
          267.719543953252,
          267.719543953252,
          267.719543953252,
          267.719543953252,
          267.719543953252,
          267.719543953252
         ],
         "yaxis": "y2"
        },
        {
         "hovertemplate": "run_time=2021-01-01 20:00:00<br>country_name=France<br>timestamp=%{x}<br>t2m=%{y}<extra></extra>",
         "legendgroup": "2021-01-01 20:00:00",
         "line": {
          "color": "#EF553B",
          "dash": "solid"
         },
         "marker": {
          "symbol": "circle"
         },
         "mode": "lines",
         "name": "2021-01-01 20:00:00",
         "orientation": "v",
         "showlegend": false,
         "type": "scatter",
         "x": [
          "2021-01-01T21:00:00",
          "2021-01-01T22:00:00",
          "2021-01-01T23:00:00",
          "2021-01-02T00:00:00",
          "2021-01-02T01:00:00",
          "2021-01-02T02:00:00",
          "2021-01-02T03:00:00",
          "2021-01-02T04:00:00",
          "2021-01-02T05:00:00",
          "2021-01-02T06:00:00",
          "2021-01-02T07:00:00",
          "2021-01-02T08:00:00"
         ],
         "xaxis": "x",
         "y": [
          273.6210265296367,
          273.6210265296367,
          273.6210265296367,
          273.6210265296367,
          273.6210265296367,
          273.6210265296367,
          273.6210265296367,
          273.6210265296367,
          273.6210265296367,
          273.6210265296367,
          273.6210265296367,
          273.6210265296367
         ],
         "yaxis": "y"
        },
        {
         "hovertemplate": "run_time=2021-01-01 21:00:00<br>country_name=Norway<br>timestamp=%{x}<br>t2m=%{y}<extra></extra>",
         "legendgroup": "2021-01-01 21:00:00",
         "line": {
          "color": "#00cc96",
          "dash": "solid"
         },
         "marker": {
          "symbol": "circle"
         },
         "mode": "lines",
         "name": "2021-01-01 21:00:00",
         "orientation": "v",
         "showlegend": true,
         "type": "scatter",
         "x": [
          "2021-01-01T22:00:00",
          "2021-01-01T23:00:00",
          "2021-01-02T00:00:00",
          "2021-01-02T01:00:00",
          "2021-01-02T02:00:00",
          "2021-01-02T03:00:00",
          "2021-01-02T04:00:00",
          "2021-01-02T05:00:00",
          "2021-01-02T06:00:00",
          "2021-01-02T07:00:00",
          "2021-01-02T08:00:00",
          "2021-01-02T09:00:00"
         ],
         "xaxis": "x2",
         "y": [
          267.7669905995935,
          267.7669905995935,
          267.7669905995935,
          267.7669905995935,
          267.7669905995935,
          267.7669905995935,
          267.7669905995935,
          267.7669905995935,
          267.7669905995935,
          267.7669905995935,
          267.7669905995935,
          267.7669905995935
         ],
         "yaxis": "y2"
        },
        {
         "hovertemplate": "run_time=2021-01-01 21:00:00<br>country_name=France<br>timestamp=%{x}<br>t2m=%{y}<extra></extra>",
         "legendgroup": "2021-01-01 21:00:00",
         "line": {
          "color": "#00cc96",
          "dash": "solid"
         },
         "marker": {
          "symbol": "circle"
         },
         "mode": "lines",
         "name": "2021-01-01 21:00:00",
         "orientation": "v",
         "showlegend": false,
         "type": "scatter",
         "x": [
          "2021-01-01T22:00:00",
          "2021-01-01T23:00:00",
          "2021-01-02T00:00:00",
          "2021-01-02T01:00:00",
          "2021-01-02T02:00:00",
          "2021-01-02T03:00:00",
          "2021-01-02T04:00:00",
          "2021-01-02T05:00:00",
          "2021-01-02T06:00:00",
          "2021-01-02T07:00:00",
          "2021-01-02T08:00:00",
          "2021-01-02T09:00:00"
         ],
         "xaxis": "x",
         "y": [
          273.3250776768642,
          273.3250776768642,
          273.3250776768642,
          273.3250776768642,
          273.3250776768642,
          273.3250776768642,
          273.3250776768642,
          273.3250776768642,
          273.3250776768642,
          273.3250776768642,
          273.3250776768642,
          273.3250776768642
         ],
         "yaxis": "y"
        },
        {
         "hovertemplate": "run_time=2021-01-01 22:00:00<br>country_name=Norway<br>timestamp=%{x}<br>t2m=%{y}<extra></extra>",
         "legendgroup": "2021-01-01 22:00:00",
         "line": {
          "color": "#ab63fa",
          "dash": "solid"
         },
         "marker": {
          "symbol": "circle"
         },
         "mode": "lines",
         "name": "2021-01-01 22:00:00",
         "orientation": "v",
         "showlegend": true,
         "type": "scatter",
         "x": [
          "2021-01-01T23:00:00",
          "2021-01-02T00:00:00",
          "2021-01-02T01:00:00",
          "2021-01-02T02:00:00",
          "2021-01-02T03:00:00",
          "2021-01-02T04:00:00",
          "2021-01-02T05:00:00",
          "2021-01-02T06:00:00",
          "2021-01-02T07:00:00",
          "2021-01-02T08:00:00",
          "2021-01-02T09:00:00",
          "2021-01-02T10:00:00"
         ],
         "xaxis": "x2",
         "y": [
          268.075774898374,
          268.075774898374,
          268.075774898374,
          268.075774898374,
          268.075774898374,
          268.075774898374,
          268.075774898374,
          268.075774898374,
          268.075774898374,
          268.075774898374,
          268.075774898374,
          268.075774898374
         ],
         "yaxis": "y2"
        },
        {
         "hovertemplate": "run_time=2021-01-01 22:00:00<br>country_name=France<br>timestamp=%{x}<br>t2m=%{y}<extra></extra>",
         "legendgroup": "2021-01-01 22:00:00",
         "line": {
          "color": "#ab63fa",
          "dash": "solid"
         },
         "marker": {
          "symbol": "circle"
         },
         "mode": "lines",
         "name": "2021-01-01 22:00:00",
         "orientation": "v",
         "showlegend": false,
         "type": "scatter",
         "x": [
          "2021-01-01T23:00:00",
          "2021-01-02T00:00:00",
          "2021-01-02T01:00:00",
          "2021-01-02T02:00:00",
          "2021-01-02T03:00:00",
          "2021-01-02T04:00:00",
          "2021-01-02T05:00:00",
          "2021-01-02T06:00:00",
          "2021-01-02T07:00:00",
          "2021-01-02T08:00:00",
          "2021-01-02T09:00:00",
          "2021-01-02T10:00:00"
         ],
         "xaxis": "x",
         "y": [
          273.0531190248566,
          273.0531190248566,
          273.0531190248566,
          273.0531190248566,
          273.0531190248566,
          273.0531190248566,
          273.0531190248566,
          273.0531190248566,
          273.0531190248566,
          273.0531190248566,
          273.0531190248566,
          273.0531190248566
         ],
         "yaxis": "y"
        },
        {
         "hovertemplate": "run_time=2021-01-01 23:00:00<br>country_name=Norway<br>timestamp=%{x}<br>t2m=%{y}<extra></extra>",
         "legendgroup": "2021-01-01 23:00:00",
         "line": {
          "color": "#FFA15A",
          "dash": "solid"
         },
         "marker": {
          "symbol": "circle"
         },
         "mode": "lines",
         "name": "2021-01-01 23:00:00",
         "orientation": "v",
         "showlegend": true,
         "type": "scatter",
         "x": [
          "2021-01-02T00:00:00",
          "2021-01-02T01:00:00",
          "2021-01-02T02:00:00",
          "2021-01-02T03:00:00",
          "2021-01-02T04:00:00",
          "2021-01-02T05:00:00",
          "2021-01-02T06:00:00",
          "2021-01-02T07:00:00",
          "2021-01-02T08:00:00",
          "2021-01-02T09:00:00",
          "2021-01-02T10:00:00",
          "2021-01-02T11:00:00"
         ],
         "xaxis": "x2",
         "y": [
          268.114837398374,
          268.114837398374,
          268.114837398374,
          268.114837398374,
          268.114837398374,
          268.114837398374,
          268.114837398374,
          268.114837398374,
          268.114837398374,
          268.114837398374,
          268.114837398374,
          268.114837398374
         ],
         "yaxis": "y2"
        },
        {
         "hovertemplate": "run_time=2021-01-01 23:00:00<br>country_name=France<br>timestamp=%{x}<br>t2m=%{y}<extra></extra>",
         "legendgroup": "2021-01-01 23:00:00",
         "line": {
          "color": "#FFA15A",
          "dash": "solid"
         },
         "marker": {
          "symbol": "circle"
         },
         "mode": "lines",
         "name": "2021-01-01 23:00:00",
         "orientation": "v",
         "showlegend": false,
         "type": "scatter",
         "x": [
          "2021-01-02T00:00:00",
          "2021-01-02T01:00:00",
          "2021-01-02T02:00:00",
          "2021-01-02T03:00:00",
          "2021-01-02T04:00:00",
          "2021-01-02T05:00:00",
          "2021-01-02T06:00:00",
          "2021-01-02T07:00:00",
          "2021-01-02T08:00:00",
          "2021-01-02T09:00:00",
          "2021-01-02T10:00:00",
          "2021-01-02T11:00:00"
         ],
         "xaxis": "x",
         "y": [
          272.8053895793499,
          272.8053895793499,
          272.8053895793499,
          272.8053895793499,
          272.8053895793499,
          272.8053895793499,
          272.8053895793499,
          272.8053895793499,
          272.8053895793499,
          272.8053895793499,
          272.8053895793499,
          272.8053895793499
         ],
         "yaxis": "y"
        }
       ],
       "layout": {
        "annotations": [
         {
          "font": {},
          "showarrow": false,
          "text": "country_name=France",
          "textangle": 90,
          "x": 0.98,
          "xanchor": "left",
          "xref": "paper",
          "y": 0.2425,
          "yanchor": "middle",
          "yref": "paper"
         },
         {
          "font": {},
          "showarrow": false,
          "text": "country_name=Norway",
          "textangle": 90,
          "x": 0.98,
          "xanchor": "left",
          "xref": "paper",
          "y": 0.7575000000000001,
          "yanchor": "middle",
          "yref": "paper"
         }
        ],
        "legend": {
         "title": {
          "text": "run_time"
         },
         "tracegroupgap": 0
        },
        "margin": {
         "t": 60
        },
        "template": {
         "data": {
          "bar": [
           {
            "error_x": {
             "color": "#2a3f5f"
            },
            "error_y": {
             "color": "#2a3f5f"
            },
            "marker": {
             "line": {
              "color": "#E5ECF6",
              "width": 0.5
             },
             "pattern": {
              "fillmode": "overlay",
              "size": 10,
              "solidity": 0.2
             }
            },
            "type": "bar"
           }
          ],
          "barpolar": [
           {
            "marker": {
             "line": {
              "color": "#E5ECF6",
              "width": 0.5
             },
             "pattern": {
              "fillmode": "overlay",
              "size": 10,
              "solidity": 0.2
             }
            },
            "type": "barpolar"
           }
          ],
          "carpet": [
           {
            "aaxis": {
             "endlinecolor": "#2a3f5f",
             "gridcolor": "white",
             "linecolor": "white",
             "minorgridcolor": "white",
             "startlinecolor": "#2a3f5f"
            },
            "baxis": {
             "endlinecolor": "#2a3f5f",
             "gridcolor": "white",
             "linecolor": "white",
             "minorgridcolor": "white",
             "startlinecolor": "#2a3f5f"
            },
            "type": "carpet"
           }
          ],
          "choropleth": [
           {
            "colorbar": {
             "outlinewidth": 0,
             "ticks": ""
            },
            "type": "choropleth"
           }
          ],
          "contour": [
           {
            "colorbar": {
             "outlinewidth": 0,
             "ticks": ""
            },
            "colorscale": [
             [
              0,
              "#0d0887"
             ],
             [
              0.1111111111111111,
              "#46039f"
             ],
             [
              0.2222222222222222,
              "#7201a8"
             ],
             [
              0.3333333333333333,
              "#9c179e"
             ],
             [
              0.4444444444444444,
              "#bd3786"
             ],
             [
              0.5555555555555556,
              "#d8576b"
             ],
             [
              0.6666666666666666,
              "#ed7953"
             ],
             [
              0.7777777777777778,
              "#fb9f3a"
             ],
             [
              0.8888888888888888,
              "#fdca26"
             ],
             [
              1,
              "#f0f921"
             ]
            ],
            "type": "contour"
           }
          ],
          "contourcarpet": [
           {
            "colorbar": {
             "outlinewidth": 0,
             "ticks": ""
            },
            "type": "contourcarpet"
           }
          ],
          "heatmap": [
           {
            "colorbar": {
             "outlinewidth": 0,
             "ticks": ""
            },
            "colorscale": [
             [
              0,
              "#0d0887"
             ],
             [
              0.1111111111111111,
              "#46039f"
             ],
             [
              0.2222222222222222,
              "#7201a8"
             ],
             [
              0.3333333333333333,
              "#9c179e"
             ],
             [
              0.4444444444444444,
              "#bd3786"
             ],
             [
              0.5555555555555556,
              "#d8576b"
             ],
             [
              0.6666666666666666,
              "#ed7953"
             ],
             [
              0.7777777777777778,
              "#fb9f3a"
             ],
             [
              0.8888888888888888,
              "#fdca26"
             ],
             [
              1,
              "#f0f921"
             ]
            ],
            "type": "heatmap"
           }
          ],
          "heatmapgl": [
           {
            "colorbar": {
             "outlinewidth": 0,
             "ticks": ""
            },
            "colorscale": [
             [
              0,
              "#0d0887"
             ],
             [
              0.1111111111111111,
              "#46039f"
             ],
             [
              0.2222222222222222,
              "#7201a8"
             ],
             [
              0.3333333333333333,
              "#9c179e"
             ],
             [
              0.4444444444444444,
              "#bd3786"
             ],
             [
              0.5555555555555556,
              "#d8576b"
             ],
             [
              0.6666666666666666,
              "#ed7953"
             ],
             [
              0.7777777777777778,
              "#fb9f3a"
             ],
             [
              0.8888888888888888,
              "#fdca26"
             ],
             [
              1,
              "#f0f921"
             ]
            ],
            "type": "heatmapgl"
           }
          ],
          "histogram": [
           {
            "marker": {
             "pattern": {
              "fillmode": "overlay",
              "size": 10,
              "solidity": 0.2
             }
            },
            "type": "histogram"
           }
          ],
          "histogram2d": [
           {
            "colorbar": {
             "outlinewidth": 0,
             "ticks": ""
            },
            "colorscale": [
             [
              0,
              "#0d0887"
             ],
             [
              0.1111111111111111,
              "#46039f"
             ],
             [
              0.2222222222222222,
              "#7201a8"
             ],
             [
              0.3333333333333333,
              "#9c179e"
             ],
             [
              0.4444444444444444,
              "#bd3786"
             ],
             [
              0.5555555555555556,
              "#d8576b"
             ],
             [
              0.6666666666666666,
              "#ed7953"
             ],
             [
              0.7777777777777778,
              "#fb9f3a"
             ],
             [
              0.8888888888888888,
              "#fdca26"
             ],
             [
              1,
              "#f0f921"
             ]
            ],
            "type": "histogram2d"
           }
          ],
          "histogram2dcontour": [
           {
            "colorbar": {
             "outlinewidth": 0,
             "ticks": ""
            },
            "colorscale": [
             [
              0,
              "#0d0887"
             ],
             [
              0.1111111111111111,
              "#46039f"
             ],
             [
              0.2222222222222222,
              "#7201a8"
             ],
             [
              0.3333333333333333,
              "#9c179e"
             ],
             [
              0.4444444444444444,
              "#bd3786"
             ],
             [
              0.5555555555555556,
              "#d8576b"
             ],
             [
              0.6666666666666666,
              "#ed7953"
             ],
             [
              0.7777777777777778,
              "#fb9f3a"
             ],
             [
              0.8888888888888888,
              "#fdca26"
             ],
             [
              1,
              "#f0f921"
             ]
            ],
            "type": "histogram2dcontour"
           }
          ],
          "mesh3d": [
           {
            "colorbar": {
             "outlinewidth": 0,
             "ticks": ""
            },
            "type": "mesh3d"
           }
          ],
          "parcoords": [
           {
            "line": {
             "colorbar": {
              "outlinewidth": 0,
              "ticks": ""
             }
            },
            "type": "parcoords"
           }
          ],
          "pie": [
           {
            "automargin": true,
            "type": "pie"
           }
          ],
          "scatter": [
           {
            "fillpattern": {
             "fillmode": "overlay",
             "size": 10,
             "solidity": 0.2
            },
            "type": "scatter"
           }
          ],
          "scatter3d": [
           {
            "line": {
             "colorbar": {
              "outlinewidth": 0,
              "ticks": ""
             }
            },
            "marker": {
             "colorbar": {
              "outlinewidth": 0,
              "ticks": ""
             }
            },
            "type": "scatter3d"
           }
          ],
          "scattercarpet": [
           {
            "marker": {
             "colorbar": {
              "outlinewidth": 0,
              "ticks": ""
             }
            },
            "type": "scattercarpet"
           }
          ],
          "scattergeo": [
           {
            "marker": {
             "colorbar": {
              "outlinewidth": 0,
              "ticks": ""
             }
            },
            "type": "scattergeo"
           }
          ],
          "scattergl": [
           {
            "marker": {
             "colorbar": {
              "outlinewidth": 0,
              "ticks": ""
             }
            },
            "type": "scattergl"
           }
          ],
          "scattermapbox": [
           {
            "marker": {
             "colorbar": {
              "outlinewidth": 0,
              "ticks": ""
             }
            },
            "type": "scattermapbox"
           }
          ],
          "scatterpolar": [
           {
            "marker": {
             "colorbar": {
              "outlinewidth": 0,
              "ticks": ""
             }
            },
            "type": "scatterpolar"
           }
          ],
          "scatterpolargl": [
           {
            "marker": {
             "colorbar": {
              "outlinewidth": 0,
              "ticks": ""
             }
            },
            "type": "scatterpolargl"
           }
          ],
          "scatterternary": [
           {
            "marker": {
             "colorbar": {
              "outlinewidth": 0,
              "ticks": ""
             }
            },
            "type": "scatterternary"
           }
          ],
          "surface": [
           {
            "colorbar": {
             "outlinewidth": 0,
             "ticks": ""
            },
            "colorscale": [
             [
              0,
              "#0d0887"
             ],
             [
              0.1111111111111111,
              "#46039f"
             ],
             [
              0.2222222222222222,
              "#7201a8"
             ],
             [
              0.3333333333333333,
              "#9c179e"
             ],
             [
              0.4444444444444444,
              "#bd3786"
             ],
             [
              0.5555555555555556,
              "#d8576b"
             ],
             [
              0.6666666666666666,
              "#ed7953"
             ],
             [
              0.7777777777777778,
              "#fb9f3a"
             ],
             [
              0.8888888888888888,
              "#fdca26"
             ],
             [
              1,
              "#f0f921"
             ]
            ],
            "type": "surface"
           }
          ],
          "table": [
           {
            "cells": {
             "fill": {
              "color": "#EBF0F8"
             },
             "line": {
              "color": "white"
             }
            },
            "header": {
             "fill": {
              "color": "#C8D4E3"
             },
             "line": {
              "color": "white"
             }
            },
            "type": "table"
           }
          ]
         },
         "layout": {
          "annotationdefaults": {
           "arrowcolor": "#2a3f5f",
           "arrowhead": 0,
           "arrowwidth": 1
          },
          "autotypenumbers": "strict",
          "coloraxis": {
           "colorbar": {
            "outlinewidth": 0,
            "ticks": ""
           }
          },
          "colorscale": {
           "diverging": [
            [
             0,
             "#8e0152"
            ],
            [
             0.1,
             "#c51b7d"
            ],
            [
             0.2,
             "#de77ae"
            ],
            [
             0.3,
             "#f1b6da"
            ],
            [
             0.4,
             "#fde0ef"
            ],
            [
             0.5,
             "#f7f7f7"
            ],
            [
             0.6,
             "#e6f5d0"
            ],
            [
             0.7,
             "#b8e186"
            ],
            [
             0.8,
             "#7fbc41"
            ],
            [
             0.9,
             "#4d9221"
            ],
            [
             1,
             "#276419"
            ]
           ],
           "sequential": [
            [
             0,
             "#0d0887"
            ],
            [
             0.1111111111111111,
             "#46039f"
            ],
            [
             0.2222222222222222,
             "#7201a8"
            ],
            [
             0.3333333333333333,
             "#9c179e"
            ],
            [
             0.4444444444444444,
             "#bd3786"
            ],
            [
             0.5555555555555556,
             "#d8576b"
            ],
            [
             0.6666666666666666,
             "#ed7953"
            ],
            [
             0.7777777777777778,
             "#fb9f3a"
            ],
            [
             0.8888888888888888,
             "#fdca26"
            ],
            [
             1,
             "#f0f921"
            ]
           ],
           "sequentialminus": [
            [
             0,
             "#0d0887"
            ],
            [
             0.1111111111111111,
             "#46039f"
            ],
            [
             0.2222222222222222,
             "#7201a8"
            ],
            [
             0.3333333333333333,
             "#9c179e"
            ],
            [
             0.4444444444444444,
             "#bd3786"
            ],
            [
             0.5555555555555556,
             "#d8576b"
            ],
            [
             0.6666666666666666,
             "#ed7953"
            ],
            [
             0.7777777777777778,
             "#fb9f3a"
            ],
            [
             0.8888888888888888,
             "#fdca26"
            ],
            [
             1,
             "#f0f921"
            ]
           ]
          },
          "colorway": [
           "#636efa",
           "#EF553B",
           "#00cc96",
           "#ab63fa",
           "#FFA15A",
           "#19d3f3",
           "#FF6692",
           "#B6E880",
           "#FF97FF",
           "#FECB52"
          ],
          "font": {
           "color": "#2a3f5f"
          },
          "geo": {
           "bgcolor": "white",
           "lakecolor": "white",
           "landcolor": "#E5ECF6",
           "showlakes": true,
           "showland": true,
           "subunitcolor": "white"
          },
          "hoverlabel": {
           "align": "left"
          },
          "hovermode": "closest",
          "mapbox": {
           "style": "light"
          },
          "paper_bgcolor": "white",
          "plot_bgcolor": "#E5ECF6",
          "polar": {
           "angularaxis": {
            "gridcolor": "white",
            "linecolor": "white",
            "ticks": ""
           },
           "bgcolor": "#E5ECF6",
           "radialaxis": {
            "gridcolor": "white",
            "linecolor": "white",
            "ticks": ""
           }
          },
          "scene": {
           "xaxis": {
            "backgroundcolor": "#E5ECF6",
            "gridcolor": "white",
            "gridwidth": 2,
            "linecolor": "white",
            "showbackground": true,
            "ticks": "",
            "zerolinecolor": "white"
           },
           "yaxis": {
            "backgroundcolor": "#E5ECF6",
            "gridcolor": "white",
            "gridwidth": 2,
            "linecolor": "white",
            "showbackground": true,
            "ticks": "",
            "zerolinecolor": "white"
           },
           "zaxis": {
            "backgroundcolor": "#E5ECF6",
            "gridcolor": "white",
            "gridwidth": 2,
            "linecolor": "white",
            "showbackground": true,
            "ticks": "",
            "zerolinecolor": "white"
           }
          },
          "shapedefaults": {
           "line": {
            "color": "#2a3f5f"
           }
          },
          "ternary": {
           "aaxis": {
            "gridcolor": "white",
            "linecolor": "white",
            "ticks": ""
           },
           "baxis": {
            "gridcolor": "white",
            "linecolor": "white",
            "ticks": ""
           },
           "bgcolor": "#E5ECF6",
           "caxis": {
            "gridcolor": "white",
            "linecolor": "white",
            "ticks": ""
           }
          },
          "title": {
           "x": 0.05
          },
          "xaxis": {
           "automargin": true,
           "gridcolor": "white",
           "linecolor": "white",
           "ticks": "",
           "title": {
            "standoff": 15
           },
           "zerolinecolor": "white",
           "zerolinewidth": 2
          },
          "yaxis": {
           "automargin": true,
           "gridcolor": "white",
           "linecolor": "white",
           "ticks": "",
           "title": {
            "standoff": 15
           },
           "zerolinecolor": "white",
           "zerolinewidth": 2
          }
         }
        },
        "xaxis": {
         "anchor": "y",
         "domain": [
          0,
          0.98
         ],
         "title": {
          "text": "timestamp"
         }
        },
        "xaxis2": {
         "anchor": "y2",
         "domain": [
          0,
          0.98
         ],
         "matches": "x",
         "showticklabels": false
        },
        "yaxis": {
         "anchor": "x",
         "domain": [
          0,
          0.485
         ],
         "title": {
          "text": "t2m"
         }
        },
        "yaxis2": {
         "anchor": "x2",
         "domain": [
          0.515,
          1
         ],
         "matches": "y",
         "title": {
          "text": "t2m"
         }
        }
       }
      }
     },
     "metadata": {},
     "output_type": "display_data"
    }
   ],
   "source": [
    "\n",
    "fig = px.line(ddf_plot, x=\"timestamp\", y=\"t2m\", color=\"run_time\", facet_row=\"country_name\")\n",
    "fig.show()"
   ]
  },
  {
   "cell_type": "code",
   "execution_count": null,
   "metadata": {},
   "outputs": [],
   "source": []
  },
  {
   "cell_type": "code",
   "execution_count": null,
   "metadata": {},
   "outputs": [],
   "source": []
  },
  {
   "cell_type": "code",
   "execution_count": null,
   "metadata": {},
   "outputs": [],
   "source": []
  },
  {
   "cell_type": "code",
   "execution_count": null,
   "metadata": {},
   "outputs": [],
   "source": []
  },
  {
   "cell_type": "code",
   "execution_count": null,
   "metadata": {},
   "outputs": [],
   "source": []
  },
  {
   "cell_type": "code",
   "execution_count": null,
   "metadata": {},
   "outputs": [],
   "source": []
  },
  {
   "cell_type": "code",
   "execution_count": 13,
   "metadata": {},
   "outputs": [],
   "source": [
    "import cfgrib"
   ]
  },
  {
   "cell_type": "code",
   "execution_count": 17,
   "metadata": {},
   "outputs": [],
   "source": [
    "path = \"/Users/badrbenmbarek/Documents/work/git/weather-weaver/ec.oper.fc.sfc.128_165_10u.regn1280sc.20190101-20190527.grb.spasub.benmbarek722612/ec.oper.fc.sfc.128_165_10u.regn1280sc.20190101.grb.spasub.benmbarek722612\"\n",
    "ddd  = cfgrib.open_datasets(\n",
    "    path=path,\n",
    "    chunks={\n",
    "        \"time\": 1,\n",
    "        \"step\": -1,\n",
    "        \"longitude\": \"auto\",\n",
    "        \"latitude\": \"auto\",\n",
    "    },\n",
    "    backend_kwargs={\"indexpath\": \"\"},\n",
    ")"
   ]
  },
  {
   "cell_type": "code",
   "execution_count": 18,
   "metadata": {},
   "outputs": [
    {
     "data": {
      "text/html": [
       "<div><svg style=\"position: absolute; width: 0; height: 0; overflow: hidden\">\n",
       "<defs>\n",
       "<symbol id=\"icon-database\" viewBox=\"0 0 32 32\">\n",
       "<path d=\"M16 0c-8.837 0-16 2.239-16 5v4c0 2.761 7.163 5 16 5s16-2.239 16-5v-4c0-2.761-7.163-5-16-5z\"></path>\n",
       "<path d=\"M16 17c-8.837 0-16-2.239-16-5v6c0 2.761 7.163 5 16 5s16-2.239 16-5v-6c0 2.761-7.163 5-16 5z\"></path>\n",
       "<path d=\"M16 26c-8.837 0-16-2.239-16-5v6c0 2.761 7.163 5 16 5s16-2.239 16-5v-6c0 2.761-7.163 5-16 5z\"></path>\n",
       "</symbol>\n",
       "<symbol id=\"icon-file-text2\" viewBox=\"0 0 32 32\">\n",
       "<path d=\"M28.681 7.159c-0.694-0.947-1.662-2.053-2.724-3.116s-2.169-2.030-3.116-2.724c-1.612-1.182-2.393-1.319-2.841-1.319h-15.5c-1.378 0-2.5 1.121-2.5 2.5v27c0 1.378 1.122 2.5 2.5 2.5h23c1.378 0 2.5-1.122 2.5-2.5v-19.5c0-0.448-0.137-1.23-1.319-2.841zM24.543 5.457c0.959 0.959 1.712 1.825 2.268 2.543h-4.811v-4.811c0.718 0.556 1.584 1.309 2.543 2.268zM28 29.5c0 0.271-0.229 0.5-0.5 0.5h-23c-0.271 0-0.5-0.229-0.5-0.5v-27c0-0.271 0.229-0.5 0.5-0.5 0 0 15.499-0 15.5 0v7c0 0.552 0.448 1 1 1h7v19.5z\"></path>\n",
       "<path d=\"M23 26h-14c-0.552 0-1-0.448-1-1s0.448-1 1-1h14c0.552 0 1 0.448 1 1s-0.448 1-1 1z\"></path>\n",
       "<path d=\"M23 22h-14c-0.552 0-1-0.448-1-1s0.448-1 1-1h14c0.552 0 1 0.448 1 1s-0.448 1-1 1z\"></path>\n",
       "<path d=\"M23 18h-14c-0.552 0-1-0.448-1-1s0.448-1 1-1h14c0.552 0 1 0.448 1 1s-0.448 1-1 1z\"></path>\n",
       "</symbol>\n",
       "</defs>\n",
       "</svg>\n",
       "<style>/* CSS stylesheet for displaying xarray objects in jupyterlab.\n",
       " *\n",
       " */\n",
       "\n",
       ":root {\n",
       "  --xr-font-color0: var(--jp-content-font-color0, rgba(0, 0, 0, 1));\n",
       "  --xr-font-color2: var(--jp-content-font-color2, rgba(0, 0, 0, 0.54));\n",
       "  --xr-font-color3: var(--jp-content-font-color3, rgba(0, 0, 0, 0.38));\n",
       "  --xr-border-color: var(--jp-border-color2, #e0e0e0);\n",
       "  --xr-disabled-color: var(--jp-layout-color3, #bdbdbd);\n",
       "  --xr-background-color: var(--jp-layout-color0, white);\n",
       "  --xr-background-color-row-even: var(--jp-layout-color1, white);\n",
       "  --xr-background-color-row-odd: var(--jp-layout-color2, #eeeeee);\n",
       "}\n",
       "\n",
       "html[theme=dark],\n",
       "body[data-theme=dark],\n",
       "body.vscode-dark {\n",
       "  --xr-font-color0: rgba(255, 255, 255, 1);\n",
       "  --xr-font-color2: rgba(255, 255, 255, 0.54);\n",
       "  --xr-font-color3: rgba(255, 255, 255, 0.38);\n",
       "  --xr-border-color: #1F1F1F;\n",
       "  --xr-disabled-color: #515151;\n",
       "  --xr-background-color: #111111;\n",
       "  --xr-background-color-row-even: #111111;\n",
       "  --xr-background-color-row-odd: #313131;\n",
       "}\n",
       "\n",
       ".xr-wrap {\n",
       "  display: block !important;\n",
       "  min-width: 300px;\n",
       "  max-width: 700px;\n",
       "}\n",
       "\n",
       ".xr-text-repr-fallback {\n",
       "  /* fallback to plain text repr when CSS is not injected (untrusted notebook) */\n",
       "  display: none;\n",
       "}\n",
       "\n",
       ".xr-header {\n",
       "  padding-top: 6px;\n",
       "  padding-bottom: 6px;\n",
       "  margin-bottom: 4px;\n",
       "  border-bottom: solid 1px var(--xr-border-color);\n",
       "}\n",
       "\n",
       ".xr-header > div,\n",
       ".xr-header > ul {\n",
       "  display: inline;\n",
       "  margin-top: 0;\n",
       "  margin-bottom: 0;\n",
       "}\n",
       "\n",
       ".xr-obj-type,\n",
       ".xr-array-name {\n",
       "  margin-left: 2px;\n",
       "  margin-right: 10px;\n",
       "}\n",
       "\n",
       ".xr-obj-type {\n",
       "  color: var(--xr-font-color2);\n",
       "}\n",
       "\n",
       ".xr-sections {\n",
       "  padding-left: 0 !important;\n",
       "  display: grid;\n",
       "  grid-template-columns: 150px auto auto 1fr 20px 20px;\n",
       "}\n",
       "\n",
       ".xr-section-item {\n",
       "  display: contents;\n",
       "}\n",
       "\n",
       ".xr-section-item input {\n",
       "  display: none;\n",
       "}\n",
       "\n",
       ".xr-section-item input + label {\n",
       "  color: var(--xr-disabled-color);\n",
       "}\n",
       "\n",
       ".xr-section-item input:enabled + label {\n",
       "  cursor: pointer;\n",
       "  color: var(--xr-font-color2);\n",
       "}\n",
       "\n",
       ".xr-section-item input:enabled + label:hover {\n",
       "  color: var(--xr-font-color0);\n",
       "}\n",
       "\n",
       ".xr-section-summary {\n",
       "  grid-column: 1;\n",
       "  color: var(--xr-font-color2);\n",
       "  font-weight: 500;\n",
       "}\n",
       "\n",
       ".xr-section-summary > span {\n",
       "  display: inline-block;\n",
       "  padding-left: 0.5em;\n",
       "}\n",
       "\n",
       ".xr-section-summary-in:disabled + label {\n",
       "  color: var(--xr-font-color2);\n",
       "}\n",
       "\n",
       ".xr-section-summary-in + label:before {\n",
       "  display: inline-block;\n",
       "  content: '►';\n",
       "  font-size: 11px;\n",
       "  width: 15px;\n",
       "  text-align: center;\n",
       "}\n",
       "\n",
       ".xr-section-summary-in:disabled + label:before {\n",
       "  color: var(--xr-disabled-color);\n",
       "}\n",
       "\n",
       ".xr-section-summary-in:checked + label:before {\n",
       "  content: '▼';\n",
       "}\n",
       "\n",
       ".xr-section-summary-in:checked + label > span {\n",
       "  display: none;\n",
       "}\n",
       "\n",
       ".xr-section-summary,\n",
       ".xr-section-inline-details {\n",
       "  padding-top: 4px;\n",
       "  padding-bottom: 4px;\n",
       "}\n",
       "\n",
       ".xr-section-inline-details {\n",
       "  grid-column: 2 / -1;\n",
       "}\n",
       "\n",
       ".xr-section-details {\n",
       "  display: none;\n",
       "  grid-column: 1 / -1;\n",
       "  margin-bottom: 5px;\n",
       "}\n",
       "\n",
       ".xr-section-summary-in:checked ~ .xr-section-details {\n",
       "  display: contents;\n",
       "}\n",
       "\n",
       ".xr-array-wrap {\n",
       "  grid-column: 1 / -1;\n",
       "  display: grid;\n",
       "  grid-template-columns: 20px auto;\n",
       "}\n",
       "\n",
       ".xr-array-wrap > label {\n",
       "  grid-column: 1;\n",
       "  vertical-align: top;\n",
       "}\n",
       "\n",
       ".xr-preview {\n",
       "  color: var(--xr-font-color3);\n",
       "}\n",
       "\n",
       ".xr-array-preview,\n",
       ".xr-array-data {\n",
       "  padding: 0 5px !important;\n",
       "  grid-column: 2;\n",
       "}\n",
       "\n",
       ".xr-array-data,\n",
       ".xr-array-in:checked ~ .xr-array-preview {\n",
       "  display: none;\n",
       "}\n",
       "\n",
       ".xr-array-in:checked ~ .xr-array-data,\n",
       ".xr-array-preview {\n",
       "  display: inline-block;\n",
       "}\n",
       "\n",
       ".xr-dim-list {\n",
       "  display: inline-block !important;\n",
       "  list-style: none;\n",
       "  padding: 0 !important;\n",
       "  margin: 0;\n",
       "}\n",
       "\n",
       ".xr-dim-list li {\n",
       "  display: inline-block;\n",
       "  padding: 0;\n",
       "  margin: 0;\n",
       "}\n",
       "\n",
       ".xr-dim-list:before {\n",
       "  content: '(';\n",
       "}\n",
       "\n",
       ".xr-dim-list:after {\n",
       "  content: ')';\n",
       "}\n",
       "\n",
       ".xr-dim-list li:not(:last-child):after {\n",
       "  content: ',';\n",
       "  padding-right: 5px;\n",
       "}\n",
       "\n",
       ".xr-has-index {\n",
       "  font-weight: bold;\n",
       "}\n",
       "\n",
       ".xr-var-list,\n",
       ".xr-var-item {\n",
       "  display: contents;\n",
       "}\n",
       "\n",
       ".xr-var-item > div,\n",
       ".xr-var-item label,\n",
       ".xr-var-item > .xr-var-name span {\n",
       "  background-color: var(--xr-background-color-row-even);\n",
       "  margin-bottom: 0;\n",
       "}\n",
       "\n",
       ".xr-var-item > .xr-var-name:hover span {\n",
       "  padding-right: 5px;\n",
       "}\n",
       "\n",
       ".xr-var-list > li:nth-child(odd) > div,\n",
       ".xr-var-list > li:nth-child(odd) > label,\n",
       ".xr-var-list > li:nth-child(odd) > .xr-var-name span {\n",
       "  background-color: var(--xr-background-color-row-odd);\n",
       "}\n",
       "\n",
       ".xr-var-name {\n",
       "  grid-column: 1;\n",
       "}\n",
       "\n",
       ".xr-var-dims {\n",
       "  grid-column: 2;\n",
       "}\n",
       "\n",
       ".xr-var-dtype {\n",
       "  grid-column: 3;\n",
       "  text-align: right;\n",
       "  color: var(--xr-font-color2);\n",
       "}\n",
       "\n",
       ".xr-var-preview {\n",
       "  grid-column: 4;\n",
       "}\n",
       "\n",
       ".xr-index-preview {\n",
       "  grid-column: 2 / 5;\n",
       "  color: var(--xr-font-color2);\n",
       "}\n",
       "\n",
       ".xr-var-name,\n",
       ".xr-var-dims,\n",
       ".xr-var-dtype,\n",
       ".xr-preview,\n",
       ".xr-attrs dt {\n",
       "  white-space: nowrap;\n",
       "  overflow: hidden;\n",
       "  text-overflow: ellipsis;\n",
       "  padding-right: 10px;\n",
       "}\n",
       "\n",
       ".xr-var-name:hover,\n",
       ".xr-var-dims:hover,\n",
       ".xr-var-dtype:hover,\n",
       ".xr-attrs dt:hover {\n",
       "  overflow: visible;\n",
       "  width: auto;\n",
       "  z-index: 1;\n",
       "}\n",
       "\n",
       ".xr-var-attrs,\n",
       ".xr-var-data,\n",
       ".xr-index-data {\n",
       "  display: none;\n",
       "  background-color: var(--xr-background-color) !important;\n",
       "  padding-bottom: 5px !important;\n",
       "}\n",
       "\n",
       ".xr-var-attrs-in:checked ~ .xr-var-attrs,\n",
       ".xr-var-data-in:checked ~ .xr-var-data,\n",
       ".xr-index-data-in:checked ~ .xr-index-data {\n",
       "  display: block;\n",
       "}\n",
       "\n",
       ".xr-var-data > table {\n",
       "  float: right;\n",
       "}\n",
       "\n",
       ".xr-var-name span,\n",
       ".xr-var-data,\n",
       ".xr-index-name div,\n",
       ".xr-index-data,\n",
       ".xr-attrs {\n",
       "  padding-left: 25px !important;\n",
       "}\n",
       "\n",
       ".xr-attrs,\n",
       ".xr-var-attrs,\n",
       ".xr-var-data,\n",
       ".xr-index-data {\n",
       "  grid-column: 1 / -1;\n",
       "}\n",
       "\n",
       "dl.xr-attrs {\n",
       "  padding: 0;\n",
       "  margin: 0;\n",
       "  display: grid;\n",
       "  grid-template-columns: 125px auto;\n",
       "}\n",
       "\n",
       ".xr-attrs dt,\n",
       ".xr-attrs dd {\n",
       "  padding: 0;\n",
       "  margin: 0;\n",
       "  float: left;\n",
       "  padding-right: 10px;\n",
       "  width: auto;\n",
       "}\n",
       "\n",
       ".xr-attrs dt {\n",
       "  font-weight: normal;\n",
       "  grid-column: 1;\n",
       "}\n",
       "\n",
       ".xr-attrs dt:hover span {\n",
       "  display: inline-block;\n",
       "  background: var(--xr-background-color);\n",
       "  padding-right: 10px;\n",
       "}\n",
       "\n",
       ".xr-attrs dd {\n",
       "  grid-column: 2;\n",
       "  white-space: pre-wrap;\n",
       "  word-break: break-all;\n",
       "}\n",
       "\n",
       ".xr-icon-database,\n",
       ".xr-icon-file-text2,\n",
       ".xr-no-icon {\n",
       "  display: inline-block;\n",
       "  vertical-align: middle;\n",
       "  width: 1em;\n",
       "  height: 1.5em !important;\n",
       "  stroke-width: 0;\n",
       "  stroke: currentColor;\n",
       "  fill: currentColor;\n",
       "}\n",
       "</style><pre class='xr-text-repr-fallback'>&lt;xarray.Dataset&gt;\n",
       "Dimensions:     (step: 4, latitude: 640, longitude: 924)\n",
       "Coordinates:\n",
       "    time        datetime64[ns] 2019-01-01\n",
       "  * step        (step) timedelta64[ns] 06:00:00 12:00:00 ... 1 days 00:00:00\n",
       "    surface     float64 0.0\n",
       "  * latitude    (latitude) float64 74.97 74.9 74.83 74.76 ... 30.19 30.12 30.05\n",
       "  * longitude   (longitude) float64 -24.96 -24.89 -24.82 ... 39.8 39.87 39.94\n",
       "    valid_time  (step) datetime64[ns] dask.array&lt;chunksize=(4,), meta=np.ndarray&gt;\n",
       "Data variables:\n",
       "    u10         (step, latitude, longitude) float32 dask.array&lt;chunksize=(4, 640, 924), meta=np.ndarray&gt;\n",
       "Attributes:\n",
       "    GRIB_edition:            1\n",
       "    GRIB_centre:             ecmf\n",
       "    GRIB_centreDescription:  European Centre for Medium-Range Weather Forecasts\n",
       "    GRIB_subCentre:          0\n",
       "    Conventions:             CF-1.7\n",
       "    institution:             European Centre for Medium-Range Weather Forecasts</pre><div class='xr-wrap' style='display:none'><div class='xr-header'><div class='xr-obj-type'>xarray.Dataset</div></div><ul class='xr-sections'><li class='xr-section-item'><input id='section-7c6d9526-3fa3-4ff9-b4cb-247a03b658e8' class='xr-section-summary-in' type='checkbox' disabled ><label for='section-7c6d9526-3fa3-4ff9-b4cb-247a03b658e8' class='xr-section-summary'  title='Expand/collapse section'>Dimensions:</label><div class='xr-section-inline-details'><ul class='xr-dim-list'><li><span class='xr-has-index'>step</span>: 4</li><li><span class='xr-has-index'>latitude</span>: 640</li><li><span class='xr-has-index'>longitude</span>: 924</li></ul></div><div class='xr-section-details'></div></li><li class='xr-section-item'><input id='section-c1c991bd-b9ad-4b53-9839-51a84659e1fe' class='xr-section-summary-in' type='checkbox'  checked><label for='section-c1c991bd-b9ad-4b53-9839-51a84659e1fe' class='xr-section-summary' >Coordinates: <span>(6)</span></label><div class='xr-section-inline-details'></div><div class='xr-section-details'><ul class='xr-var-list'><li class='xr-var-item'><div class='xr-var-name'><span>time</span></div><div class='xr-var-dims'>()</div><div class='xr-var-dtype'>datetime64[ns]</div><div class='xr-var-preview xr-preview'>2019-01-01</div><input id='attrs-1af99acd-0875-46e0-93c0-12f373adf503' class='xr-var-attrs-in' type='checkbox' ><label for='attrs-1af99acd-0875-46e0-93c0-12f373adf503' title='Show/Hide attributes'><svg class='icon xr-icon-file-text2'><use xlink:href='#icon-file-text2'></use></svg></label><input id='data-7fa70fc6-2c2d-430b-bdb2-d711d5223c8c' class='xr-var-data-in' type='checkbox'><label for='data-7fa70fc6-2c2d-430b-bdb2-d711d5223c8c' title='Show/Hide data repr'><svg class='icon xr-icon-database'><use xlink:href='#icon-database'></use></svg></label><div class='xr-var-attrs'><dl class='xr-attrs'><dt><span>long_name :</span></dt><dd>initial time of forecast</dd><dt><span>standard_name :</span></dt><dd>forecast_reference_time</dd></dl></div><div class='xr-var-data'><pre>array(&#x27;2019-01-01T00:00:00.000000000&#x27;, dtype=&#x27;datetime64[ns]&#x27;)</pre></div></li><li class='xr-var-item'><div class='xr-var-name'><span class='xr-has-index'>step</span></div><div class='xr-var-dims'>(step)</div><div class='xr-var-dtype'>timedelta64[ns]</div><div class='xr-var-preview xr-preview'>06:00:00 ... 1 days 00:00:00</div><input id='attrs-2bb3b7a5-3b8d-41ae-830c-3b9e0444774b' class='xr-var-attrs-in' type='checkbox' ><label for='attrs-2bb3b7a5-3b8d-41ae-830c-3b9e0444774b' title='Show/Hide attributes'><svg class='icon xr-icon-file-text2'><use xlink:href='#icon-file-text2'></use></svg></label><input id='data-eeec4389-2e76-4120-95a1-e761c7049806' class='xr-var-data-in' type='checkbox'><label for='data-eeec4389-2e76-4120-95a1-e761c7049806' title='Show/Hide data repr'><svg class='icon xr-icon-database'><use xlink:href='#icon-database'></use></svg></label><div class='xr-var-attrs'><dl class='xr-attrs'><dt><span>long_name :</span></dt><dd>time since forecast_reference_time</dd><dt><span>standard_name :</span></dt><dd>forecast_period</dd></dl></div><div class='xr-var-data'><pre>array([21600000000000, 43200000000000, 64800000000000, 86400000000000],\n",
       "      dtype=&#x27;timedelta64[ns]&#x27;)</pre></div></li><li class='xr-var-item'><div class='xr-var-name'><span>surface</span></div><div class='xr-var-dims'>()</div><div class='xr-var-dtype'>float64</div><div class='xr-var-preview xr-preview'>0.0</div><input id='attrs-70357469-abf8-4388-8cd9-73f24eae5635' class='xr-var-attrs-in' type='checkbox' ><label for='attrs-70357469-abf8-4388-8cd9-73f24eae5635' title='Show/Hide attributes'><svg class='icon xr-icon-file-text2'><use xlink:href='#icon-file-text2'></use></svg></label><input id='data-c551ebe2-faba-4126-9792-ea75d9ae9683' class='xr-var-data-in' type='checkbox'><label for='data-c551ebe2-faba-4126-9792-ea75d9ae9683' title='Show/Hide data repr'><svg class='icon xr-icon-database'><use xlink:href='#icon-database'></use></svg></label><div class='xr-var-attrs'><dl class='xr-attrs'><dt><span>long_name :</span></dt><dd>original GRIB coordinate for key: level(surface)</dd><dt><span>units :</span></dt><dd>1</dd></dl></div><div class='xr-var-data'><pre>array(0.)</pre></div></li><li class='xr-var-item'><div class='xr-var-name'><span class='xr-has-index'>latitude</span></div><div class='xr-var-dims'>(latitude)</div><div class='xr-var-dtype'>float64</div><div class='xr-var-preview xr-preview'>74.97 74.9 74.83 ... 30.12 30.05</div><input id='attrs-ee7ab62f-55ac-4c20-85ce-1839f4cfa5c2' class='xr-var-attrs-in' type='checkbox' ><label for='attrs-ee7ab62f-55ac-4c20-85ce-1839f4cfa5c2' title='Show/Hide attributes'><svg class='icon xr-icon-file-text2'><use xlink:href='#icon-file-text2'></use></svg></label><input id='data-25f5392e-45e1-42d6-a2ed-1a0b33a3563b' class='xr-var-data-in' type='checkbox'><label for='data-25f5392e-45e1-42d6-a2ed-1a0b33a3563b' title='Show/Hide data repr'><svg class='icon xr-icon-database'><use xlink:href='#icon-database'></use></svg></label><div class='xr-var-attrs'><dl class='xr-attrs'><dt><span>units :</span></dt><dd>degrees_north</dd><dt><span>standard_name :</span></dt><dd>latitude</dd><dt><span>long_name :</span></dt><dd>latitude</dd><dt><span>stored_direction :</span></dt><dd>decreasing</dd></dl></div><div class='xr-var-data'><pre>array([74.973634, 74.903335, 74.833036, ..., 30.193321, 30.123022, 30.052723])</pre></div></li><li class='xr-var-item'><div class='xr-var-name'><span class='xr-has-index'>longitude</span></div><div class='xr-var-dims'>(longitude)</div><div class='xr-var-dtype'>float64</div><div class='xr-var-preview xr-preview'>-24.96 -24.89 ... 39.87 39.94</div><input id='attrs-a62cc790-e93d-4cf2-b3e8-41c26b7566c9' class='xr-var-attrs-in' type='checkbox' ><label for='attrs-a62cc790-e93d-4cf2-b3e8-41c26b7566c9' title='Show/Hide attributes'><svg class='icon xr-icon-file-text2'><use xlink:href='#icon-file-text2'></use></svg></label><input id='data-edf5505c-9761-41bd-9672-57ef5e7af813' class='xr-var-data-in' type='checkbox'><label for='data-edf5505c-9761-41bd-9672-57ef5e7af813' title='Show/Hide data repr'><svg class='icon xr-icon-database'><use xlink:href='#icon-database'></use></svg></label><div class='xr-var-attrs'><dl class='xr-attrs'><dt><span>units :</span></dt><dd>degrees_east</dd><dt><span>standard_name :</span></dt><dd>longitude</dd><dt><span>long_name :</span></dt><dd>longitude</dd></dl></div><div class='xr-var-data'><pre>array([-24.961   , -24.890687, -24.820374, ...,  39.797374,  39.867687,\n",
       "        39.938   ])</pre></div></li><li class='xr-var-item'><div class='xr-var-name'><span>valid_time</span></div><div class='xr-var-dims'>(step)</div><div class='xr-var-dtype'>datetime64[ns]</div><div class='xr-var-preview xr-preview'>dask.array&lt;chunksize=(4,), meta=np.ndarray&gt;</div><input id='attrs-99e5484f-6d64-4185-a065-45f3076ac94b' class='xr-var-attrs-in' type='checkbox' ><label for='attrs-99e5484f-6d64-4185-a065-45f3076ac94b' title='Show/Hide attributes'><svg class='icon xr-icon-file-text2'><use xlink:href='#icon-file-text2'></use></svg></label><input id='data-571a929a-651c-4f53-906f-c950a984518d' class='xr-var-data-in' type='checkbox'><label for='data-571a929a-651c-4f53-906f-c950a984518d' title='Show/Hide data repr'><svg class='icon xr-icon-database'><use xlink:href='#icon-database'></use></svg></label><div class='xr-var-attrs'><dl class='xr-attrs'><dt><span>standard_name :</span></dt><dd>time</dd><dt><span>long_name :</span></dt><dd>time</dd></dl></div><div class='xr-var-data'><table>\n",
       "    <tr>\n",
       "        <td>\n",
       "            <table style=\"border-collapse: collapse;\">\n",
       "                <thead>\n",
       "                    <tr>\n",
       "                        <td> </td>\n",
       "                        <th> Array </th>\n",
       "                        <th> Chunk </th>\n",
       "                    </tr>\n",
       "                </thead>\n",
       "                <tbody>\n",
       "                    \n",
       "                    <tr>\n",
       "                        <th> Bytes </th>\n",
       "                        <td> 32 B </td>\n",
       "                        <td> 32 B </td>\n",
       "                    </tr>\n",
       "                    \n",
       "                    <tr>\n",
       "                        <th> Shape </th>\n",
       "                        <td> (4,) </td>\n",
       "                        <td> (4,) </td>\n",
       "                    </tr>\n",
       "                    <tr>\n",
       "                        <th> Dask graph </th>\n",
       "                        <td colspan=\"2\"> 1 chunks in 3 graph layers </td>\n",
       "                    </tr>\n",
       "                    <tr>\n",
       "                        <th> Data type </th>\n",
       "                        <td colspan=\"2\"> datetime64[ns] numpy.ndarray </td>\n",
       "                    </tr>\n",
       "                </tbody>\n",
       "            </table>\n",
       "        </td>\n",
       "        <td>\n",
       "        <svg width=\"170\" height=\"92\" style=\"stroke:rgb(0,0,0);stroke-width:1\" >\n",
       "\n",
       "  <!-- Horizontal lines -->\n",
       "  <line x1=\"0\" y1=\"0\" x2=\"120\" y2=\"0\" style=\"stroke-width:2\" />\n",
       "  <line x1=\"0\" y1=\"42\" x2=\"120\" y2=\"42\" style=\"stroke-width:2\" />\n",
       "\n",
       "  <!-- Vertical lines -->\n",
       "  <line x1=\"0\" y1=\"0\" x2=\"0\" y2=\"42\" style=\"stroke-width:2\" />\n",
       "  <line x1=\"120\" y1=\"0\" x2=\"120\" y2=\"42\" style=\"stroke-width:2\" />\n",
       "\n",
       "  <!-- Colored Rectangle -->\n",
       "  <polygon points=\"0.0,0.0 120.0,0.0 120.0,42.89879552186203 0.0,42.89879552186203\" style=\"fill:#ECB172A0;stroke-width:0\"/>\n",
       "\n",
       "  <!-- Text -->\n",
       "  <text x=\"60.000000\" y=\"62.898796\" font-size=\"1.0rem\" font-weight=\"100\" text-anchor=\"middle\" >4</text>\n",
       "  <text x=\"140.000000\" y=\"21.449398\" font-size=\"1.0rem\" font-weight=\"100\" text-anchor=\"middle\" transform=\"rotate(0,140.000000,21.449398)\">1</text>\n",
       "</svg>\n",
       "        </td>\n",
       "    </tr>\n",
       "</table></div></li></ul></div></li><li class='xr-section-item'><input id='section-38047765-29d6-4ef7-9af4-b1902fd489d3' class='xr-section-summary-in' type='checkbox'  checked><label for='section-38047765-29d6-4ef7-9af4-b1902fd489d3' class='xr-section-summary' >Data variables: <span>(1)</span></label><div class='xr-section-inline-details'></div><div class='xr-section-details'><ul class='xr-var-list'><li class='xr-var-item'><div class='xr-var-name'><span>u10</span></div><div class='xr-var-dims'>(step, latitude, longitude)</div><div class='xr-var-dtype'>float32</div><div class='xr-var-preview xr-preview'>dask.array&lt;chunksize=(4, 640, 924), meta=np.ndarray&gt;</div><input id='attrs-33404fcb-782b-47f9-b019-271e0f4f047f' class='xr-var-attrs-in' type='checkbox' ><label for='attrs-33404fcb-782b-47f9-b019-271e0f4f047f' title='Show/Hide attributes'><svg class='icon xr-icon-file-text2'><use xlink:href='#icon-file-text2'></use></svg></label><input id='data-c895adf3-e62a-4be6-94f3-9d5325796da6' class='xr-var-data-in' type='checkbox'><label for='data-c895adf3-e62a-4be6-94f3-9d5325796da6' title='Show/Hide data repr'><svg class='icon xr-icon-database'><use xlink:href='#icon-database'></use></svg></label><div class='xr-var-attrs'><dl class='xr-attrs'><dt><span>GRIB_paramId :</span></dt><dd>165</dd><dt><span>GRIB_numberOfPoints :</span></dt><dd>591360</dd><dt><span>GRIB_typeOfLevel :</span></dt><dd>surface</dd><dt><span>GRIB_stepUnits :</span></dt><dd>1</dd><dt><span>GRIB_stepType :</span></dt><dd>instant</dd><dt><span>GRIB_gridType :</span></dt><dd>regular_gg</dd><dt><span>GRIB_N :</span></dt><dd>1280</dd><dt><span>GRIB_NV :</span></dt><dd>0</dd><dt><span>GRIB_Ni :</span></dt><dd>924</dd><dt><span>GRIB_Nj :</span></dt><dd>640</dd><dt><span>GRIB_cfName :</span></dt><dd>unknown</dd><dt><span>GRIB_cfVarName :</span></dt><dd>u10</dd><dt><span>GRIB_gridDefinitionDescription :</span></dt><dd>Gaussian Latitude/Longitude Grid</dd><dt><span>GRIB_iDirectionIncrementInDegrees :</span></dt><dd>0.07</dd><dt><span>GRIB_iScansNegatively :</span></dt><dd>0</dd><dt><span>GRIB_jPointsAreConsecutive :</span></dt><dd>0</dd><dt><span>GRIB_jScansPositively :</span></dt><dd>0</dd><dt><span>GRIB_latitudeOfFirstGridPointInDegrees :</span></dt><dd>74.974</dd><dt><span>GRIB_latitudeOfLastGridPointInDegrees :</span></dt><dd>30.053</dd><dt><span>GRIB_longitudeOfFirstGridPointInDegrees :</span></dt><dd>-24.961</dd><dt><span>GRIB_longitudeOfLastGridPointInDegrees :</span></dt><dd>39.938</dd><dt><span>GRIB_missingValue :</span></dt><dd>3.4028234663852886e+38</dd><dt><span>GRIB_name :</span></dt><dd>10 metre U wind component</dd><dt><span>GRIB_shortName :</span></dt><dd>10u</dd><dt><span>GRIB_units :</span></dt><dd>m s**-1</dd><dt><span>long_name :</span></dt><dd>10 metre U wind component</dd><dt><span>units :</span></dt><dd>m s**-1</dd><dt><span>standard_name :</span></dt><dd>unknown</dd></dl></div><div class='xr-var-data'><table>\n",
       "    <tr>\n",
       "        <td>\n",
       "            <table style=\"border-collapse: collapse;\">\n",
       "                <thead>\n",
       "                    <tr>\n",
       "                        <td> </td>\n",
       "                        <th> Array </th>\n",
       "                        <th> Chunk </th>\n",
       "                    </tr>\n",
       "                </thead>\n",
       "                <tbody>\n",
       "                    \n",
       "                    <tr>\n",
       "                        <th> Bytes </th>\n",
       "                        <td> 9.02 MiB </td>\n",
       "                        <td> 9.02 MiB </td>\n",
       "                    </tr>\n",
       "                    \n",
       "                    <tr>\n",
       "                        <th> Shape </th>\n",
       "                        <td> (4, 640, 924) </td>\n",
       "                        <td> (4, 640, 924) </td>\n",
       "                    </tr>\n",
       "                    <tr>\n",
       "                        <th> Dask graph </th>\n",
       "                        <td colspan=\"2\"> 1 chunks in 3 graph layers </td>\n",
       "                    </tr>\n",
       "                    <tr>\n",
       "                        <th> Data type </th>\n",
       "                        <td colspan=\"2\"> float32 numpy.ndarray </td>\n",
       "                    </tr>\n",
       "                </tbody>\n",
       "            </table>\n",
       "        </td>\n",
       "        <td>\n",
       "        <svg width=\"194\" height=\"148\" style=\"stroke:rgb(0,0,0);stroke-width:1\" >\n",
       "\n",
       "  <!-- Horizontal lines -->\n",
       "  <line x1=\"10\" y1=\"0\" x2=\"24\" y2=\"14\" style=\"stroke-width:2\" />\n",
       "  <line x1=\"10\" y1=\"83\" x2=\"24\" y2=\"98\" style=\"stroke-width:2\" />\n",
       "\n",
       "  <!-- Vertical lines -->\n",
       "  <line x1=\"10\" y1=\"0\" x2=\"10\" y2=\"83\" style=\"stroke-width:2\" />\n",
       "  <line x1=\"24\" y1=\"14\" x2=\"24\" y2=\"98\" style=\"stroke-width:2\" />\n",
       "\n",
       "  <!-- Colored Rectangle -->\n",
       "  <polygon points=\"10.0,0.0 24.9485979497544,14.948597949754403 24.9485979497544,98.06548106663752 10.0,83.11688311688312\" style=\"fill:#ECB172A0;stroke-width:0\"/>\n",
       "\n",
       "  <!-- Horizontal lines -->\n",
       "  <line x1=\"10\" y1=\"0\" x2=\"130\" y2=\"0\" style=\"stroke-width:2\" />\n",
       "  <line x1=\"24\" y1=\"14\" x2=\"144\" y2=\"14\" style=\"stroke-width:2\" />\n",
       "\n",
       "  <!-- Vertical lines -->\n",
       "  <line x1=\"10\" y1=\"0\" x2=\"24\" y2=\"14\" style=\"stroke-width:2\" />\n",
       "  <line x1=\"130\" y1=\"0\" x2=\"144\" y2=\"14\" style=\"stroke-width:2\" />\n",
       "\n",
       "  <!-- Colored Rectangle -->\n",
       "  <polygon points=\"10.0,0.0 130.0,0.0 144.9485979497544,14.948597949754403 24.9485979497544,14.948597949754403\" style=\"fill:#ECB172A0;stroke-width:0\"/>\n",
       "\n",
       "  <!-- Horizontal lines -->\n",
       "  <line x1=\"24\" y1=\"14\" x2=\"144\" y2=\"14\" style=\"stroke-width:2\" />\n",
       "  <line x1=\"24\" y1=\"98\" x2=\"144\" y2=\"98\" style=\"stroke-width:2\" />\n",
       "\n",
       "  <!-- Vertical lines -->\n",
       "  <line x1=\"24\" y1=\"14\" x2=\"24\" y2=\"98\" style=\"stroke-width:2\" />\n",
       "  <line x1=\"144\" y1=\"14\" x2=\"144\" y2=\"98\" style=\"stroke-width:2\" />\n",
       "\n",
       "  <!-- Colored Rectangle -->\n",
       "  <polygon points=\"24.9485979497544,14.948597949754403 144.9485979497544,14.948597949754403 144.9485979497544,98.06548106663752 24.9485979497544,98.06548106663752\" style=\"fill:#ECB172A0;stroke-width:0\"/>\n",
       "\n",
       "  <!-- Text -->\n",
       "  <text x=\"84.948598\" y=\"118.065481\" font-size=\"1.0rem\" font-weight=\"100\" text-anchor=\"middle\" >924</text>\n",
       "  <text x=\"164.948598\" y=\"56.507040\" font-size=\"1.0rem\" font-weight=\"100\" text-anchor=\"middle\" transform=\"rotate(-90,164.948598,56.507040)\">640</text>\n",
       "  <text x=\"7.474299\" y=\"110.591182\" font-size=\"1.0rem\" font-weight=\"100\" text-anchor=\"middle\" transform=\"rotate(45,7.474299,110.591182)\">4</text>\n",
       "</svg>\n",
       "        </td>\n",
       "    </tr>\n",
       "</table></div></li></ul></div></li><li class='xr-section-item'><input id='section-84023aff-8936-4365-bb24-cd142c707eb9' class='xr-section-summary-in' type='checkbox'  ><label for='section-84023aff-8936-4365-bb24-cd142c707eb9' class='xr-section-summary' >Indexes: <span>(3)</span></label><div class='xr-section-inline-details'></div><div class='xr-section-details'><ul class='xr-var-list'><li class='xr-var-item'><div class='xr-index-name'><div>step</div></div><div class='xr-index-preview'>PandasIndex</div><div></div><input id='index-7566d5e5-86f6-4ae7-b055-110576dff400' class='xr-index-data-in' type='checkbox'/><label for='index-7566d5e5-86f6-4ae7-b055-110576dff400' title='Show/Hide index repr'><svg class='icon xr-icon-database'><use xlink:href='#icon-database'></use></svg></label><div class='xr-index-data'><pre>PandasIndex(TimedeltaIndex([&#x27;0 days 06:00:00&#x27;, &#x27;0 days 12:00:00&#x27;, &#x27;0 days 18:00:00&#x27;,\n",
       "                &#x27;1 days 00:00:00&#x27;],\n",
       "               dtype=&#x27;timedelta64[ns]&#x27;, name=&#x27;step&#x27;, freq=None))</pre></div></li><li class='xr-var-item'><div class='xr-index-name'><div>latitude</div></div><div class='xr-index-preview'>PandasIndex</div><div></div><input id='index-10c7373d-c2aa-443f-ad44-43aacb83acca' class='xr-index-data-in' type='checkbox'/><label for='index-10c7373d-c2aa-443f-ad44-43aacb83acca' title='Show/Hide index repr'><svg class='icon xr-icon-database'><use xlink:href='#icon-database'></use></svg></label><div class='xr-index-data'><pre>PandasIndex(Index([ 74.97363389192662,  74.90333514200432,  74.83303639190227,\n",
       "        74.76273764162299,  74.69243889116888,  74.62214014054236,\n",
       "        74.55184138974576,  74.48154263878143,  74.41124388765162,\n",
       "        74.34094513635858,\n",
       "       ...\n",
       "       30.685412357026873, 30.615113589066322, 30.544814821103138,\n",
       "        30.47451605313735, 30.404217285168947, 30.333918517197947,\n",
       "        30.26361974922437,  30.19332098124822,  30.12302221326951,\n",
       "       30.052723445288244],\n",
       "      dtype=&#x27;float64&#x27;, name=&#x27;latitude&#x27;, length=640))</pre></div></li><li class='xr-var-item'><div class='xr-index-name'><div>longitude</div></div><div class='xr-index-preview'>PandasIndex</div><div></div><input id='index-f2dd7364-467c-4f2a-85e2-d960cacde514' class='xr-index-data-in' type='checkbox'/><label for='index-f2dd7364-467c-4f2a-85e2-d960cacde514' title='Show/Hide index repr'><svg class='icon xr-icon-database'><use xlink:href='#icon-database'></use></svg></label><div class='xr-index-data'><pre>PandasIndex(Index([            -24.961, -24.890686890574212, -24.820373781148426,\n",
       "        -24.75006067172264, -24.679747562296853, -24.609434452871067,\n",
       "        -24.53912134344528, -24.468808234019495,  -24.39849512459371,\n",
       "       -24.328182015167922,\n",
       "       ...\n",
       "         39.30518201516809,  39.375495124593876,   39.44580823401966,\n",
       "         39.51612134344544,  39.586434452871224,   39.65674756229701,\n",
       "         39.72706067172279,   39.79737378114857,  39.867686890574355,\n",
       "                    39.938],\n",
       "      dtype=&#x27;float64&#x27;, name=&#x27;longitude&#x27;, length=924))</pre></div></li></ul></div></li><li class='xr-section-item'><input id='section-11336f4c-b888-4a2c-96e2-e13d655aedcb' class='xr-section-summary-in' type='checkbox'  checked><label for='section-11336f4c-b888-4a2c-96e2-e13d655aedcb' class='xr-section-summary' >Attributes: <span>(6)</span></label><div class='xr-section-inline-details'></div><div class='xr-section-details'><dl class='xr-attrs'><dt><span>GRIB_edition :</span></dt><dd>1</dd><dt><span>GRIB_centre :</span></dt><dd>ecmf</dd><dt><span>GRIB_centreDescription :</span></dt><dd>European Centre for Medium-Range Weather Forecasts</dd><dt><span>GRIB_subCentre :</span></dt><dd>0</dd><dt><span>Conventions :</span></dt><dd>CF-1.7</dd><dt><span>institution :</span></dt><dd>European Centre for Medium-Range Weather Forecasts</dd></dl></div></li></ul></div></div>"
      ],
      "text/plain": [
       "<xarray.Dataset>\n",
       "Dimensions:     (step: 4, latitude: 640, longitude: 924)\n",
       "Coordinates:\n",
       "    time        datetime64[ns] 2019-01-01\n",
       "  * step        (step) timedelta64[ns] 06:00:00 12:00:00 ... 1 days 00:00:00\n",
       "    surface     float64 0.0\n",
       "  * latitude    (latitude) float64 74.97 74.9 74.83 74.76 ... 30.19 30.12 30.05\n",
       "  * longitude   (longitude) float64 -24.96 -24.89 -24.82 ... 39.8 39.87 39.94\n",
       "    valid_time  (step) datetime64[ns] dask.array<chunksize=(4,), meta=np.ndarray>\n",
       "Data variables:\n",
       "    u10         (step, latitude, longitude) float32 dask.array<chunksize=(4, 640, 924), meta=np.ndarray>\n",
       "Attributes:\n",
       "    GRIB_edition:            1\n",
       "    GRIB_centre:             ecmf\n",
       "    GRIB_centreDescription:  European Centre for Medium-Range Weather Forecasts\n",
       "    GRIB_subCentre:          0\n",
       "    Conventions:             CF-1.7\n",
       "    institution:             European Centre for Medium-Range Weather Forecasts"
      ]
     },
     "execution_count": 18,
     "metadata": {},
     "output_type": "execute_result"
    }
   ],
   "source": [
    "ddd[0]"
   ]
  },
  {
   "cell_type": "code",
   "execution_count": null,
   "metadata": {},
   "outputs": [],
   "source": []
  },
  {
   "cell_type": "code",
   "execution_count": null,
   "metadata": {},
   "outputs": [],
   "source": []
  },
  {
   "cell_type": "code",
   "execution_count": null,
   "metadata": {},
   "outputs": [],
   "source": []
  },
  {
   "cell_type": "code",
   "execution_count": null,
   "metadata": {},
   "outputs": [],
   "source": [
    "const"
   ]
  },
  {
   "cell_type": "code",
   "execution_count": null,
   "metadata": {},
   "outputs": [],
   "source": [
    "from weather_weaver.models.geo import GeoFilterModel, BoundingBox\n",
    "from weather_weaver.constants import ENTSO_E_ISO3_LIST"
   ]
  },
  {
   "cell_type": "code",
   "execution_count": null,
   "metadata": {},
   "outputs": [],
   "source": [
    "filter_model = GeoFilterModel.filter_iso3s(ENTSO_E_ISO3_LIST)"
   ]
  },
  {
   "cell_type": "code",
   "execution_count": null,
   "metadata": {},
   "outputs": [],
   "source": [
    "filter_model.bounds"
   ]
  },
  {
   "cell_type": "code",
   "execution_count": null,
   "metadata": {},
   "outputs": [],
   "source": []
  },
  {
   "cell_type": "code",
   "execution_count": null,
   "metadata": {},
   "outputs": [],
   "source": []
  },
  {
   "cell_type": "code",
   "execution_count": null,
   "metadata": {},
   "outputs": [],
   "source": [
    "import dask_geopandas as dask_gpd\n",
    "import geopandas as gpd\n",
    "import pandas as pd"
   ]
  },
  {
   "cell_type": "code",
   "execution_count": null,
   "metadata": {},
   "outputs": [],
   "source": [
    "df = pd.DataFrame({'longitude': [-140, 0, 123], 'latitude': [-65, 1, 48]}) "
   ]
  },
  {
   "cell_type": "code",
   "execution_count": null,
   "metadata": {},
   "outputs": [],
   "source": [
    "ddf = dask_gpd.from_geopandas(df, npartitions=1)\n",
    "geometry = dask_gpd.points_from_xy(ddf.longitude, ddf.latitude, crs=\"EPSG:4326\")\n",
    "ddf = dask_gpd.from_dask_dataframe(ddf, geometry=geometry)"
   ]
  },
  {
   "cell_type": "code",
   "execution_count": null,
   "metadata": {},
   "outputs": [],
   "source": [
    "ddf.crs = 'EPSG:4326'"
   ]
  },
  {
   "cell_type": "code",
   "execution_count": null,
   "metadata": {},
   "outputs": [],
   "source": [
    "ddf.crs"
   ]
  },
  {
   "cell_type": "markdown",
   "metadata": {},
   "source": [
    "# Kill dask clusters"
   ]
  },
  {
   "cell_type": "code",
   "execution_count": null,
   "metadata": {},
   "outputs": [],
   "source": [
    "from distributed.client import _global_clients"
   ]
  },
  {
   "cell_type": "code",
   "execution_count": null,
   "metadata": {},
   "outputs": [],
   "source": [
    "for k, v in _global_clients.items():\n",
    "    print(k, v)"
   ]
  },
  {
   "cell_type": "code",
   "execution_count": null,
   "metadata": {},
   "outputs": [],
   "source": [
    "# _global_clients[0].cluster.close()"
   ]
  },
  {
   "cell_type": "markdown",
   "metadata": {},
   "source": [
    "# Explore processed results"
   ]
  },
  {
   "cell_type": "code",
   "execution_count": null,
   "metadata": {},
   "outputs": [],
   "source": [
    "import pandas as pd\n",
    "import dask.dataframe as dd\n",
    "from pathlib import Path\n",
    "import plotly.express as px"
   ]
  },
  {
   "cell_type": "code",
   "execution_count": null,
   "metadata": {},
   "outputs": [],
   "source": [
    "files = Path(\"../data/ecmwf/processed/oper/\").glob(\"*/*.parquet\")\n",
    "ddf = dd.read_parquet(list(files))"
   ]
  },
  {
   "cell_type": "code",
   "execution_count": null,
   "metadata": {},
   "outputs": [],
   "source": [
    "df_tmp = ddf.groupby([\"run_time\", \"timestamp\", \"country_name\"]).agg({\"t2m\": \"mean\"}).compute()\n",
    "df_tmp.reset_index(inplace=True)"
   ]
  },
  {
   "cell_type": "code",
   "execution_count": null,
   "metadata": {},
   "outputs": [],
   "source": [
    "df_plot = df_tmp.query(\"country_name in ['Norway', 'France']\")\n",
    "fig = px.line(df_plot, x=\"timestamp\", y=\"t2m\", color=\"run_time\", facet_row=\"country_name\")\n",
    "fig.show()"
   ]
  },
  {
   "cell_type": "code",
   "execution_count": null,
   "metadata": {},
   "outputs": [],
   "source": []
  },
  {
   "cell_type": "markdown",
   "metadata": {},
   "source": [
    "# Using service"
   ]
  },
  {
   "cell_type": "code",
   "execution_count": null,
   "metadata": {},
   "outputs": [],
   "source": [
    "import datetime as dt\n",
    "from weather_weaver.services.service import WeatherConsumerService\n",
    "\n",
    "from weather_weaver.outputs.localfs.client import LocalClient\n",
    "from weather_weaver.inputs.ecmwf import constants as ecmwf_constants\n",
    "from weather_weaver.inputs.ecmwf.open_data.fetcher import ECMWFOpenDataFetcher\n",
    "from weather_weaver.inputs.ecmwf.open_data.request import ECMWFOpenDataRequestBuilder\n",
    "from weather_weaver.inputs.ecmwf.processor import EMCWFProcessor"
   ]
  },
  {
   "cell_type": "code",
   "execution_count": null,
   "metadata": {},
   "outputs": [],
   "source": [
    "fetcher = ECMWFOpenDataFetcher()\n",
    "request_builder = ECMWFOpenDataRequestBuilder()\n",
    "processor = EMCWFProcessor()\n",
    "storer = LocalClient()"
   ]
  },
  {
   "cell_type": "code",
   "execution_count": null,
   "metadata": {},
   "outputs": [],
   "source": [
    "service = WeatherConsumerService(\n",
    "    request_builder=request_builder,\n",
    "    raw_dir=ecmwf_constants.RAW_DIR,\n",
    "    processed_dir=ecmwf_constants.PROCESSED_DIR,\n",
    "    fetcher=fetcher,\n",
    "    processor=processor,\n",
    "    storer=storer,\n",
    ")"
   ]
  },
  {
   "cell_type": "code",
   "execution_count": null,
   "metadata": {},
   "outputs": [],
   "source": [
    "start = dt.date(2024, 1, 4)\n",
    "date_offset = 1"
   ]
  },
  {
   "cell_type": "code",
   "execution_count": null,
   "metadata": {},
   "outputs": [],
   "source": [
    "all_requests = service._build_default_requests(start=start, date_offset=date_offset)\n",
    "\n",
    "# check the ones already processed\n",
    "all_new_requests = [\n",
    "    t for t in all_requests if not service.storer.exists(path=service.processed_dir / t.file_name)\n",
    "]\n",
    "\n",
    "pipeline = (\n",
    "    service._build_dask_pipeline(all_new_requests) if len(all_new_requests) > 0 else None\n",
    ")"
   ]
  },
  {
   "cell_type": "code",
   "execution_count": null,
   "metadata": {},
   "outputs": [],
   "source": [
    "pipeline.visualize()"
   ]
  },
  {
   "cell_type": "code",
   "execution_count": null,
   "metadata": {},
   "outputs": [],
   "source": [
    "processed_files = service.download_datasets(start=start, date_offset=1)"
   ]
  },
  {
   "cell_type": "code",
   "execution_count": null,
   "metadata": {},
   "outputs": [],
   "source": []
  },
  {
   "cell_type": "code",
   "execution_count": null,
   "metadata": {},
   "outputs": [],
   "source": []
  },
  {
   "cell_type": "code",
   "execution_count": null,
   "metadata": {},
   "outputs": [],
   "source": []
  },
  {
   "cell_type": "code",
   "execution_count": null,
   "metadata": {},
   "outputs": [],
   "source": [
    "from pathlib import Path"
   ]
  },
  {
   "cell_type": "code",
   "execution_count": null,
   "metadata": {},
   "outputs": [],
   "source": [
    "path = Path(\"/Users/badrbenmbarek/Documents/work/git/weather-weaver/data/ecmwf/raw/oper/20240104_12z_0-90_fc.grib2\")"
   ]
  },
  {
   "cell_type": "code",
   "execution_count": null,
   "metadata": {},
   "outputs": [],
   "source": []
  },
  {
   "cell_type": "code",
   "execution_count": null,
   "metadata": {},
   "outputs": [],
   "source": []
  },
  {
   "cell_type": "code",
   "execution_count": null,
   "metadata": {},
   "outputs": [],
   "source": []
  },
  {
   "cell_type": "code",
   "execution_count": null,
   "metadata": {},
   "outputs": [],
   "source": []
  },
  {
   "cell_type": "code",
   "execution_count": null,
   "metadata": {},
   "outputs": [],
   "source": []
  },
  {
   "cell_type": "code",
   "execution_count": null,
   "metadata": {},
   "outputs": [],
   "source": []
  },
  {
   "cell_type": "code",
   "execution_count": null,
   "metadata": {},
   "outputs": [],
   "source": []
  },
  {
   "cell_type": "code",
   "execution_count": null,
   "metadata": {},
   "outputs": [],
   "source": [
    "import datetime as dt\n",
    "\n",
    "import dask.dataframe as dd\n",
    "import pandas as pd\n",
    "import plotly.express as px\n",
    "import xarray as xr\n",
    "import structlog\n",
    "\n",
    "from weather_weaver.constants import load_world_countries\n",
    "from weather_weaver.inputs.ecmwf.constants import ENTSO_E_ISO3_LIST, PROCESSED_DIR\n",
    "from weather_weaver.outputs.localfs.client import LocalClient as LocalfsClient\n",
    "\n",
    "from weather_weaver.inputs.ecmwf.open_data import (\n",
    "    ECMWFOpenDataFetcher,\n",
    "    ECMWFOpenDataRequest,\n",
    "    EMCWFOpenDataProcessor,\n",
    "    GeoFilterModel,\n",
    "    StreamType,\n",
    "    RunTime,\n",
    "    RequestType,\n",
    ")\n",
    "\n",
    "pd.set_option(\"display.max_columns\", 500)\n",
    "\n",
    "logger = structlog.getLogger()"
   ]
  },
  {
   "cell_type": "code",
   "execution_count": null,
   "metadata": {},
   "outputs": [],
   "source": [
    "run_date = dt.date(2024, 1, 1)\n",
    "run_time = RunTime.H00\n",
    "stream =  StreamType.OPER\n",
    "request_type = RequestType.FORECAST\n",
    "\n",
    "data_request = ECMWFOpenDataRequest(\n",
    "    run_date=run_date,\n",
    "    run_time=run_time,\n",
    "    stream=stream,\n",
    "    request_type=request_type,\n",
    ")"
   ]
  },
  {
   "cell_type": "code",
   "execution_count": null,
   "metadata": {},
   "outputs": [],
   "source": [
    "storage_client = LocalfsClient()\n",
    "fetcher = ECMWFOpenDataFetcher()"
   ]
  },
  {
   "cell_type": "code",
   "execution_count": null,
   "metadata": {},
   "outputs": [],
   "source": [
    "output_path = PROCESSED_DIR / f\"{data_request.file_name}.parquet\"\n",
    "if storage_client.exists(path=output_path):\n",
    "    logger.info(\n",
    "        event=\"NWP data already downloaded, skipping!\",\n",
    "        request=data_request,\n",
    "    )\n",
    "    pass"
   ]
  },
  {
   "cell_type": "code",
   "execution_count": null,
   "metadata": {},
   "outputs": [],
   "source": [
    "out_path = fetcher.download_raw_files(data_request)"
   ]
  },
  {
   "cell_type": "code",
   "execution_count": null,
   "metadata": {},
   "outputs": [],
   "source": [
    "processor = EMCWFOpenDataProcessor()"
   ]
  },
  {
   "cell_type": "code",
   "execution_count": null,
   "metadata": {},
   "outputs": [],
   "source": [
    "ddf = processor.transform(raw_path=out_path, request=data_request, filter_model=geo_filter)"
   ]
  },
  {
   "cell_type": "code",
   "execution_count": null,
   "metadata": {},
   "outputs": [],
   "source": []
  },
  {
   "cell_type": "code",
   "execution_count": null,
   "metadata": {},
   "outputs": [],
   "source": [
    "storage_client.store(ddf=ddf, destination_path=output_path)"
   ]
  },
  {
   "cell_type": "code",
   "execution_count": null,
   "metadata": {},
   "outputs": [],
   "source": []
  },
  {
   "cell_type": "code",
   "execution_count": null,
   "metadata": {},
   "outputs": [],
   "source": [
    "# read back saved parquet file"
   ]
  },
  {
   "cell_type": "code",
   "execution_count": null,
   "metadata": {},
   "outputs": [],
   "source": [
    "test_df = dd.read_parquet(output_path)"
   ]
  },
  {
   "cell_type": "code",
   "execution_count": null,
   "metadata": {},
   "outputs": [],
   "source": [
    "test_df"
   ]
  },
  {
   "cell_type": "code",
   "execution_count": null,
   "metadata": {},
   "outputs": [],
   "source": [
    "tt = test_df.groupby([\"timestamp\", \"country_name\"]).agg(\n",
    "    {\"u10\": \"mean\", \"v10\": \"mean\", \"t2m\": \"mean\", \"tp\": \"mean\"}\n",
    ")"
   ]
  },
  {
   "cell_type": "code",
   "execution_count": null,
   "metadata": {},
   "outputs": [],
   "source": [
    "ttt = tt.compute()"
   ]
  },
  {
   "cell_type": "code",
   "execution_count": null,
   "metadata": {},
   "outputs": [],
   "source": [
    "fig = px.line(ttt.reset_index(), x=\"value_datetime\", y=\"value\", color=\"NAME\", facet_col=\"variable\")\n",
    "fig.show()"
   ]
  },
  {
   "cell_type": "code",
   "execution_count": null,
   "metadata": {},
   "outputs": [],
   "source": []
  },
  {
   "cell_type": "code",
   "execution_count": null,
   "metadata": {},
   "outputs": [],
   "source": [
    "path = \"/Users/badrbenmbarek/Downloads/ECMWF_HRES_06Z_20190101.nc\""
   ]
  },
  {
   "cell_type": "code",
   "execution_count": null,
   "metadata": {},
   "outputs": [],
   "source": [
    "dds = xr.open_dataset(path)\n",
    "dds."
   ]
  },
  {
   "cell_type": "code",
   "execution_count": null,
   "metadata": {},
   "outputs": [],
   "source": []
  },
  {
   "cell_type": "code",
   "execution_count": null,
   "metadata": {},
   "outputs": [],
   "source": []
  },
  {
   "cell_type": "code",
   "execution_count": null,
   "metadata": {},
   "outputs": [],
   "source": []
  },
  {
   "cell_type": "code",
   "execution_count": null,
   "metadata": {},
   "outputs": [],
   "source": [
    "area: str = \"uk\"\n",
    "hours: int = 48\n",
    "param_group: str = \"basic\"\n",
    "\n",
    "start = dt.date(2023, 12, 26)\n",
    "end = dt.date(2023, 12, 27)"
   ]
  },
  {
   "cell_type": "code",
   "execution_count": null,
   "metadata": {},
   "outputs": [],
   "source": [
    "match param_group:\n",
    "    case \"basic\":\n",
    "        parameters = [\"167.128/169.128\"]  # 2 Metre Temperature, Dswrf\n",
    "    case _:\n",
    "        parameters = list(PARAMETER_ECMWFCODE_MAP.keys())"
   ]
  },
  {
   "cell_type": "code",
   "execution_count": null,
   "metadata": {},
   "outputs": [],
   "source": [
    "all_init_times: list[dt.datetime] = [\n",
    "    pdt.to_pydatetime()\n",
    "    for pdt in pd.date_range(\n",
    "        start=start,\n",
    "        end=end + dt.timedelta(days=1),\n",
    "        inclusive=\"left\",\n",
    "        freq=\"H\",\n",
    "        tz=dt.UTC,\n",
    "    ).tolist()\n",
    "    if pdt.hour in [0, 6, 12, 18]\n",
    "]"
   ]
  },
  {
   "cell_type": "code",
   "execution_count": null,
   "metadata": {},
   "outputs": [],
   "source": [
    "for init_time in all_init_times:\n",
    "    mars_request = buildMarsRequest(parameters=parameters, hours=hours, area=area, it=init_time, list_only=True, target=\"test.txt\")\n",
    "    break"
   ]
  },
  {
   "cell_type": "code",
   "execution_count": null,
   "metadata": {},
   "outputs": [],
   "source": [
    "print(mars_request)"
   ]
  },
  {
   "cell_type": "code",
   "execution_count": null,
   "metadata": {},
   "outputs": [],
   "source": [
    "server.execute(mars_request, target=\"test.txt\")"
   ]
  },
  {
   "cell_type": "code",
   "execution_count": null,
   "metadata": {},
   "outputs": [],
   "source": []
  }
 ],
 "metadata": {
  "kernelspec": {
   "display_name": ".venv",
   "language": "python",
   "name": "python3"
  },
  "language_info": {
   "codemirror_mode": {
    "name": "ipython",
    "version": 3
   },
   "file_extension": ".py",
   "mimetype": "text/x-python",
   "name": "python",
   "nbconvert_exporter": "python",
   "pygments_lexer": "ipython3",
   "version": "3.12.1"
  }
 },
 "nbformat": 4,
 "nbformat_minor": 2
}
