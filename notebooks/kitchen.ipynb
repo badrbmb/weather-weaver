{
 "cells": [
  {
   "cell_type": "code",
   "execution_count": 1,
   "metadata": {},
   "outputs": [],
   "source": [
    "%load_ext autoreload\n",
    "%autoreload 2"
   ]
  },
  {
   "cell_type": "markdown",
   "metadata": {},
   "source": [
    "# Filter model"
   ]
  },
  {
   "cell_type": "code",
   "execution_count": null,
   "metadata": {},
   "outputs": [],
   "source": [
    "from weather_weaver.models.geo import BoundingBox, GeoFilterModel\n",
    "from weather_weaver.constants import EUROPE_BOUNDING_BOX_STR, ENTSO_E_ISO3_LIST\n",
    "import pandas as pd\n",
    "pd.set_option(\"display.max_columns\", 500)"
   ]
  },
  {
   "cell_type": "code",
   "execution_count": null,
   "metadata": {},
   "outputs": [],
   "source": [
    "bb = BoundingBox.from_str(EUROPE_BOUNDING_BOX_STR)"
   ]
  },
  {
   "cell_type": "code",
   "execution_count": null,
   "metadata": {},
   "outputs": [],
   "source": [
    "geofilter = GeoFilterModel.from_bounding_box(bb)\n",
    "geofilter = geofilter.filter_iso3s(list_iso3s=ENTSO_E_ISO3_LIST)"
   ]
  },
  {
   "cell_type": "code",
   "execution_count": null,
   "metadata": {},
   "outputs": [],
   "source": [
    "gdf = geofilter.filter_df"
   ]
  },
  {
   "cell_type": "code",
   "execution_count": null,
   "metadata": {},
   "outputs": [],
   "source": [
    "gdf.query(\"country_name in ['France', 'Portugal']\")"
   ]
  },
  {
   "cell_type": "code",
   "execution_count": null,
   "metadata": {},
   "outputs": [],
   "source": [
    "gdf.explore()"
   ]
  },
  {
   "cell_type": "markdown",
   "metadata": {},
   "source": [
    "# ERA5 download"
   ]
  },
  {
   "cell_type": "code",
   "execution_count": null,
   "metadata": {},
   "outputs": [],
   "source": [
    "EUROPE_BOUNDING_BOX_STR"
   ]
  },
  {
   "cell_type": "code",
   "execution_count": null,
   "metadata": {},
   "outputs": [],
   "source": [
    "import cdsapi\n",
    "\n",
    "from weather_weaver.models.geo import BoundingBox, GeoFilterModel\n",
    "from weather_weaver.constants import EUROPE_BOUNDING_BOX_STR, ENTSO_E_ISO3_LIST"
   ]
  },
  {
   "cell_type": "code",
   "execution_count": null,
   "metadata": {},
   "outputs": [],
   "source": [
    "bb = BoundingBox.from_str(EUROPE_BOUNDING_BOX_STR)\n",
    "\n",
    "geofilter = GeoFilterModel.from_bounding_box(bb)\n",
    "geofilter = geofilter.filter_iso3s(list_iso3s=ENTSO_E_ISO3_LIST)"
   ]
  },
  {
   "cell_type": "code",
   "execution_count": 3,
   "metadata": {},
   "outputs": [],
   "source": [
    "import cfgrib"
   ]
  },
  {
   "cell_type": "code",
   "execution_count": 4,
   "metadata": {},
   "outputs": [],
   "source": [
    "from weather_weaver.inputs.ecmwf.processor import EMCWFProcessor"
   ]
  },
  {
   "cell_type": "code",
   "execution_count": 5,
   "metadata": {},
   "outputs": [],
   "source": [
    "path = \"../data/ecmwf/raw/reanalysis-era5-single-levels/adaptor.mars.internal-1704903376.3535135-5070-2-78522e2f-e12c-4b64-b61e-e7ef8d3feec9.grib\"\n",
    "\n",
    "processor = EMCWFProcessor()\n",
    "\n",
    "# dd = processor.transform(path, geo_filter=geofilter)"
   ]
  },
  {
   "cell_type": "code",
   "execution_count": 6,
   "metadata": {},
   "outputs": [
    {
     "data": {
      "text/plain": [
       "[<xarray.Dataset>\n",
       " Dimensions:     (time: 26304, latitude: 147, longitude: 234)\n",
       " Coordinates:\n",
       "     number      int64 0\n",
       "   * time        (time) datetime64[ns] 2020-01-01 ... 2022-12-31T23:00:00\n",
       "     step        timedelta64[ns] 00:00:00\n",
       "     surface     float64 0.0\n",
       "   * latitude    (latitude) float64 71.07 70.82 70.57 70.32 ... 35.07 34.82 34.57\n",
       "   * longitude   (longitude) float64 -24.33 -24.08 -23.83 ... 33.42 33.67 33.92\n",
       "     valid_time  (time) datetime64[ns] dask.array<chunksize=(1,), meta=np.ndarray>\n",
       " Data variables:\n",
       "     u10         (time, latitude, longitude) float32 dask.array<chunksize=(1, 147, 234), meta=np.ndarray>\n",
       "     v10         (time, latitude, longitude) float32 dask.array<chunksize=(1, 147, 234), meta=np.ndarray>\n",
       "     t2m         (time, latitude, longitude) float32 dask.array<chunksize=(1, 147, 234), meta=np.ndarray>\n",
       " Attributes:\n",
       "     GRIB_edition:            1\n",
       "     GRIB_centre:             ecmf\n",
       "     GRIB_centreDescription:  European Centre for Medium-Range Weather Forecasts\n",
       "     GRIB_subCentre:          0\n",
       "     Conventions:             CF-1.7\n",
       "     institution:             European Centre for Medium-Range Weather Forecasts,\n",
       " <xarray.Dataset>\n",
       " Dimensions:     (time: 2193, step: 12, latitude: 147, longitude: 234)\n",
       " Coordinates:\n",
       "     number      int64 0\n",
       "   * time        (time) datetime64[ns] 2019-12-31T18:00:00 ... 2022-12-31T18:0...\n",
       "   * step        (step) timedelta64[ns] 01:00:00 02:00:00 ... 11:00:00 12:00:00\n",
       "     surface     float64 0.0\n",
       "   * latitude    (latitude) float64 71.07 70.82 70.57 70.32 ... 35.07 34.82 34.57\n",
       "   * longitude   (longitude) float64 -24.33 -24.08 -23.83 ... 33.42 33.67 33.92\n",
       "     valid_time  (time, step) datetime64[ns] dask.array<chunksize=(1, 12), meta=np.ndarray>\n",
       " Data variables:\n",
       "     tp          (time, step, latitude, longitude) float32 dask.array<chunksize=(1, 12, 147, 234), meta=np.ndarray>\n",
       " Attributes:\n",
       "     GRIB_edition:            1\n",
       "     GRIB_centre:             ecmf\n",
       "     GRIB_centreDescription:  European Centre for Medium-Range Weather Forecasts\n",
       "     GRIB_subCentre:          0\n",
       "     Conventions:             CF-1.7\n",
       "     institution:             European Centre for Medium-Range Weather Forecasts]"
      ]
     },
     "execution_count": 6,
     "metadata": {},
     "output_type": "execute_result"
    }
   ],
   "source": [
    "datasets = processor.load(path)\n",
    "datasets"
   ]
  },
  {
   "cell_type": "code",
   "execution_count": 7,
   "metadata": {},
   "outputs": [],
   "source": [
    "dataset = processor.merge_datasets(datasets)\n",
    "# ddf = dataset.to_dask_dataframe()"
   ]
  },
  {
   "cell_type": "code",
   "execution_count": null,
   "metadata": {},
   "outputs": [],
   "source": [
    "ddf = dd.groupby([\"run_time\", \"timestamp\", \"country_name\"]).agg({\"t2m\": \"mean\"}).compute()"
   ]
  },
  {
   "cell_type": "code",
   "execution_count": null,
   "metadata": {},
   "outputs": [],
   "source": [
    "ddf_plot = ddf.reset_index()\n",
    "ddf_plot = ddf_plot.query(\"country_name in ['Norway', 'France']\")"
   ]
  },
  {
   "cell_type": "code",
   "execution_count": null,
   "metadata": {},
   "outputs": [],
   "source": [
    "import plotly.express as px"
   ]
  },
  {
   "cell_type": "code",
   "execution_count": null,
   "metadata": {},
   "outputs": [],
   "source": [
    "\n",
    "fig = px.line(ddf_plot, x=\"timestamp\", y=\"t2m\", color=\"run_time\", facet_row=\"country_name\")\n",
    "fig.show()"
   ]
  },
  {
   "cell_type": "code",
   "execution_count": null,
   "metadata": {},
   "outputs": [],
   "source": []
  },
  {
   "cell_type": "code",
   "execution_count": null,
   "metadata": {},
   "outputs": [],
   "source": []
  },
  {
   "cell_type": "code",
   "execution_count": null,
   "metadata": {},
   "outputs": [],
   "source": []
  },
  {
   "cell_type": "code",
   "execution_count": null,
   "metadata": {},
   "outputs": [],
   "source": []
  },
  {
   "cell_type": "code",
   "execution_count": null,
   "metadata": {},
   "outputs": [],
   "source": []
  },
  {
   "cell_type": "code",
   "execution_count": null,
   "metadata": {},
   "outputs": [],
   "source": []
  },
  {
   "cell_type": "code",
   "execution_count": null,
   "metadata": {},
   "outputs": [],
   "source": [
    "import cfgrib"
   ]
  },
  {
   "cell_type": "code",
   "execution_count": null,
   "metadata": {},
   "outputs": [],
   "source": [
    "path = \"/Users/badrbenmbarek/Documents/work/git/weather-weaver/ec.oper.fc.sfc.128_165_10u.regn1280sc.20190101-20190527.grb.spasub.benmbarek722612/ec.oper.fc.sfc.128_165_10u.regn1280sc.20190101.grb.spasub.benmbarek722612\"\n",
    "ddd  = cfgrib.open_datasets(\n",
    "    path=path,\n",
    "    chunks={\n",
    "        \"time\": 1,\n",
    "        \"step\": -1,\n",
    "        \"longitude\": \"auto\",\n",
    "        \"latitude\": \"auto\",\n",
    "    },\n",
    "    backend_kwargs={\"indexpath\": \"\"},\n",
    ")"
   ]
  },
  {
   "cell_type": "code",
   "execution_count": null,
   "metadata": {},
   "outputs": [],
   "source": [
    "ddd[0]"
   ]
  },
  {
   "cell_type": "code",
   "execution_count": null,
   "metadata": {},
   "outputs": [],
   "source": []
  },
  {
   "cell_type": "code",
   "execution_count": null,
   "metadata": {},
   "outputs": [],
   "source": []
  },
  {
   "cell_type": "code",
   "execution_count": null,
   "metadata": {},
   "outputs": [],
   "source": []
  },
  {
   "cell_type": "code",
   "execution_count": null,
   "metadata": {},
   "outputs": [],
   "source": [
    "const"
   ]
  },
  {
   "cell_type": "code",
   "execution_count": null,
   "metadata": {},
   "outputs": [],
   "source": [
    "from weather_weaver.models.geo import GeoFilterModel, BoundingBox\n",
    "from weather_weaver.constants import ENTSO_E_ISO3_LIST"
   ]
  },
  {
   "cell_type": "code",
   "execution_count": null,
   "metadata": {},
   "outputs": [],
   "source": [
    "filter_model = GeoFilterModel.filter_iso3s(ENTSO_E_ISO3_LIST)"
   ]
  },
  {
   "cell_type": "code",
   "execution_count": null,
   "metadata": {},
   "outputs": [],
   "source": [
    "filter_model.bounds"
   ]
  },
  {
   "cell_type": "code",
   "execution_count": null,
   "metadata": {},
   "outputs": [],
   "source": []
  },
  {
   "cell_type": "code",
   "execution_count": null,
   "metadata": {},
   "outputs": [],
   "source": []
  },
  {
   "cell_type": "code",
   "execution_count": null,
   "metadata": {},
   "outputs": [],
   "source": [
    "import dask_geopandas as dask_gpd\n",
    "import geopandas as gpd\n",
    "import pandas as pd"
   ]
  },
  {
   "cell_type": "code",
   "execution_count": null,
   "metadata": {},
   "outputs": [],
   "source": [
    "df = pd.DataFrame({'longitude': [-140, 0, 123], 'latitude': [-65, 1, 48]}) "
   ]
  },
  {
   "cell_type": "code",
   "execution_count": null,
   "metadata": {},
   "outputs": [],
   "source": [
    "ddf = dask_gpd.from_geopandas(df, npartitions=1)\n",
    "geometry = dask_gpd.points_from_xy(ddf.longitude, ddf.latitude, crs=\"EPSG:4326\")\n",
    "ddf = dask_gpd.from_dask_dataframe(ddf, geometry=geometry)"
   ]
  },
  {
   "cell_type": "code",
   "execution_count": null,
   "metadata": {},
   "outputs": [],
   "source": [
    "ddf.crs = 'EPSG:4326'"
   ]
  },
  {
   "cell_type": "code",
   "execution_count": null,
   "metadata": {},
   "outputs": [],
   "source": [
    "ddf.crs"
   ]
  },
  {
   "cell_type": "markdown",
   "metadata": {},
   "source": [
    "# Kill dask clusters"
   ]
  },
  {
   "cell_type": "code",
   "execution_count": null,
   "metadata": {},
   "outputs": [],
   "source": [
    "from distributed.client import _global_clients"
   ]
  },
  {
   "cell_type": "code",
   "execution_count": null,
   "metadata": {},
   "outputs": [],
   "source": [
    "for k, v in _global_clients.items():\n",
    "    print(k, v)"
   ]
  },
  {
   "cell_type": "code",
   "execution_count": null,
   "metadata": {},
   "outputs": [],
   "source": [
    "# _global_clients[0].cluster.close()"
   ]
  },
  {
   "cell_type": "markdown",
   "metadata": {},
   "source": [
    "# Explore processed results"
   ]
  },
  {
   "cell_type": "code",
   "execution_count": null,
   "metadata": {},
   "outputs": [],
   "source": [
    "import pandas as pd\n",
    "import dask.dataframe as dd\n",
    "from pathlib import Path\n",
    "import plotly.express as px"
   ]
  },
  {
   "cell_type": "code",
   "execution_count": null,
   "metadata": {},
   "outputs": [],
   "source": [
    "files = Path(\"../data/ecmwf/processed/oper/\").glob(\"*/*.parquet\")\n",
    "ddf = dd.read_parquet(list(files))"
   ]
  },
  {
   "cell_type": "code",
   "execution_count": null,
   "metadata": {},
   "outputs": [],
   "source": [
    "df_tmp = ddf.groupby([\"run_time\", \"timestamp\", \"country_name\"]).agg({\"t2m\": \"mean\"}).compute()\n",
    "df_tmp.reset_index(inplace=True)"
   ]
  },
  {
   "cell_type": "code",
   "execution_count": null,
   "metadata": {},
   "outputs": [],
   "source": [
    "df_plot = df_tmp.query(\"country_name in ['Norway', 'France']\")\n",
    "fig = px.line(df_plot, x=\"timestamp\", y=\"t2m\", color=\"run_time\", facet_row=\"country_name\")\n",
    "fig.show()"
   ]
  },
  {
   "cell_type": "code",
   "execution_count": null,
   "metadata": {},
   "outputs": [],
   "source": []
  },
  {
   "cell_type": "markdown",
   "metadata": {},
   "source": [
    "# Using service"
   ]
  },
  {
   "cell_type": "code",
   "execution_count": null,
   "metadata": {},
   "outputs": [],
   "source": [
    "import datetime as dt\n",
    "from weather_weaver.services.service import WeatherConsumerService\n",
    "\n",
    "from weather_weaver.outputs.localfs.client import LocalClient\n",
    "from weather_weaver.inputs.ecmwf import constants as ecmwf_constants\n",
    "from weather_weaver.inputs.ecmwf.open_data.fetcher import ECMWFOpenDataFetcher\n",
    "from weather_weaver.inputs.ecmwf.open_data.request import ECMWFOpenDataRequestBuilder\n",
    "from weather_weaver.inputs.ecmwf.processor import EMCWFProcessor"
   ]
  },
  {
   "cell_type": "code",
   "execution_count": null,
   "metadata": {},
   "outputs": [],
   "source": [
    "fetcher = ECMWFOpenDataFetcher()\n",
    "request_builder = ECMWFOpenDataRequestBuilder()\n",
    "processor = EMCWFProcessor()\n",
    "storer = LocalClient()"
   ]
  },
  {
   "cell_type": "code",
   "execution_count": null,
   "metadata": {},
   "outputs": [],
   "source": [
    "service = WeatherConsumerService(\n",
    "    request_builder=request_builder,\n",
    "    raw_dir=ecmwf_constants.RAW_DIR,\n",
    "    processed_dir=ecmwf_constants.PROCESSED_DIR,\n",
    "    fetcher=fetcher,\n",
    "    processor=processor,\n",
    "    storer=storer,\n",
    ")"
   ]
  },
  {
   "cell_type": "code",
   "execution_count": null,
   "metadata": {},
   "outputs": [],
   "source": [
    "start = dt.date(2024, 1, 4)\n",
    "date_offset = 1"
   ]
  },
  {
   "cell_type": "code",
   "execution_count": null,
   "metadata": {},
   "outputs": [],
   "source": [
    "all_requests = service._build_default_requests(start=start, date_offset=date_offset)\n",
    "\n",
    "# check the ones already processed\n",
    "all_new_requests = [\n",
    "    t for t in all_requests if not service.storer.exists(path=service.processed_dir / t.file_name)\n",
    "]\n",
    "\n",
    "pipeline = (\n",
    "    service._build_dask_pipeline(all_new_requests) if len(all_new_requests) > 0 else None\n",
    ")"
   ]
  },
  {
   "cell_type": "code",
   "execution_count": null,
   "metadata": {},
   "outputs": [],
   "source": [
    "pipeline.visualize()"
   ]
  },
  {
   "cell_type": "code",
   "execution_count": null,
   "metadata": {},
   "outputs": [],
   "source": [
    "processed_files = service.download_datasets(start=start, date_offset=1)"
   ]
  },
  {
   "cell_type": "code",
   "execution_count": null,
   "metadata": {},
   "outputs": [],
   "source": []
  },
  {
   "cell_type": "code",
   "execution_count": null,
   "metadata": {},
   "outputs": [],
   "source": []
  },
  {
   "cell_type": "code",
   "execution_count": null,
   "metadata": {},
   "outputs": [],
   "source": []
  },
  {
   "cell_type": "code",
   "execution_count": null,
   "metadata": {},
   "outputs": [],
   "source": [
    "from pathlib import Path"
   ]
  },
  {
   "cell_type": "code",
   "execution_count": null,
   "metadata": {},
   "outputs": [],
   "source": [
    "path = Path(\"/Users/badrbenmbarek/Documents/work/git/weather-weaver/data/ecmwf/raw/oper/20240104_12z_0-90_fc.grib2\")"
   ]
  },
  {
   "cell_type": "code",
   "execution_count": null,
   "metadata": {},
   "outputs": [],
   "source": []
  },
  {
   "cell_type": "code",
   "execution_count": null,
   "metadata": {},
   "outputs": [],
   "source": []
  },
  {
   "cell_type": "code",
   "execution_count": null,
   "metadata": {},
   "outputs": [],
   "source": []
  },
  {
   "cell_type": "code",
   "execution_count": null,
   "metadata": {},
   "outputs": [],
   "source": []
  },
  {
   "cell_type": "code",
   "execution_count": null,
   "metadata": {},
   "outputs": [],
   "source": []
  },
  {
   "cell_type": "code",
   "execution_count": null,
   "metadata": {},
   "outputs": [],
   "source": []
  },
  {
   "cell_type": "code",
   "execution_count": null,
   "metadata": {},
   "outputs": [],
   "source": []
  },
  {
   "cell_type": "code",
   "execution_count": null,
   "metadata": {},
   "outputs": [],
   "source": [
    "import datetime as dt\n",
    "\n",
    "import dask.dataframe as dd\n",
    "import pandas as pd\n",
    "import plotly.express as px\n",
    "import xarray as xr\n",
    "import structlog\n",
    "\n",
    "from weather_weaver.constants import load_world_countries\n",
    "from weather_weaver.inputs.ecmwf.constants import ENTSO_E_ISO3_LIST, PROCESSED_DIR\n",
    "from weather_weaver.outputs.localfs.client import LocalClient as LocalfsClient\n",
    "\n",
    "from weather_weaver.inputs.ecmwf.open_data import (\n",
    "    ECMWFOpenDataFetcher,\n",
    "    ECMWFOpenDataRequest,\n",
    "    EMCWFOpenDataProcessor,\n",
    "    GeoFilterModel,\n",
    "    StreamType,\n",
    "    RunTime,\n",
    "    RequestType,\n",
    ")\n",
    "\n",
    "pd.set_option(\"display.max_columns\", 500)\n",
    "\n",
    "logger = structlog.getLogger()"
   ]
  },
  {
   "cell_type": "code",
   "execution_count": null,
   "metadata": {},
   "outputs": [],
   "source": [
    "run_date = dt.date(2024, 1, 1)\n",
    "run_time = RunTime.H00\n",
    "stream =  StreamType.OPER\n",
    "request_type = RequestType.FORECAST\n",
    "\n",
    "data_request = ECMWFOpenDataRequest(\n",
    "    run_date=run_date,\n",
    "    run_time=run_time,\n",
    "    stream=stream,\n",
    "    request_type=request_type,\n",
    ")"
   ]
  },
  {
   "cell_type": "code",
   "execution_count": null,
   "metadata": {},
   "outputs": [],
   "source": [
    "storage_client = LocalfsClient()\n",
    "fetcher = ECMWFOpenDataFetcher()"
   ]
  },
  {
   "cell_type": "code",
   "execution_count": null,
   "metadata": {},
   "outputs": [],
   "source": [
    "output_path = PROCESSED_DIR / f\"{data_request.file_name}.parquet\"\n",
    "if storage_client.exists(path=output_path):\n",
    "    logger.info(\n",
    "        event=\"NWP data already downloaded, skipping!\",\n",
    "        request=data_request,\n",
    "    )\n",
    "    pass"
   ]
  },
  {
   "cell_type": "code",
   "execution_count": null,
   "metadata": {},
   "outputs": [],
   "source": [
    "out_path = fetcher.download_raw_files(data_request)"
   ]
  },
  {
   "cell_type": "code",
   "execution_count": null,
   "metadata": {},
   "outputs": [],
   "source": [
    "processor = EMCWFOpenDataProcessor()"
   ]
  },
  {
   "cell_type": "code",
   "execution_count": null,
   "metadata": {},
   "outputs": [],
   "source": [
    "ddf = processor.transform(raw_path=out_path, request=data_request, filter_model=geo_filter)"
   ]
  },
  {
   "cell_type": "code",
   "execution_count": null,
   "metadata": {},
   "outputs": [],
   "source": []
  },
  {
   "cell_type": "code",
   "execution_count": null,
   "metadata": {},
   "outputs": [],
   "source": [
    "storage_client.store(ddf=ddf, destination_path=output_path)"
   ]
  },
  {
   "cell_type": "code",
   "execution_count": null,
   "metadata": {},
   "outputs": [],
   "source": []
  },
  {
   "cell_type": "code",
   "execution_count": null,
   "metadata": {},
   "outputs": [],
   "source": [
    "# read back saved parquet file"
   ]
  },
  {
   "cell_type": "code",
   "execution_count": null,
   "metadata": {},
   "outputs": [],
   "source": [
    "test_df = dd.read_parquet(output_path)"
   ]
  },
  {
   "cell_type": "code",
   "execution_count": null,
   "metadata": {},
   "outputs": [],
   "source": [
    "test_df"
   ]
  },
  {
   "cell_type": "code",
   "execution_count": null,
   "metadata": {},
   "outputs": [],
   "source": [
    "tt = test_df.groupby([\"timestamp\", \"country_name\"]).agg(\n",
    "    {\"u10\": \"mean\", \"v10\": \"mean\", \"t2m\": \"mean\", \"tp\": \"mean\"}\n",
    ")"
   ]
  },
  {
   "cell_type": "code",
   "execution_count": null,
   "metadata": {},
   "outputs": [],
   "source": [
    "ttt = tt.compute()"
   ]
  },
  {
   "cell_type": "code",
   "execution_count": null,
   "metadata": {},
   "outputs": [],
   "source": [
    "fig = px.line(ttt.reset_index(), x=\"value_datetime\", y=\"value\", color=\"NAME\", facet_col=\"variable\")\n",
    "fig.show()"
   ]
  },
  {
   "cell_type": "code",
   "execution_count": null,
   "metadata": {},
   "outputs": [],
   "source": []
  },
  {
   "cell_type": "code",
   "execution_count": null,
   "metadata": {},
   "outputs": [],
   "source": [
    "path = \"/Users/badrbenmbarek/Downloads/ECMWF_HRES_06Z_20190101.nc\""
   ]
  },
  {
   "cell_type": "code",
   "execution_count": null,
   "metadata": {},
   "outputs": [],
   "source": [
    "dds = xr.open_dataset(path)\n",
    "dds."
   ]
  },
  {
   "cell_type": "code",
   "execution_count": null,
   "metadata": {},
   "outputs": [],
   "source": []
  },
  {
   "cell_type": "code",
   "execution_count": null,
   "metadata": {},
   "outputs": [],
   "source": []
  },
  {
   "cell_type": "code",
   "execution_count": null,
   "metadata": {},
   "outputs": [],
   "source": []
  },
  {
   "cell_type": "code",
   "execution_count": null,
   "metadata": {},
   "outputs": [],
   "source": [
    "area: str = \"uk\"\n",
    "hours: int = 48\n",
    "param_group: str = \"basic\"\n",
    "\n",
    "start = dt.date(2023, 12, 26)\n",
    "end = dt.date(2023, 12, 27)"
   ]
  },
  {
   "cell_type": "code",
   "execution_count": null,
   "metadata": {},
   "outputs": [],
   "source": [
    "match param_group:\n",
    "    case \"basic\":\n",
    "        parameters = [\"167.128/169.128\"]  # 2 Metre Temperature, Dswrf\n",
    "    case _:\n",
    "        parameters = list(PARAMETER_ECMWFCODE_MAP.keys())"
   ]
  },
  {
   "cell_type": "code",
   "execution_count": null,
   "metadata": {},
   "outputs": [],
   "source": [
    "all_init_times: list[dt.datetime] = [\n",
    "    pdt.to_pydatetime()\n",
    "    for pdt in pd.date_range(\n",
    "        start=start,\n",
    "        end=end + dt.timedelta(days=1),\n",
    "        inclusive=\"left\",\n",
    "        freq=\"H\",\n",
    "        tz=dt.UTC,\n",
    "    ).tolist()\n",
    "    if pdt.hour in [0, 6, 12, 18]\n",
    "]"
   ]
  },
  {
   "cell_type": "code",
   "execution_count": null,
   "metadata": {},
   "outputs": [],
   "source": [
    "for init_time in all_init_times:\n",
    "    mars_request = buildMarsRequest(parameters=parameters, hours=hours, area=area, it=init_time, list_only=True, target=\"test.txt\")\n",
    "    break"
   ]
  },
  {
   "cell_type": "code",
   "execution_count": null,
   "metadata": {},
   "outputs": [],
   "source": [
    "print(mars_request)"
   ]
  },
  {
   "cell_type": "code",
   "execution_count": null,
   "metadata": {},
   "outputs": [],
   "source": [
    "server.execute(mars_request, target=\"test.txt\")"
   ]
  },
  {
   "cell_type": "code",
   "execution_count": null,
   "metadata": {},
   "outputs": [],
   "source": []
  }
 ],
 "metadata": {
  "kernelspec": {
   "display_name": ".venv",
   "language": "python",
   "name": "python3"
  },
  "language_info": {
   "codemirror_mode": {
    "name": "ipython",
    "version": 3
   },
   "file_extension": ".py",
   "mimetype": "text/x-python",
   "name": "python",
   "nbconvert_exporter": "python",
   "pygments_lexer": "ipython3",
   "version": "3.12.1"
  }
 },
 "nbformat": 4,
 "nbformat_minor": 2
}
